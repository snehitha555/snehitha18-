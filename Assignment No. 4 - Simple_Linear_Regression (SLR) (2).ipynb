{
  "metadata": {
    "kernelspec": {
      "name": "python",
      "display_name": "Python (Pyodide)",
      "language": "python"
    },
    "language_info": {
      "codemirror_mode": {
        "name": "python",
        "version": 3
      },
      "file_extension": ".py",
      "mimetype": "text/x-python",
      "name": "python",
      "nbconvert_exporter": "python",
      "pygments_lexer": "ipython3",
      "version": "3.8"
    }
  },
  "nbformat_minor": 5,
  "nbformat": 4,
  "cells": [
    {
      "cell_type": "markdown",
      "source": "# Assignment No. - 4 : Simple Linear Regression",
      "metadata": {},
      "id": "4dcbe44b"
    },
    {
      "cell_type": "markdown",
      "source": "## **Q.1) Delivery_time -> Predict delivery time using sorting time**\n\nBuild a simple linear regression model by performing EDA \nand do necessary transformations and select the best model using  Python.",
      "metadata": {},
      "id": "419ee4d5-5887-42b4-af6f-2cc838bbacb7"
    },
    {
      "cell_type": "markdown",
      "source": "# Importing Libraries",
      "metadata": {},
      "id": "169235b1"
    },
    {
      "cell_type": "code",
      "source": "import pandas as pd\n\nfrom matplotlib import pyplot as plt\nimport seaborn as sns\nimport numpy as np\n\nfrom scipy import stats\n\nimport warnings\nwarnings.filterwarnings('ignore')",
      "metadata": {},
      "execution_count": 1,
      "outputs": [],
      "id": "8e8f31eb"
    },
    {
      "cell_type": "markdown",
      "source": "# Importing Data",
      "metadata": {},
      "id": "dd4aff53"
    },
    {
      "cell_type": "code",
      "source": "time_data = pd.read_csv('delivery_time.csv')\ntime_data.head()",
      "metadata": {},
      "execution_count": 2,
      "outputs": [
        {
          "execution_count": 2,
          "output_type": "execute_result",
          "data": {
            "text/html": [
              "<div>\n",
              "<style scoped>\n",
              "    .dataframe tbody tr th:only-of-type {\n",
              "        vertical-align: middle;\n",
              "    }\n",
              "\n",
              "    .dataframe tbody tr th {\n",
              "        vertical-align: top;\n",
              "    }\n",
              "\n",
              "    .dataframe thead th {\n",
              "        text-align: right;\n",
              "    }\n",
              "</style>\n",
              "<table border=\"1\" class=\"dataframe\">\n",
              "  <thead>\n",
              "    <tr style=\"text-align: right;\">\n",
              "      <th></th>\n",
              "      <th>Delivery Time</th>\n",
              "      <th>Sorting Time</th>\n",
              "    </tr>\n",
              "  </thead>\n",
              "  <tbody>\n",
              "    <tr>\n",
              "      <th>0</th>\n",
              "      <td>21.00</td>\n",
              "      <td>10</td>\n",
              "    </tr>\n",
              "    <tr>\n",
              "      <th>1</th>\n",
              "      <td>13.50</td>\n",
              "      <td>4</td>\n",
              "    </tr>\n",
              "    <tr>\n",
              "      <th>2</th>\n",
              "      <td>19.75</td>\n",
              "      <td>6</td>\n",
              "    </tr>\n",
              "    <tr>\n",
              "      <th>3</th>\n",
              "      <td>24.00</td>\n",
              "      <td>9</td>\n",
              "    </tr>\n",
              "    <tr>\n",
              "      <th>4</th>\n",
              "      <td>29.00</td>\n",
              "      <td>10</td>\n",
              "    </tr>\n",
              "  </tbody>\n",
              "</table>\n",
              "</div>"
            ],
            "text/plain": [
              "   Delivery Time  Sorting Time\n",
              "0          21.00            10\n",
              "1          13.50             4\n",
              "2          19.75             6\n",
              "3          24.00             9\n",
              "4          29.00            10"
            ]
          },
          "metadata": {}
        }
      ],
      "id": "81e7f43e"
    },
    {
      "cell_type": "markdown",
      "source": "# EDA",
      "metadata": {},
      "id": "7b955469"
    },
    {
      "cell_type": "code",
      "source": "time_data.info()",
      "metadata": {
        "scrolled": true
      },
      "execution_count": 3,
      "outputs": [
        {
          "name": "stdout",
          "output_type": "stream",
          "text": "<class 'pandas.core.frame.DataFrame'>\n\nRangeIndex: 21 entries, 0 to 20\n\nData columns (total 2 columns):\n\n #   Column         Non-Null Count  Dtype  \n\n---  ------         --------------  -----  \n\n 0   Delivery Time  21 non-null     float64\n\n 1   Sorting Time   21 non-null     int64  \n\ndtypes: float64(1), int64(1)\n\nmemory usage: 464.0 bytes\n"
        }
      ],
      "id": "35ba1118"
    },
    {
      "cell_type": "code",
      "source": "time_data.shape    #To check shape of data",
      "metadata": {},
      "execution_count": 4,
      "outputs": [
        {
          "execution_count": 4,
          "output_type": "execute_result",
          "data": {
            "text/plain": [
              "(21, 2)"
            ]
          },
          "metadata": {}
        }
      ],
      "id": "f2b33798"
    },
    {
      "cell_type": "markdown",
      "source": " there are 21 rows and 2 columns in our data",
      "metadata": {},
      "id": "8d10ae1e"
    },
    {
      "cell_type": "code",
      "source": "time_data.dtypes   #to check type of data",
      "metadata": {},
      "execution_count": 5,
      "outputs": [
        {
          "execution_count": 5,
          "output_type": "execute_result",
          "data": {
            "text/plain": [
              "Delivery Time    float64\n",
              "Sorting Time       int64\n",
              "dtype: object"
            ]
          },
          "metadata": {}
        }
      ],
      "id": "d3d8ca66"
    },
    {
      "cell_type": "code",
      "source": "corr_=time_data.corr()   \ncorr_                        #correlation Coefficient",
      "metadata": {},
      "execution_count": 6,
      "outputs": [
        {
          "execution_count": 6,
          "output_type": "execute_result",
          "data": {
            "text/html": [
              "<div>\n",
              "<style scoped>\n",
              "    .dataframe tbody tr th:only-of-type {\n",
              "        vertical-align: middle;\n",
              "    }\n",
              "\n",
              "    .dataframe tbody tr th {\n",
              "        vertical-align: top;\n",
              "    }\n",
              "\n",
              "    .dataframe thead th {\n",
              "        text-align: right;\n",
              "    }\n",
              "</style>\n",
              "<table border=\"1\" class=\"dataframe\">\n",
              "  <thead>\n",
              "    <tr style=\"text-align: right;\">\n",
              "      <th></th>\n",
              "      <th>Delivery Time</th>\n",
              "      <th>Sorting Time</th>\n",
              "    </tr>\n",
              "  </thead>\n",
              "  <tbody>\n",
              "    <tr>\n",
              "      <th>Delivery Time</th>\n",
              "      <td>1.000000</td>\n",
              "      <td>0.825997</td>\n",
              "    </tr>\n",
              "    <tr>\n",
              "      <th>Sorting Time</th>\n",
              "      <td>0.825997</td>\n",
              "      <td>1.000000</td>\n",
              "    </tr>\n",
              "  </tbody>\n",
              "</table>\n",
              "</div>"
            ],
            "text/plain": [
              "               Delivery Time  Sorting Time\n",
              "Delivery Time       1.000000      0.825997\n",
              "Sorting Time        0.825997      1.000000"
            ]
          },
          "metadata": {}
        }
      ],
      "id": "e1c8c01e"
    },
    {
      "cell_type": "code",
      "source": "sns.heatmap(corr_,annot=True)",
      "metadata": {},
      "execution_count": 7,
      "outputs": [
        {
          "execution_count": 7,
          "output_type": "execute_result",
          "data": {
            "text/plain": [
              "<AxesSubplot:>"
            ]
          },
          "metadata": {}
        },
        {
          "output_type": "display_data",
          "data": {
            "image/png": "[encoded data removed]",
            "text/plain": [
              "<Figure size 432x288 with 2 Axes>"
            ]
          },
          "metadata": {
            "needs_background": "light"
          }
        }
      ],
      "id": "32bfa4cd"
    },
    {
      "cell_type": "markdown",
      "source": "* **There is a positive correlation between Delivery Time and Sorting Time**",
      "metadata": {},
      "id": "41eb7b14"
    },
    {
      "cell_type": "code",
      "source": "#describing our data\ntime_data.describe()",
      "metadata": {
        "scrolled": true
      },
      "execution_count": 8,
      "outputs": [
        {
          "execution_count": 8,
          "output_type": "execute_result",
          "data": {
            "text/html": [
              "<div>\n",
              "<style scoped>\n",
              "    .dataframe tbody tr th:only-of-type {\n",
              "        vertical-align: middle;\n",
              "    }\n",
              "\n",
              "    .dataframe tbody tr th {\n",
              "        vertical-align: top;\n",
              "    }\n",
              "\n",
              "    .dataframe thead th {\n",
              "        text-align: right;\n",
              "    }\n",
              "</style>\n",
              "<table border=\"1\" class=\"dataframe\">\n",
              "  <thead>\n",
              "    <tr style=\"text-align: right;\">\n",
              "      <th></th>\n",
              "      <th>Delivery Time</th>\n",
              "      <th>Sorting Time</th>\n",
              "    </tr>\n",
              "  </thead>\n",
              "  <tbody>\n",
              "    <tr>\n",
              "      <th>count</th>\n",
              "      <td>21.000000</td>\n",
              "      <td>21.000000</td>\n",
              "    </tr>\n",
              "    <tr>\n",
              "      <th>mean</th>\n",
              "      <td>16.790952</td>\n",
              "      <td>6.190476</td>\n",
              "    </tr>\n",
              "    <tr>\n",
              "      <th>std</th>\n",
              "      <td>5.074901</td>\n",
              "      <td>2.542028</td>\n",
              "    </tr>\n",
              "    <tr>\n",
              "      <th>min</th>\n",
              "      <td>8.000000</td>\n",
              "      <td>2.000000</td>\n",
              "    </tr>\n",
              "    <tr>\n",
              "      <th>25%</th>\n",
              "      <td>13.500000</td>\n",
              "      <td>4.000000</td>\n",
              "    </tr>\n",
              "    <tr>\n",
              "      <th>50%</th>\n",
              "      <td>17.830000</td>\n",
              "      <td>6.000000</td>\n",
              "    </tr>\n",
              "    <tr>\n",
              "      <th>75%</th>\n",
              "      <td>19.750000</td>\n",
              "      <td>8.000000</td>\n",
              "    </tr>\n",
              "    <tr>\n",
              "      <th>max</th>\n",
              "      <td>29.000000</td>\n",
              "      <td>10.000000</td>\n",
              "    </tr>\n",
              "  </tbody>\n",
              "</table>\n",
              "</div>"
            ],
            "text/plain": [
              "       Delivery Time  Sorting Time\n",
              "count      21.000000     21.000000\n",
              "mean       16.790952      6.190476\n",
              "std         5.074901      2.542028\n",
              "min         8.000000      2.000000\n",
              "25%        13.500000      4.000000\n",
              "50%        17.830000      6.000000\n",
              "75%        19.750000      8.000000\n",
              "max        29.000000     10.000000"
            ]
          },
          "metadata": {}
        }
      ],
      "id": "cecb27fe"
    },
    {
      "cell_type": "markdown",
      "source": "* **The average Delivery Time and Sorting Time  is 16.79 and 6.19 respectively**\n\n* **The minimum delivery time is 8.00 and maximum delivery time is 29.00**\n\n* **The minimum sorting time is 2.00 and maximum sorting time is 10.00**\n",
      "metadata": {},
      "id": "5ff1a01e"
    },
    {
      "cell_type": "code",
      "source": "time_data.skew() , time_data.kurtosis()",
      "metadata": {},
      "execution_count": 9,
      "outputs": [
        {
          "execution_count": 9,
          "output_type": "execute_result",
          "data": {
            "text/plain": [
              "(Delivery Time    0.352390\n",
              " Sorting Time     0.047115\n",
              " dtype: float64,\n",
              " Delivery Time    0.317960\n",
              " Sorting Time    -1.148455\n",
              " dtype: float64)"
            ]
          },
          "metadata": {}
        }
      ],
      "id": "88cc4a3e"
    },
    {
      "cell_type": "markdown",
      "source": "*  **From Skewness we can say that Delivery data is little bit positive skew and Sorting data is symmetric**\n\n*  **From Kurtosis we can say that there are no Outliers in our data since it is nearly equal to zero.**",
      "metadata": {},
      "id": "f164ed1f"
    },
    {
      "cell_type": "markdown",
      "source": "   ",
      "metadata": {},
      "id": "4db217ac"
    },
    {
      "cell_type": "code",
      "source": "#finding null values\ntime_data.isnull().sum()",
      "metadata": {
        "scrolled": true
      },
      "execution_count": 10,
      "outputs": [
        {
          "execution_count": 10,
          "output_type": "execute_result",
          "data": {
            "text/plain": [
              "Delivery Time    0\n",
              "Sorting Time     0\n",
              "dtype: int64"
            ]
          },
          "metadata": {}
        }
      ],
      "id": "8651f8f6"
    },
    {
      "cell_type": "markdown",
      "source": "* **There are no null values in our data**",
      "metadata": {},
      "id": "9d3e6abe"
    },
    {
      "cell_type": "code",
      "source": "#boxplot\ntime_data.boxplot()\nplt.show()",
      "metadata": {},
      "execution_count": 11,
      "outputs": [
        {
          "output_type": "display_data",
          "data": {
            "image/png": "[encoded data removed]",
            "text/plain": [
              "<Figure size 432x288 with 1 Axes>"
            ]
          },
          "metadata": {
            "needs_background": "light"
          }
        }
      ],
      "id": "d896076c"
    },
    {
      "cell_type": "markdown",
      "source": "* **from above box plot  we can say that there are no outliers in our data**",
      "metadata": {},
      "id": "b151c80b"
    },
    {
      "cell_type": "code",
      "source": "#to check linearity\nsns.lmplot(x='Sorting Time',y='Delivery Time',data=time_data)\nplt.title(\"Sorting Time vs Delivery Time\")\nplt.show()",
      "metadata": {},
      "execution_count": 12,
      "outputs": [
        {
          "output_type": "display_data",
          "data": {
            "image/png": "[encoded data removed]",
            "text/plain": [
              "<Figure size 360x360 with 1 Axes>"
            ]
          },
          "metadata": {
            "needs_background": "light"
          }
        }
      ],
      "id": "48826dc4"
    },
    {
      "cell_type": "markdown",
      "source": "* **by observing above plot we can say that the linearity condition fails.**",
      "metadata": {},
      "id": "2b1656c3"
    },
    {
      "cell_type": "code",
      "source": "#checking Normality\nsns.distplot(a=time_data['Sorting Time'])\nplt.title('Sorting Time')\nplt.show()\n\nsns.distplot(a=time_data['Delivery Time'])\nplt.title('Delivery Time')\nplt.show()",
      "metadata": {},
      "execution_count": 13,
      "outputs": [
        {
          "output_type": "display_data",
          "data": {
            "image/png": "[encoded data removed]",
            "text/plain": [
              "<Figure size 432x288 with 1 Axes>"
            ]
          },
          "metadata": {
            "needs_background": "light"
          }
        },
        {
          "output_type": "display_data",
          "data": {
            "image/png": "[encoded data removed]",
            "text/plain": [
              "<Figure size 432x288 with 1 Axes>"
            ]
          },
          "metadata": {
            "needs_background": "light"
          }
        }
      ],
      "id": "c6f3a276"
    },
    {
      "cell_type": "markdown",
      "source": "* **From above plots we can say that,**\n* **for Sorting Time most of the data lie within the group 2 - 10**\n* **for Delivery Time most of the data lie within the group 10 - 20**",
      "metadata": {},
      "id": "2ff90066"
    },
    {
      "cell_type": "markdown",
      "source": "  ",
      "metadata": {},
      "id": "4686a962"
    },
    {
      "cell_type": "markdown",
      "source": "# Model Building and Model Training",
      "metadata": {},
      "id": "a120f223"
    },
    {
      "cell_type": "code",
      "source": "import statsmodels.formula.api as smf\nimport statsmodels.api as sm",
      "metadata": {},
      "execution_count": 14,
      "outputs": [],
      "id": "a4c58529"
    },
    {
      "cell_type": "code",
      "source": "time_data.columns=['Delivery','Sorting']       \ntime_data.head()",
      "metadata": {
        "scrolled": true
      },
      "execution_count": 15,
      "outputs": [
        {
          "execution_count": 15,
          "output_type": "execute_result",
          "data": {
            "text/html": [
              "<div>\n",
              "<style scoped>\n",
              "    .dataframe tbody tr th:only-of-type {\n",
              "        vertical-align: middle;\n",
              "    }\n",
              "\n",
              "    .dataframe tbody tr th {\n",
              "        vertical-align: top;\n",
              "    }\n",
              "\n",
              "    .dataframe thead th {\n",
              "        text-align: right;\n",
              "    }\n",
              "</style>\n",
              "<table border=\"1\" class=\"dataframe\">\n",
              "  <thead>\n",
              "    <tr style=\"text-align: right;\">\n",
              "      <th></th>\n",
              "      <th>Delivery</th>\n",
              "      <th>Sorting</th>\n",
              "    </tr>\n",
              "  </thead>\n",
              "  <tbody>\n",
              "    <tr>\n",
              "      <th>0</th>\n",
              "      <td>21.00</td>\n",
              "      <td>10</td>\n",
              "    </tr>\n",
              "    <tr>\n",
              "      <th>1</th>\n",
              "      <td>13.50</td>\n",
              "      <td>4</td>\n",
              "    </tr>\n",
              "    <tr>\n",
              "      <th>2</th>\n",
              "      <td>19.75</td>\n",
              "      <td>6</td>\n",
              "    </tr>\n",
              "    <tr>\n",
              "      <th>3</th>\n",
              "      <td>24.00</td>\n",
              "      <td>9</td>\n",
              "    </tr>\n",
              "    <tr>\n",
              "      <th>4</th>\n",
              "      <td>29.00</td>\n",
              "      <td>10</td>\n",
              "    </tr>\n",
              "  </tbody>\n",
              "</table>\n",
              "</div>"
            ],
            "text/plain": [
              "   Delivery  Sorting\n",
              "0     21.00       10\n",
              "1     13.50        4\n",
              "2     19.75        6\n",
              "3     24.00        9\n",
              "4     29.00       10"
            ]
          },
          "metadata": {}
        }
      ],
      "id": "df39f2bf"
    },
    {
      "cell_type": "code",
      "source": "#fitting model\nlinear_model=smf.ols(\"Delivery~Sorting\",data=time_data).fit()",
      "metadata": {},
      "execution_count": 16,
      "outputs": [],
      "id": "074da0b8"
    },
    {
      "cell_type": "code",
      "source": "linear_model.summary()",
      "metadata": {},
      "execution_count": 17,
      "outputs": [
        {
          "execution_count": 17,
          "output_type": "execute_result",
          "data": {
            "text/html": [
              "<table class=\"simpletable\">\n",
              "<caption>OLS Regression Results</caption>\n",
              "<tr>\n",
              "  <th>Dep. Variable:</th>        <td>Delivery</td>     <th>  R-squared:         </th> <td>   0.682</td>\n",
              "</tr>\n",
              "<tr>\n",
              "  <th>Model:</th>                   <td>OLS</td>       <th>  Adj. R-squared:    </th> <td>   0.666</td>\n",
              "</tr>\n",
              "<tr>\n",
              "  <th>Method:</th>             <td>Least Squares</td>  <th>  F-statistic:       </th> <td>   40.80</td>\n",
              "</tr>\n",
              "<tr>\n",
              "  <th>Date:</th>             <td>Fri, 14 Jan 2022</td> <th>  Prob (F-statistic):</th> <td>3.98e-06</td>\n",
              "</tr>\n",
              "<tr>\n",
              "  <th>Time:</th>                 <td>23:14:06</td>     <th>  Log-Likelihood:    </th> <td> -51.357</td>\n",
              "</tr>\n",
              "<tr>\n",
              "  <th>No. Observations:</th>      <td>    21</td>      <th>  AIC:               </th> <td>   106.7</td>\n",
              "</tr>\n",
              "<tr>\n",
              "  <th>Df Residuals:</th>          <td>    19</td>      <th>  BIC:               </th> <td>   108.8</td>\n",
              "</tr>\n",
              "<tr>\n",
              "  <th>Df Model:</th>              <td>     1</td>      <th>                     </th>     <td> </td>   \n",
              "</tr>\n",
              "<tr>\n",
              "  <th>Covariance Type:</th>      <td>nonrobust</td>    <th>                     </th>     <td> </td>   \n",
              "</tr>\n",
              "</table>\n",
              "<table class=\"simpletable\">\n",
              "<tr>\n",
              "      <td></td>         <th>coef</th>     <th>std err</th>      <th>t</th>      <th>P>|t|</th>  <th>[0.025</th>    <th>0.975]</th>  \n",
              "</tr>\n",
              "<tr>\n",
              "  <th>Intercept</th> <td>    6.5827</td> <td>    1.722</td> <td>    3.823</td> <td> 0.001</td> <td>    2.979</td> <td>   10.186</td>\n",
              "</tr>\n",
              "<tr>\n",
              "  <th>Sorting</th>   <td>    1.6490</td> <td>    0.258</td> <td>    6.387</td> <td> 0.000</td> <td>    1.109</td> <td>    2.189</td>\n",
              "</tr>\n",
              "</table>\n",
              "<table class=\"simpletable\">\n",
              "<tr>\n",
              "  <th>Omnibus:</th>       <td> 3.649</td> <th>  Durbin-Watson:     </th> <td>   1.248</td>\n",
              "</tr>\n",
              "<tr>\n",
              "  <th>Prob(Omnibus):</th> <td> 0.161</td> <th>  Jarque-Bera (JB):  </th> <td>   2.086</td>\n",
              "</tr>\n",
              "<tr>\n",
              "  <th>Skew:</th>          <td> 0.750</td> <th>  Prob(JB):          </th> <td>   0.352</td>\n",
              "</tr>\n",
              "<tr>\n",
              "  <th>Kurtosis:</th>      <td> 3.367</td> <th>  Cond. No.          </th> <td>    18.3</td>\n",
              "</tr>\n",
              "</table><br/><br/>Notes:<br/>[1] Standard Errors assume that the covariance matrix of the errors is correctly specified."
            ],
            "text/plain": [
              "<class 'statsmodels.iolib.summary.Summary'>\n",
              "\"\"\"\n",
              "                            OLS Regression Results                            \n",
              "==============================================================================\n",
              "Dep. Variable:               Delivery   R-squared:                       0.682\n",
              "Model:                            OLS   Adj. R-squared:                  0.666\n",
              "Method:                 Least Squares   F-statistic:                     40.80\n",
              "Date:                Fri, 14 Jan 2022   Prob (F-statistic):           3.98e-06\n",
              "Time:                        23:14:06   Log-Likelihood:                -51.357\n",
              "No. Observations:                  21   AIC:                             106.7\n",
              "Df Residuals:                      19   BIC:                             108.8\n",
              "Df Model:                           1                                         \n",
              "Covariance Type:            nonrobust                                         \n",
              "==============================================================================\n",
              "                 coef    std err          t      P>|t|      [0.025      0.975]\n",
              "------------------------------------------------------------------------------\n",
              "Intercept      6.5827      1.722      3.823      0.001       2.979      10.186\n",
              "Sorting        1.6490      0.258      6.387      0.000       1.109       2.189\n",
              "==============================================================================\n",
              "Omnibus:                        3.649   Durbin-Watson:                   1.248\n",
              "Prob(Omnibus):                  0.161   Jarque-Bera (JB):                2.086\n",
              "Skew:                           0.750   Prob(JB):                        0.352\n",
              "Kurtosis:                       3.367   Cond. No.                         18.3\n",
              "==============================================================================\n",
              "\n",
              "Notes:\n",
              "[1] Standard Errors assume that the covariance matrix of the errors is correctly specified.\n",
              "\"\"\""
            ]
          },
          "metadata": {}
        }
      ],
      "id": "0d0a8595"
    },
    {
      "cell_type": "code",
      "source": "#parameters\nlinear_model.params",
      "metadata": {
        "scrolled": true
      },
      "execution_count": 18,
      "outputs": [
        {
          "execution_count": 18,
          "output_type": "execute_result",
          "data": {
            "text/plain": [
              "Intercept    6.582734\n",
              "Sorting      1.649020\n",
              "dtype: float64"
            ]
          },
          "metadata": {}
        }
      ],
      "id": "a2e4970f"
    },
    {
      "cell_type": "code",
      "source": "#t-values and p-values\nprint(linear_model.tvalues ,'\\n', linear_model.pvalues)",
      "metadata": {},
      "execution_count": 19,
      "outputs": [
        {
          "name": "stdout",
          "output_type": "stream",
          "text": "Intercept    3.823349\n\nSorting      6.387447\n\ndtype: float64 \n\n Intercept    0.001147\n\nSorting      0.000004\n\ndtype: float64\n"
        }
      ],
      "id": "3b43710c"
    },
    {
      "cell_type": "code",
      "source": "#R squared values\n(linear_model.rsquared,linear_model.rsquared_adj)",
      "metadata": {},
      "execution_count": 20,
      "outputs": [
        {
          "execution_count": 20,
          "output_type": "execute_result",
          "data": {
            "text/plain": [
              "(0.6822714748417231, 0.6655489208860244)"
            ]
          },
          "metadata": {}
        }
      ],
      "id": "ad1a1ba1"
    },
    {
      "cell_type": "markdown",
      "source": "# ",
      "metadata": {},
      "id": "dc58501a"
    },
    {
      "cell_type": "markdown",
      "source": "# By Using Log Transformation",
      "metadata": {},
      "id": "5ede576c"
    },
    {
      "cell_type": "code",
      "source": "time_data['log_sorting']=np.log(time_data['Sorting'])",
      "metadata": {},
      "execution_count": 21,
      "outputs": [],
      "id": "22fbe15f"
    },
    {
      "cell_type": "code",
      "source": "time_data.head()",
      "metadata": {},
      "execution_count": 22,
      "outputs": [
        {
          "execution_count": 22,
          "output_type": "execute_result",
          "data": {
            "text/html": [
              "<div>\n",
              "<style scoped>\n",
              "    .dataframe tbody tr th:only-of-type {\n",
              "        vertical-align: middle;\n",
              "    }\n",
              "\n",
              "    .dataframe tbody tr th {\n",
              "        vertical-align: top;\n",
              "    }\n",
              "\n",
              "    .dataframe thead th {\n",
              "        text-align: right;\n",
              "    }\n",
              "</style>\n",
              "<table border=\"1\" class=\"dataframe\">\n",
              "  <thead>\n",
              "    <tr style=\"text-align: right;\">\n",
              "      <th></th>\n",
              "      <th>Delivery</th>\n",
              "      <th>Sorting</th>\n",
              "      <th>log_sorting</th>\n",
              "    </tr>\n",
              "  </thead>\n",
              "  <tbody>\n",
              "    <tr>\n",
              "      <th>0</th>\n",
              "      <td>21.00</td>\n",
              "      <td>10</td>\n",
              "      <td>2.302585</td>\n",
              "    </tr>\n",
              "    <tr>\n",
              "      <th>1</th>\n",
              "      <td>13.50</td>\n",
              "      <td>4</td>\n",
              "      <td>1.386294</td>\n",
              "    </tr>\n",
              "    <tr>\n",
              "      <th>2</th>\n",
              "      <td>19.75</td>\n",
              "      <td>6</td>\n",
              "      <td>1.791759</td>\n",
              "    </tr>\n",
              "    <tr>\n",
              "      <th>3</th>\n",
              "      <td>24.00</td>\n",
              "      <td>9</td>\n",
              "      <td>2.197225</td>\n",
              "    </tr>\n",
              "    <tr>\n",
              "      <th>4</th>\n",
              "      <td>29.00</td>\n",
              "      <td>10</td>\n",
              "      <td>2.302585</td>\n",
              "    </tr>\n",
              "  </tbody>\n",
              "</table>\n",
              "</div>"
            ],
            "text/plain": [
              "   Delivery  Sorting  log_sorting\n",
              "0     21.00       10     2.302585\n",
              "1     13.50        4     1.386294\n",
              "2     19.75        6     1.791759\n",
              "3     24.00        9     2.197225\n",
              "4     29.00       10     2.302585"
            ]
          },
          "metadata": {}
        }
      ],
      "id": "90181602"
    },
    {
      "cell_type": "code",
      "source": "sns.distplot(time_data['log_sorting'])\nplt.title(\"Log_Sorting_Time\")\nplt.show()",
      "metadata": {},
      "execution_count": 23,
      "outputs": [
        {
          "output_type": "display_data",
          "data": {
            "image/png": "[encoded data removed]",
            "text/plain": [
              "<Figure size 432x288 with 1 Axes>"
            ]
          },
          "metadata": {
            "needs_background": "light"
          }
        }
      ],
      "id": "b9348bc4"
    },
    {
      "cell_type": "markdown",
      "source": "### Model Building by using Log transformation",
      "metadata": {},
      "id": "61bc5e20"
    },
    {
      "cell_type": "code",
      "source": "#fitting model after transforming input variable\nlinear_model_1=smf.ols(\"Delivery~log_sorting\",data=time_data).fit()",
      "metadata": {},
      "execution_count": 24,
      "outputs": [],
      "id": "4ab3d7a6"
    },
    {
      "cell_type": "code",
      "source": "linear_model_1.summary()",
      "metadata": {},
      "execution_count": 25,
      "outputs": [
        {
          "execution_count": 25,
          "output_type": "execute_result",
          "data": {
            "text/html": [
              "<table class=\"simpletable\">\n",
              "<caption>OLS Regression Results</caption>\n",
              "<tr>\n",
              "  <th>Dep. Variable:</th>        <td>Delivery</td>     <th>  R-squared:         </th> <td>   0.695</td>\n",
              "</tr>\n",
              "<tr>\n",
              "  <th>Model:</th>                   <td>OLS</td>       <th>  Adj. R-squared:    </th> <td>   0.679</td>\n",
              "</tr>\n",
              "<tr>\n",
              "  <th>Method:</th>             <td>Least Squares</td>  <th>  F-statistic:       </th> <td>   43.39</td>\n",
              "</tr>\n",
              "<tr>\n",
              "  <th>Date:</th>             <td>Fri, 14 Jan 2022</td> <th>  Prob (F-statistic):</th> <td>2.64e-06</td>\n",
              "</tr>\n",
              "<tr>\n",
              "  <th>Time:</th>                 <td>23:14:14</td>     <th>  Log-Likelihood:    </th> <td> -50.912</td>\n",
              "</tr>\n",
              "<tr>\n",
              "  <th>No. Observations:</th>      <td>    21</td>      <th>  AIC:               </th> <td>   105.8</td>\n",
              "</tr>\n",
              "<tr>\n",
              "  <th>Df Residuals:</th>          <td>    19</td>      <th>  BIC:               </th> <td>   107.9</td>\n",
              "</tr>\n",
              "<tr>\n",
              "  <th>Df Model:</th>              <td>     1</td>      <th>                     </th>     <td> </td>   \n",
              "</tr>\n",
              "<tr>\n",
              "  <th>Covariance Type:</th>      <td>nonrobust</td>    <th>                     </th>     <td> </td>   \n",
              "</tr>\n",
              "</table>\n",
              "<table class=\"simpletable\">\n",
              "<tr>\n",
              "       <td></td>          <th>coef</th>     <th>std err</th>      <th>t</th>      <th>P>|t|</th>  <th>[0.025</th>    <th>0.975]</th>  \n",
              "</tr>\n",
              "<tr>\n",
              "  <th>Intercept</th>   <td>    1.1597</td> <td>    2.455</td> <td>    0.472</td> <td> 0.642</td> <td>   -3.978</td> <td>    6.297</td>\n",
              "</tr>\n",
              "<tr>\n",
              "  <th>log_sorting</th> <td>    9.0434</td> <td>    1.373</td> <td>    6.587</td> <td> 0.000</td> <td>    6.170</td> <td>   11.917</td>\n",
              "</tr>\n",
              "</table>\n",
              "<table class=\"simpletable\">\n",
              "<tr>\n",
              "  <th>Omnibus:</th>       <td> 5.552</td> <th>  Durbin-Watson:     </th> <td>   1.427</td>\n",
              "</tr>\n",
              "<tr>\n",
              "  <th>Prob(Omnibus):</th> <td> 0.062</td> <th>  Jarque-Bera (JB):  </th> <td>   3.481</td>\n",
              "</tr>\n",
              "<tr>\n",
              "  <th>Skew:</th>          <td> 0.946</td> <th>  Prob(JB):          </th> <td>   0.175</td>\n",
              "</tr>\n",
              "<tr>\n",
              "  <th>Kurtosis:</th>      <td> 3.628</td> <th>  Cond. No.          </th> <td>    9.08</td>\n",
              "</tr>\n",
              "</table><br/><br/>Notes:<br/>[1] Standard Errors assume that the covariance matrix of the errors is correctly specified."
            ],
            "text/plain": [
              "<class 'statsmodels.iolib.summary.Summary'>\n",
              "\"\"\"\n",
              "                            OLS Regression Results                            \n",
              "==============================================================================\n",
              "Dep. Variable:               Delivery   R-squared:                       0.695\n",
              "Model:                            OLS   Adj. R-squared:                  0.679\n",
              "Method:                 Least Squares   F-statistic:                     43.39\n",
              "Date:                Fri, 14 Jan 2022   Prob (F-statistic):           2.64e-06\n",
              "Time:                        23:14:14   Log-Likelihood:                -50.912\n",
              "No. Observations:                  21   AIC:                             105.8\n",
              "Df Residuals:                      19   BIC:                             107.9\n",
              "Df Model:                           1                                         \n",
              "Covariance Type:            nonrobust                                         \n",
              "===============================================================================\n",
              "                  coef    std err          t      P>|t|      [0.025      0.975]\n",
              "-------------------------------------------------------------------------------\n",
              "Intercept       1.1597      2.455      0.472      0.642      -3.978       6.297\n",
              "log_sorting     9.0434      1.373      6.587      0.000       6.170      11.917\n",
              "==============================================================================\n",
              "Omnibus:                        5.552   Durbin-Watson:                   1.427\n",
              "Prob(Omnibus):                  0.062   Jarque-Bera (JB):                3.481\n",
              "Skew:                           0.946   Prob(JB):                        0.175\n",
              "Kurtosis:                       3.628   Cond. No.                         9.08\n",
              "==============================================================================\n",
              "\n",
              "Notes:\n",
              "[1] Standard Errors assume that the covariance matrix of the errors is correctly specified.\n",
              "\"\"\""
            ]
          },
          "metadata": {}
        }
      ],
      "id": "c495e72c"
    },
    {
      "cell_type": "code",
      "source": "#parameters\nlinear_model_1.params",
      "metadata": {
        "scrolled": true
      },
      "execution_count": 26,
      "outputs": [
        {
          "execution_count": 26,
          "output_type": "execute_result",
          "data": {
            "text/plain": [
              "Intercept      1.159684\n",
              "log_sorting    9.043413\n",
              "dtype: float64"
            ]
          },
          "metadata": {}
        }
      ],
      "id": "75bf1384"
    },
    {
      "cell_type": "code",
      "source": "#t-values and p-values\nprint(linear_model_1.tvalues ,'\\n', linear_model_1.pvalues)",
      "metadata": {},
      "execution_count": 27,
      "outputs": [
        {
          "name": "stdout",
          "output_type": "stream",
          "text": "Intercept      0.472460\n\nlog_sorting    6.586789\n\ndtype: float64 \n\n Intercept      0.641980\n\nlog_sorting    0.000003\n\ndtype: float64\n"
        }
      ],
      "id": "0ff551a4"
    },
    {
      "cell_type": "code",
      "source": "#R squared values\n(linear_model_1.rsquared,linear_model_1.rsquared_adj)",
      "metadata": {},
      "execution_count": 28,
      "outputs": [
        {
          "execution_count": 28,
          "output_type": "execute_result",
          "data": {
            "text/plain": [
              "(0.6954434611324223, 0.6794141696130761)"
            ]
          },
          "metadata": {}
        }
      ],
      "id": "6d3199f8"
    },
    {
      "cell_type": "markdown",
      "source": "# ",
      "metadata": {},
      "id": "30713d58"
    },
    {
      "cell_type": "markdown",
      "source": "### Model Selection",
      "metadata": {},
      "id": "d4ffc9a3"
    },
    {
      "cell_type": "markdown",
      "source": "**After comparing the r-square values for both the models,\nwe can say that the linear_model_1 (Log Transformation Model) is good for our data because of high value of r-square.**",
      "metadata": {},
      "id": "6252f0e9"
    },
    {
      "cell_type": "markdown",
      "source": "*  **Now , we can use our best model for further calculation**",
      "metadata": {},
      "id": "04c41919"
    },
    {
      "cell_type": "code",
      "source": "#Normal Q-Q Plot of Residuals for Normality For Transformed Model\nsm.qqplot(linear_model_1.resid,line='q')\nplt.title('Normal Q-Q plot of trasnformed model')\nplt.show()\n\n#Normal Q-Q Plot of Residuals for Normality \nsm.qqplot(linear_model.resid,line='q')\nplt.title('Normal Q-Q plot of regular model')\nplt.show()",
      "metadata": {},
      "execution_count": 29,
      "outputs": [
        {
          "output_type": "display_data",
          "data": {
            "image/png": "[encoded data removed]",
            "text/plain": [
              "<Figure size 432x288 with 1 Axes>"
            ]
          },
          "metadata": {
            "needs_background": "light"
          }
        },
        {
          "output_type": "display_data",
          "data": {
            "image/png": "[encoded data removed]",
            "text/plain": [
              "<Figure size 432x288 with 1 Axes>"
            ]
          },
          "metadata": {
            "needs_background": "light"
          }
        }
      ],
      "id": "40e74dc0"
    },
    {
      "cell_type": "markdown",
      "source": "**By observing above two plots of transformed model and regular model,**\n\n**we can say that for transformed model maximum points are lie on straight line,**\n\n**hence our data follows normality condition.**",
      "metadata": {},
      "id": "5305ba32"
    },
    {
      "cell_type": "markdown",
      "source": "# ",
      "metadata": {},
      "id": "1de26759"
    },
    {
      "cell_type": "code",
      "source": "#Residual Plot of transformed  model\nplt.plot(linear_model_1.resid)\nplt.title('Residual Plot')\nplt.ylabel('Residuals')\nplt.grid(True)\nplt.show()",
      "metadata": {},
      "execution_count": 30,
      "outputs": [
        {
          "output_type": "display_data",
          "data": {
            "image/png": "[encoded data removed]",
            "text/plain": [
              "<Figure size 432x288 with 1 Axes>"
            ]
          },
          "metadata": {
            "needs_background": "light"
          }
        }
      ],
      "id": "72e0002a"
    },
    {
      "cell_type": "code",
      "source": "pred_y=linear_model_1.fittedvalues    #predicted values\npred_y.head()",
      "metadata": {},
      "execution_count": 91,
      "outputs": [
        {
          "execution_count": 91,
          "output_type": "execute_result",
          "data": {
            "text/plain": [
              "0    21.982913\n",
              "1    13.696517\n",
              "2    17.363305\n",
              "3    21.030094\n",
              "4    21.982913\n",
              "dtype: float64"
            ]
          },
          "metadata": {}
        }
      ],
      "id": "8c331366"
    },
    {
      "cell_type": "code",
      "source": "#plot for actual and fitted  values\nplt.plot(time_data[\"Delivery\"],label='Actual Values')\nplt.plot(pred_y,label='Predicted values')\nplt.title('Actual & Fitted Values')\nlegend=plt.legend()\nplt.grid(True)\nplt.show()",
      "metadata": {},
      "execution_count": 34,
      "outputs": [
        {
          "output_type": "display_data",
          "data": {
            "image/png": "[encoded data removed]",
            "text/plain": [
              "<Figure size 432x288 with 1 Axes>"
            ]
          },
          "metadata": {
            "needs_background": "light"
          }
        }
      ],
      "id": "95e69ffa"
    },
    {
      "cell_type": "code",
      "source": "#Residual Vs Fitted Values Plot\nsns.residplot(x=pred_y,y=linear_model.resid)\nplt.title('Fitted values vs Residual plot')\nplt.xlabel('Fitted values')\nplt.ylabel('Residuals')\nplt.show()",
      "metadata": {},
      "execution_count": 35,
      "outputs": [
        {
          "output_type": "display_data",
          "data": {
            "image/png": "[encoded data removed]",
            "text/plain": [
              "<Figure size 432x288 with 1 Axes>"
            ]
          },
          "metadata": {
            "needs_background": "light"
          }
        }
      ],
      "id": "308bc8cf"
    },
    {
      "cell_type": "markdown",
      "source": "**This plot looks good in that the variance is roughly the same all the way across and\nthere are no worrisome patterns.there seems to be no difficulties with the model.**",
      "metadata": {},
      "id": "e88fdab9"
    },
    {
      "cell_type": "markdown",
      "source": "# ",
      "metadata": {},
      "id": "e0174dbb"
    },
    {
      "cell_type": "markdown",
      "source": "# ===========================================================",
      "metadata": {},
      "id": "68b6bf51"
    },
    {
      "cell_type": "markdown",
      "source": "# ===========================================================",
      "metadata": {},
      "id": "a68fe2b6"
    },
    {
      "cell_type": "markdown",
      "source": "# ",
      "metadata": {},
      "id": "b2dc88ab"
    },
    {
      "cell_type": "markdown",
      "source": "## Q.2) Salary_hike -> Build a prediction model for Salary_hike\n\nBuild a simple linear regression model by performing EDA \nand do necessary transformations and select the best model using  Python.\n\n",
      "metadata": {},
      "id": "c7b66333"
    },
    {
      "cell_type": "markdown",
      "source": "# Importing Data",
      "metadata": {},
      "id": "995410e3"
    },
    {
      "cell_type": "code",
      "source": "salary_data = pd.read_csv('Salary_Data.csv')\nsalary_data.head()",
      "metadata": {},
      "execution_count": 36,
      "outputs": [
        {
          "execution_count": 36,
          "output_type": "execute_result",
          "data": {
            "text/html": [
              "<div>\n",
              "<style scoped>\n",
              "    .dataframe tbody tr th:only-of-type {\n",
              "        vertical-align: middle;\n",
              "    }\n",
              "\n",
              "    .dataframe tbody tr th {\n",
              "        vertical-align: top;\n",
              "    }\n",
              "\n",
              "    .dataframe thead th {\n",
              "        text-align: right;\n",
              "    }\n",
              "</style>\n",
              "<table border=\"1\" class=\"dataframe\">\n",
              "  <thead>\n",
              "    <tr style=\"text-align: right;\">\n",
              "      <th></th>\n",
              "      <th>YearsExperience</th>\n",
              "      <th>Salary</th>\n",
              "    </tr>\n",
              "  </thead>\n",
              "  <tbody>\n",
              "    <tr>\n",
              "      <th>0</th>\n",
              "      <td>1.1</td>\n",
              "      <td>39343.0</td>\n",
              "    </tr>\n",
              "    <tr>\n",
              "      <th>1</th>\n",
              "      <td>1.3</td>\n",
              "      <td>46205.0</td>\n",
              "    </tr>\n",
              "    <tr>\n",
              "      <th>2</th>\n",
              "      <td>1.5</td>\n",
              "      <td>37731.0</td>\n",
              "    </tr>\n",
              "    <tr>\n",
              "      <th>3</th>\n",
              "      <td>2.0</td>\n",
              "      <td>43525.0</td>\n",
              "    </tr>\n",
              "    <tr>\n",
              "      <th>4</th>\n",
              "      <td>2.2</td>\n",
              "      <td>39891.0</td>\n",
              "    </tr>\n",
              "  </tbody>\n",
              "</table>\n",
              "</div>"
            ],
            "text/plain": [
              "   YearsExperience   Salary\n",
              "0              1.1  39343.0\n",
              "1              1.3  46205.0\n",
              "2              1.5  37731.0\n",
              "3              2.0  43525.0\n",
              "4              2.2  39891.0"
            ]
          },
          "metadata": {}
        }
      ],
      "id": "83403ab9"
    },
    {
      "cell_type": "markdown",
      "source": "# EDA \nInitial Analysis",
      "metadata": {},
      "id": "2b744b6f"
    },
    {
      "cell_type": "code",
      "source": "salary_data.info()",
      "metadata": {},
      "execution_count": 37,
      "outputs": [
        {
          "name": "stdout",
          "output_type": "stream",
          "text": "<class 'pandas.core.frame.DataFrame'>\n\nRangeIndex: 30 entries, 0 to 29\n\nData columns (total 2 columns):\n\n #   Column           Non-Null Count  Dtype  \n\n---  ------           --------------  -----  \n\n 0   YearsExperience  30 non-null     float64\n\n 1   Salary           30 non-null     float64\n\ndtypes: float64(2)\n\nmemory usage: 608.0 bytes\n"
        }
      ],
      "id": "25cb142e"
    },
    {
      "cell_type": "code",
      "source": "salary_data.shape",
      "metadata": {},
      "execution_count": 38,
      "outputs": [
        {
          "execution_count": 38,
          "output_type": "execute_result",
          "data": {
            "text/plain": [
              "(30, 2)"
            ]
          },
          "metadata": {}
        }
      ],
      "id": "c0316d22"
    },
    {
      "cell_type": "code",
      "source": "salary_data.dtypes",
      "metadata": {},
      "execution_count": 39,
      "outputs": [
        {
          "execution_count": 39,
          "output_type": "execute_result",
          "data": {
            "text/plain": [
              "YearsExperience    float64\n",
              "Salary             float64\n",
              "dtype: object"
            ]
          },
          "metadata": {}
        }
      ],
      "id": "29ec81d8"
    },
    {
      "cell_type": "code",
      "source": "salary_data.isnull().sum()",
      "metadata": {
        "scrolled": true
      },
      "execution_count": 40,
      "outputs": [
        {
          "execution_count": 40,
          "output_type": "execute_result",
          "data": {
            "text/plain": [
              "YearsExperience    0\n",
              "Salary             0\n",
              "dtype: int64"
            ]
          },
          "metadata": {}
        }
      ],
      "id": "882734cb"
    },
    {
      "cell_type": "markdown",
      "source": "**there are no null values in our data**",
      "metadata": {},
      "id": "0bc1dce1"
    },
    {
      "cell_type": "code",
      "source": "salary_data.describe()",
      "metadata": {
        "scrolled": true
      },
      "execution_count": 41,
      "outputs": [
        {
          "execution_count": 41,
          "output_type": "execute_result",
          "data": {
            "text/html": [
              "<div>\n",
              "<style scoped>\n",
              "    .dataframe tbody tr th:only-of-type {\n",
              "        vertical-align: middle;\n",
              "    }\n",
              "\n",
              "    .dataframe tbody tr th {\n",
              "        vertical-align: top;\n",
              "    }\n",
              "\n",
              "    .dataframe thead th {\n",
              "        text-align: right;\n",
              "    }\n",
              "</style>\n",
              "<table border=\"1\" class=\"dataframe\">\n",
              "  <thead>\n",
              "    <tr style=\"text-align: right;\">\n",
              "      <th></th>\n",
              "      <th>YearsExperience</th>\n",
              "      <th>Salary</th>\n",
              "    </tr>\n",
              "  </thead>\n",
              "  <tbody>\n",
              "    <tr>\n",
              "      <th>count</th>\n",
              "      <td>30.000000</td>\n",
              "      <td>30.000000</td>\n",
              "    </tr>\n",
              "    <tr>\n",
              "      <th>mean</th>\n",
              "      <td>5.313333</td>\n",
              "      <td>76003.000000</td>\n",
              "    </tr>\n",
              "    <tr>\n",
              "      <th>std</th>\n",
              "      <td>2.837888</td>\n",
              "      <td>27414.429785</td>\n",
              "    </tr>\n",
              "    <tr>\n",
              "      <th>min</th>\n",
              "      <td>1.100000</td>\n",
              "      <td>37731.000000</td>\n",
              "    </tr>\n",
              "    <tr>\n",
              "      <th>25%</th>\n",
              "      <td>3.200000</td>\n",
              "      <td>56720.750000</td>\n",
              "    </tr>\n",
              "    <tr>\n",
              "      <th>50%</th>\n",
              "      <td>4.700000</td>\n",
              "      <td>65237.000000</td>\n",
              "    </tr>\n",
              "    <tr>\n",
              "      <th>75%</th>\n",
              "      <td>7.700000</td>\n",
              "      <td>100544.750000</td>\n",
              "    </tr>\n",
              "    <tr>\n",
              "      <th>max</th>\n",
              "      <td>10.500000</td>\n",
              "      <td>122391.000000</td>\n",
              "    </tr>\n",
              "  </tbody>\n",
              "</table>\n",
              "</div>"
            ],
            "text/plain": [
              "       YearsExperience         Salary\n",
              "count        30.000000      30.000000\n",
              "mean          5.313333   76003.000000\n",
              "std           2.837888   27414.429785\n",
              "min           1.100000   37731.000000\n",
              "25%           3.200000   56720.750000\n",
              "50%           4.700000   65237.000000\n",
              "75%           7.700000  100544.750000\n",
              "max          10.500000  122391.000000"
            ]
          },
          "metadata": {}
        }
      ],
      "id": "2906d77e"
    },
    {
      "cell_type": "markdown",
      "source": "* **average experience and average salary is 5.31 & 76003.00 respectively**\n* **mininum experience is about 1.1 years and maximum experience is about 10.5 years**\n* **mininum salary is 37731 and maximum salary is 122391**",
      "metadata": {},
      "id": "eae89994"
    },
    {
      "cell_type": "code",
      "source": "cor = salary_data.corr() \ncor                            #Correlation Coefficient",
      "metadata": {},
      "execution_count": 42,
      "outputs": [
        {
          "execution_count": 42,
          "output_type": "execute_result",
          "data": {
            "text/html": [
              "<div>\n",
              "<style scoped>\n",
              "    .dataframe tbody tr th:only-of-type {\n",
              "        vertical-align: middle;\n",
              "    }\n",
              "\n",
              "    .dataframe tbody tr th {\n",
              "        vertical-align: top;\n",
              "    }\n",
              "\n",
              "    .dataframe thead th {\n",
              "        text-align: right;\n",
              "    }\n",
              "</style>\n",
              "<table border=\"1\" class=\"dataframe\">\n",
              "  <thead>\n",
              "    <tr style=\"text-align: right;\">\n",
              "      <th></th>\n",
              "      <th>YearsExperience</th>\n",
              "      <th>Salary</th>\n",
              "    </tr>\n",
              "  </thead>\n",
              "  <tbody>\n",
              "    <tr>\n",
              "      <th>YearsExperience</th>\n",
              "      <td>1.000000</td>\n",
              "      <td>0.978242</td>\n",
              "    </tr>\n",
              "    <tr>\n",
              "      <th>Salary</th>\n",
              "      <td>0.978242</td>\n",
              "      <td>1.000000</td>\n",
              "    </tr>\n",
              "  </tbody>\n",
              "</table>\n",
              "</div>"
            ],
            "text/plain": [
              "                 YearsExperience    Salary\n",
              "YearsExperience         1.000000  0.978242\n",
              "Salary                  0.978242  1.000000"
            ]
          },
          "metadata": {}
        }
      ],
      "id": "c8aaabdd"
    },
    {
      "cell_type": "code",
      "source": "sns.heatmap(cor,annot=True)",
      "metadata": {},
      "execution_count": 43,
      "outputs": [
        {
          "execution_count": 43,
          "output_type": "execute_result",
          "data": {
            "text/plain": [
              "<AxesSubplot:>"
            ]
          },
          "metadata": {}
        },
        {
          "output_type": "display_data",
          "data": {
            "image/png": "[encoded data removed]",
            "text/plain": [
              "<Figure size 432x288 with 2 Axes>"
            ]
          },
          "metadata": {
            "needs_background": "light"
          }
        }
      ],
      "id": "f0bd6e61"
    },
    {
      "cell_type": "markdown",
      "source": "**there is high positive correlation between experience and salary**",
      "metadata": {},
      "id": "58ca83bc"
    },
    {
      "cell_type": "code",
      "source": "#boxplot\nplt.boxplot(x='YearsExperience',data=salary_data)\nplt.title(\"Boxplot of YearsExperience\")\nplt.show()\n",
      "metadata": {
        "scrolled": true
      },
      "execution_count": 44,
      "outputs": [
        {
          "output_type": "display_data",
          "data": {
            "image/png": "[encoded data removed]",
            "text/plain": [
              "<Figure size 432x288 with 1 Axes>"
            ]
          },
          "metadata": {
            "needs_background": "light"
          }
        }
      ],
      "id": "2431cc16"
    },
    {
      "cell_type": "code",
      "source": "plt.boxplot(x='Salary',data=salary_data)\nplt.title(\"Boxplot of Salary\")\nplt.show()",
      "metadata": {},
      "execution_count": 45,
      "outputs": [
        {
          "output_type": "display_data",
          "data": {
            "image/png": "[encoded data removed]",
            "text/plain": [
              "<Figure size 432x288 with 1 Axes>"
            ]
          },
          "metadata": {
            "needs_background": "light"
          }
        }
      ],
      "id": "730db6a7"
    },
    {
      "cell_type": "markdown",
      "source": "**there are no outliers in our data**",
      "metadata": {},
      "id": "b0b7a6b8"
    },
    {
      "cell_type": "code",
      "source": "#linearity\nsns.lmplot(x='YearsExperience',y='Salary',data=salary_data)\nplt.title('YearsExperience vs Salary')\nplt.show()",
      "metadata": {},
      "execution_count": 46,
      "outputs": [
        {
          "output_type": "display_data",
          "data": {
            "image/png": "[encoded data removed]",
            "text/plain": [
              "<Figure size 360x360 with 1 Axes>"
            ]
          },
          "metadata": {
            "needs_background": "light"
          }
        }
      ],
      "id": "f13961b9"
    },
    {
      "cell_type": "code",
      "source": "#Normality\nsns.distplot(salary_data['YearsExperience'])\nplt.title('YearsExperience')\nplt.show()",
      "metadata": {},
      "execution_count": 47,
      "outputs": [
        {
          "output_type": "display_data",
          "data": {
            "image/png": "[encoded data removed]",
            "text/plain": [
              "<Figure size 432x288 with 1 Axes>"
            ]
          },
          "metadata": {
            "needs_background": "light"
          }
        }
      ],
      "id": "c68d77b1"
    },
    {
      "cell_type": "markdown",
      "source": "**from above plot we can say that most of the data lie within group 2.5 - 7**",
      "metadata": {},
      "id": "d63c34fa"
    },
    {
      "cell_type": "code",
      "source": "sns.distplot(salary_data['Salary'])\nplt.title('Salary')\nplt.show()",
      "metadata": {},
      "execution_count": 48,
      "outputs": [
        {
          "output_type": "display_data",
          "data": {
            "image/png": "[encoded data removed]",
            "text/plain": [
              "<Figure size 432x288 with 1 Axes>"
            ]
          },
          "metadata": {
            "needs_background": "light"
          }
        }
      ],
      "id": "1e38b43e"
    },
    {
      "cell_type": "markdown",
      "source": "**from above plot we can say that most of the data lie within group 50k - 100k**",
      "metadata": {},
      "id": "eb89bdfa"
    },
    {
      "cell_type": "markdown",
      "source": "# Model Building || Model Training",
      "metadata": {},
      "id": "88291583"
    },
    {
      "cell_type": "code",
      "source": "salary_data=salary_data.rename(columns={\"YearsExperience\":\"X\",'Salary':'y'})\nsalary_data.head()",
      "metadata": {},
      "execution_count": 49,
      "outputs": [
        {
          "execution_count": 49,
          "output_type": "execute_result",
          "data": {
            "text/html": [
              "<div>\n",
              "<style scoped>\n",
              "    .dataframe tbody tr th:only-of-type {\n",
              "        vertical-align: middle;\n",
              "    }\n",
              "\n",
              "    .dataframe tbody tr th {\n",
              "        vertical-align: top;\n",
              "    }\n",
              "\n",
              "    .dataframe thead th {\n",
              "        text-align: right;\n",
              "    }\n",
              "</style>\n",
              "<table border=\"1\" class=\"dataframe\">\n",
              "  <thead>\n",
              "    <tr style=\"text-align: right;\">\n",
              "      <th></th>\n",
              "      <th>X</th>\n",
              "      <th>y</th>\n",
              "    </tr>\n",
              "  </thead>\n",
              "  <tbody>\n",
              "    <tr>\n",
              "      <th>0</th>\n",
              "      <td>1.1</td>\n",
              "      <td>39343.0</td>\n",
              "    </tr>\n",
              "    <tr>\n",
              "      <th>1</th>\n",
              "      <td>1.3</td>\n",
              "      <td>46205.0</td>\n",
              "    </tr>\n",
              "    <tr>\n",
              "      <th>2</th>\n",
              "      <td>1.5</td>\n",
              "      <td>37731.0</td>\n",
              "    </tr>\n",
              "    <tr>\n",
              "      <th>3</th>\n",
              "      <td>2.0</td>\n",
              "      <td>43525.0</td>\n",
              "    </tr>\n",
              "    <tr>\n",
              "      <th>4</th>\n",
              "      <td>2.2</td>\n",
              "      <td>39891.0</td>\n",
              "    </tr>\n",
              "  </tbody>\n",
              "</table>\n",
              "</div>"
            ],
            "text/plain": [
              "     X        y\n",
              "0  1.1  39343.0\n",
              "1  1.3  46205.0\n",
              "2  1.5  37731.0\n",
              "3  2.0  43525.0\n",
              "4  2.2  39891.0"
            ]
          },
          "metadata": {}
        }
      ],
      "id": "78ebcf13"
    },
    {
      "cell_type": "code",
      "source": "model = smf.ols('y~X',data=salary_data).fit()",
      "metadata": {},
      "execution_count": 50,
      "outputs": [],
      "id": "ae4d6e07"
    },
    {
      "cell_type": "code",
      "source": "model.summary()",
      "metadata": {},
      "execution_count": 51,
      "outputs": [
        {
          "execution_count": 51,
          "output_type": "execute_result",
          "data": {
            "text/html": [
              "<table class=\"simpletable\">\n",
              "<caption>OLS Regression Results</caption>\n",
              "<tr>\n",
              "  <th>Dep. Variable:</th>            <td>y</td>        <th>  R-squared:         </th> <td>   0.957</td>\n",
              "</tr>\n",
              "<tr>\n",
              "  <th>Model:</th>                   <td>OLS</td>       <th>  Adj. R-squared:    </th> <td>   0.955</td>\n",
              "</tr>\n",
              "<tr>\n",
              "  <th>Method:</th>             <td>Least Squares</td>  <th>  F-statistic:       </th> <td>   622.5</td>\n",
              "</tr>\n",
              "<tr>\n",
              "  <th>Date:</th>             <td>Fri, 14 Jan 2022</td> <th>  Prob (F-statistic):</th> <td>1.14e-20</td>\n",
              "</tr>\n",
              "<tr>\n",
              "  <th>Time:</th>                 <td>23:15:43</td>     <th>  Log-Likelihood:    </th> <td> -301.44</td>\n",
              "</tr>\n",
              "<tr>\n",
              "  <th>No. Observations:</th>      <td>    30</td>      <th>  AIC:               </th> <td>   606.9</td>\n",
              "</tr>\n",
              "<tr>\n",
              "  <th>Df Residuals:</th>          <td>    28</td>      <th>  BIC:               </th> <td>   609.7</td>\n",
              "</tr>\n",
              "<tr>\n",
              "  <th>Df Model:</th>              <td>     1</td>      <th>                     </th>     <td> </td>   \n",
              "</tr>\n",
              "<tr>\n",
              "  <th>Covariance Type:</th>      <td>nonrobust</td>    <th>                     </th>     <td> </td>   \n",
              "</tr>\n",
              "</table>\n",
              "<table class=\"simpletable\">\n",
              "<tr>\n",
              "      <td></td>         <th>coef</th>     <th>std err</th>      <th>t</th>      <th>P>|t|</th>  <th>[0.025</th>    <th>0.975]</th>  \n",
              "</tr>\n",
              "<tr>\n",
              "  <th>Intercept</th> <td> 2.579e+04</td> <td> 2273.053</td> <td>   11.347</td> <td> 0.000</td> <td> 2.11e+04</td> <td> 3.04e+04</td>\n",
              "</tr>\n",
              "<tr>\n",
              "  <th>X</th>         <td> 9449.9623</td> <td>  378.755</td> <td>   24.950</td> <td> 0.000</td> <td> 8674.119</td> <td> 1.02e+04</td>\n",
              "</tr>\n",
              "</table>\n",
              "<table class=\"simpletable\">\n",
              "<tr>\n",
              "  <th>Omnibus:</th>       <td> 2.140</td> <th>  Durbin-Watson:     </th> <td>   1.648</td>\n",
              "</tr>\n",
              "<tr>\n",
              "  <th>Prob(Omnibus):</th> <td> 0.343</td> <th>  Jarque-Bera (JB):  </th> <td>   1.569</td>\n",
              "</tr>\n",
              "<tr>\n",
              "  <th>Skew:</th>          <td> 0.363</td> <th>  Prob(JB):          </th> <td>   0.456</td>\n",
              "</tr>\n",
              "<tr>\n",
              "  <th>Kurtosis:</th>      <td> 2.147</td> <th>  Cond. No.          </th> <td>    13.2</td>\n",
              "</tr>\n",
              "</table><br/><br/>Notes:<br/>[1] Standard Errors assume that the covariance matrix of the errors is correctly specified."
            ],
            "text/plain": [
              "<class 'statsmodels.iolib.summary.Summary'>\n",
              "\"\"\"\n",
              "                            OLS Regression Results                            \n",
              "==============================================================================\n",
              "Dep. Variable:                      y   R-squared:                       0.957\n",
              "Model:                            OLS   Adj. R-squared:                  0.955\n",
              "Method:                 Least Squares   F-statistic:                     622.5\n",
              "Date:                Fri, 14 Jan 2022   Prob (F-statistic):           1.14e-20\n",
              "Time:                        23:15:43   Log-Likelihood:                -301.44\n",
              "No. Observations:                  30   AIC:                             606.9\n",
              "Df Residuals:                      28   BIC:                             609.7\n",
              "Df Model:                           1                                         \n",
              "Covariance Type:            nonrobust                                         \n",
              "==============================================================================\n",
              "                 coef    std err          t      P>|t|      [0.025      0.975]\n",
              "------------------------------------------------------------------------------\n",
              "Intercept   2.579e+04   2273.053     11.347      0.000    2.11e+04    3.04e+04\n",
              "X           9449.9623    378.755     24.950      0.000    8674.119    1.02e+04\n",
              "==============================================================================\n",
              "Omnibus:                        2.140   Durbin-Watson:                   1.648\n",
              "Prob(Omnibus):                  0.343   Jarque-Bera (JB):                1.569\n",
              "Skew:                           0.363   Prob(JB):                        0.456\n",
              "Kurtosis:                       2.147   Cond. No.                         13.2\n",
              "==============================================================================\n",
              "\n",
              "Notes:\n",
              "[1] Standard Errors assume that the covariance matrix of the errors is correctly specified.\n",
              "\"\"\""
            ]
          },
          "metadata": {}
        }
      ],
      "id": "917c62de"
    },
    {
      "cell_type": "code",
      "source": "#parameters\nmodel.params",
      "metadata": {},
      "execution_count": 52,
      "outputs": [
        {
          "execution_count": 52,
          "output_type": "execute_result",
          "data": {
            "text/plain": [
              "Intercept    25792.200199\n",
              "X             9449.962321\n",
              "dtype: float64"
            ]
          },
          "metadata": {}
        }
      ],
      "id": "2096af5b"
    },
    {
      "cell_type": "code",
      "source": "#t-values and p-values\nprint(model.tvalues ,'\\n', model.pvalues)",
      "metadata": {},
      "execution_count": 53,
      "outputs": [
        {
          "name": "stdout",
          "output_type": "stream",
          "text": "Intercept    11.346940\n\nX            24.950094\n\ndtype: float64 \n\n Intercept    5.511950e-12\n\nX            1.143068e-20\n\ndtype: float64\n"
        }
      ],
      "id": "0d213943"
    },
    {
      "cell_type": "code",
      "source": "#R squared values\n(model.rsquared,model.rsquared_adj)",
      "metadata": {},
      "execution_count": 54,
      "outputs": [
        {
          "execution_count": 54,
          "output_type": "execute_result",
          "data": {
            "text/plain": [
              "(0.9569566641435086, 0.9554194021486339)"
            ]
          },
          "metadata": {}
        }
      ],
      "id": "21d10b7e"
    },
    {
      "cell_type": "markdown",
      "source": "#### \n**since our r-square value is 0.957** \n\n**hence, higher r-squared indicates a better fit for the model.**\n",
      "metadata": {},
      "id": "a9d41834"
    },
    {
      "cell_type": "code",
      "source": "#Residual Plot\nsns.residplot(x=salary_data['X'],y=model.resid)\nplt.title('Residual plot')\nplt.xlabel('X')\nplt.ylabel('Residuals')\nplt.show()",
      "metadata": {},
      "execution_count": 55,
      "outputs": [
        {
          "output_type": "display_data",
          "data": {
            "image/png": "[encoded data removed]",
            "text/plain": [
              "<Figure size 432x288 with 1 Axes>"
            ]
          },
          "metadata": {
            "needs_background": "light"
          }
        }
      ],
      "id": "3efaa2fd"
    },
    {
      "cell_type": "markdown",
      "source": "By observing the above Residual Plot, we can say that the residual plot has **random pattern**, \nthat indicating a good fit for a linear model.",
      "metadata": {},
      "id": "c77af02d"
    },
    {
      "cell_type": "markdown",
      "source": "# ",
      "metadata": {},
      "id": "b75709e8"
    },
    {
      "cell_type": "markdown",
      "source": "### Now we see that what r-square value and residual plot show us for transformed equations",
      "metadata": {},
      "id": "3021bd8b"
    },
    {
      "cell_type": "markdown",
      "source": "# By Using Different Transformations",
      "metadata": {},
      "id": "92c9ab28"
    },
    {
      "cell_type": "markdown",
      "source": "# 1) Log Tranformation",
      "metadata": {},
      "id": "6bf76d6e"
    },
    {
      "cell_type": "code",
      "source": "salary_data.head()",
      "metadata": {},
      "execution_count": 56,
      "outputs": [
        {
          "execution_count": 56,
          "output_type": "execute_result",
          "data": {
            "text/html": [
              "<div>\n",
              "<style scoped>\n",
              "    .dataframe tbody tr th:only-of-type {\n",
              "        vertical-align: middle;\n",
              "    }\n",
              "\n",
              "    .dataframe tbody tr th {\n",
              "        vertical-align: top;\n",
              "    }\n",
              "\n",
              "    .dataframe thead th {\n",
              "        text-align: right;\n",
              "    }\n",
              "</style>\n",
              "<table border=\"1\" class=\"dataframe\">\n",
              "  <thead>\n",
              "    <tr style=\"text-align: right;\">\n",
              "      <th></th>\n",
              "      <th>X</th>\n",
              "      <th>y</th>\n",
              "    </tr>\n",
              "  </thead>\n",
              "  <tbody>\n",
              "    <tr>\n",
              "      <th>0</th>\n",
              "      <td>1.1</td>\n",
              "      <td>39343.0</td>\n",
              "    </tr>\n",
              "    <tr>\n",
              "      <th>1</th>\n",
              "      <td>1.3</td>\n",
              "      <td>46205.0</td>\n",
              "    </tr>\n",
              "    <tr>\n",
              "      <th>2</th>\n",
              "      <td>1.5</td>\n",
              "      <td>37731.0</td>\n",
              "    </tr>\n",
              "    <tr>\n",
              "      <th>3</th>\n",
              "      <td>2.0</td>\n",
              "      <td>43525.0</td>\n",
              "    </tr>\n",
              "    <tr>\n",
              "      <th>4</th>\n",
              "      <td>2.2</td>\n",
              "      <td>39891.0</td>\n",
              "    </tr>\n",
              "  </tbody>\n",
              "</table>\n",
              "</div>"
            ],
            "text/plain": [
              "     X        y\n",
              "0  1.1  39343.0\n",
              "1  1.3  46205.0\n",
              "2  1.5  37731.0\n",
              "3  2.0  43525.0\n",
              "4  2.2  39891.0"
            ]
          },
          "metadata": {}
        }
      ],
      "id": "fda35783"
    },
    {
      "cell_type": "code",
      "source": "salary_data['log_x'] = np.log(salary_data['X'])",
      "metadata": {},
      "execution_count": 57,
      "outputs": [],
      "id": "f8bbc04e"
    },
    {
      "cell_type": "code",
      "source": "salary_data.head()",
      "metadata": {},
      "execution_count": 58,
      "outputs": [
        {
          "execution_count": 58,
          "output_type": "execute_result",
          "data": {
            "text/html": [
              "<div>\n",
              "<style scoped>\n",
              "    .dataframe tbody tr th:only-of-type {\n",
              "        vertical-align: middle;\n",
              "    }\n",
              "\n",
              "    .dataframe tbody tr th {\n",
              "        vertical-align: top;\n",
              "    }\n",
              "\n",
              "    .dataframe thead th {\n",
              "        text-align: right;\n",
              "    }\n",
              "</style>\n",
              "<table border=\"1\" class=\"dataframe\">\n",
              "  <thead>\n",
              "    <tr style=\"text-align: right;\">\n",
              "      <th></th>\n",
              "      <th>X</th>\n",
              "      <th>y</th>\n",
              "      <th>log_x</th>\n",
              "    </tr>\n",
              "  </thead>\n",
              "  <tbody>\n",
              "    <tr>\n",
              "      <th>0</th>\n",
              "      <td>1.1</td>\n",
              "      <td>39343.0</td>\n",
              "      <td>0.095310</td>\n",
              "    </tr>\n",
              "    <tr>\n",
              "      <th>1</th>\n",
              "      <td>1.3</td>\n",
              "      <td>46205.0</td>\n",
              "      <td>0.262364</td>\n",
              "    </tr>\n",
              "    <tr>\n",
              "      <th>2</th>\n",
              "      <td>1.5</td>\n",
              "      <td>37731.0</td>\n",
              "      <td>0.405465</td>\n",
              "    </tr>\n",
              "    <tr>\n",
              "      <th>3</th>\n",
              "      <td>2.0</td>\n",
              "      <td>43525.0</td>\n",
              "      <td>0.693147</td>\n",
              "    </tr>\n",
              "    <tr>\n",
              "      <th>4</th>\n",
              "      <td>2.2</td>\n",
              "      <td>39891.0</td>\n",
              "      <td>0.788457</td>\n",
              "    </tr>\n",
              "  </tbody>\n",
              "</table>\n",
              "</div>"
            ],
            "text/plain": [
              "     X        y     log_x\n",
              "0  1.1  39343.0  0.095310\n",
              "1  1.3  46205.0  0.262364\n",
              "2  1.5  37731.0  0.405465\n",
              "3  2.0  43525.0  0.693147\n",
              "4  2.2  39891.0  0.788457"
            ]
          },
          "metadata": {}
        }
      ],
      "id": "868dcb51"
    },
    {
      "cell_type": "code",
      "source": "sns.distplot(salary_data['log_x'])\nplt.title(\"Log_x\")\nplt.show()",
      "metadata": {},
      "execution_count": 59,
      "outputs": [
        {
          "output_type": "display_data",
          "data": {
            "image/png": "[encoded data removed]",
            "text/plain": [
              "<Figure size 432x288 with 1 Axes>"
            ]
          },
          "metadata": {
            "needs_background": "light"
          }
        }
      ],
      "id": "7a5d317c"
    },
    {
      "cell_type": "markdown",
      "source": "### Model Building || Model Training",
      "metadata": {},
      "id": "5336da7e"
    },
    {
      "cell_type": "code",
      "source": "model_1 = smf.ols('y~log_x',data=salary_data).fit()",
      "metadata": {},
      "execution_count": 64,
      "outputs": [],
      "id": "b6076c64"
    },
    {
      "cell_type": "code",
      "source": "model_1.summary()",
      "metadata": {},
      "execution_count": 65,
      "outputs": [
        {
          "execution_count": 65,
          "output_type": "execute_result",
          "data": {
            "text/html": [
              "<table class=\"simpletable\">\n",
              "<caption>OLS Regression Results</caption>\n",
              "<tr>\n",
              "  <th>Dep. Variable:</th>            <td>y</td>        <th>  R-squared:         </th> <td>   0.854</td>\n",
              "</tr>\n",
              "<tr>\n",
              "  <th>Model:</th>                   <td>OLS</td>       <th>  Adj. R-squared:    </th> <td>   0.849</td>\n",
              "</tr>\n",
              "<tr>\n",
              "  <th>Method:</th>             <td>Least Squares</td>  <th>  F-statistic:       </th> <td>   163.6</td>\n",
              "</tr>\n",
              "<tr>\n",
              "  <th>Date:</th>             <td>Fri, 14 Jan 2022</td> <th>  Prob (F-statistic):</th> <td>3.25e-13</td>\n",
              "</tr>\n",
              "<tr>\n",
              "  <th>Time:</th>                 <td>23:16:35</td>     <th>  Log-Likelihood:    </th> <td> -319.77</td>\n",
              "</tr>\n",
              "<tr>\n",
              "  <th>No. Observations:</th>      <td>    30</td>      <th>  AIC:               </th> <td>   643.5</td>\n",
              "</tr>\n",
              "<tr>\n",
              "  <th>Df Residuals:</th>          <td>    28</td>      <th>  BIC:               </th> <td>   646.3</td>\n",
              "</tr>\n",
              "<tr>\n",
              "  <th>Df Model:</th>              <td>     1</td>      <th>                     </th>     <td> </td>   \n",
              "</tr>\n",
              "<tr>\n",
              "  <th>Covariance Type:</th>      <td>nonrobust</td>    <th>                     </th>     <td> </td>   \n",
              "</tr>\n",
              "</table>\n",
              "<table class=\"simpletable\">\n",
              "<tr>\n",
              "      <td></td>         <th>coef</th>     <th>std err</th>      <th>t</th>      <th>P>|t|</th>  <th>[0.025</th>    <th>0.975]</th>  \n",
              "</tr>\n",
              "<tr>\n",
              "  <th>Intercept</th> <td> 1.493e+04</td> <td> 5156.226</td> <td>    2.895</td> <td> 0.007</td> <td> 4365.921</td> <td> 2.55e+04</td>\n",
              "</tr>\n",
              "<tr>\n",
              "  <th>log_x</th>     <td> 4.058e+04</td> <td> 3172.453</td> <td>   12.792</td> <td> 0.000</td> <td> 3.41e+04</td> <td> 4.71e+04</td>\n",
              "</tr>\n",
              "</table>\n",
              "<table class=\"simpletable\">\n",
              "<tr>\n",
              "  <th>Omnibus:</th>       <td> 1.094</td> <th>  Durbin-Watson:     </th> <td>   0.512</td>\n",
              "</tr>\n",
              "<tr>\n",
              "  <th>Prob(Omnibus):</th> <td> 0.579</td> <th>  Jarque-Bera (JB):  </th> <td>   0.908</td>\n",
              "</tr>\n",
              "<tr>\n",
              "  <th>Skew:</th>          <td> 0.156</td> <th>  Prob(JB):          </th> <td>   0.635</td>\n",
              "</tr>\n",
              "<tr>\n",
              "  <th>Kurtosis:</th>      <td> 2.207</td> <th>  Cond. No.          </th> <td>    5.76</td>\n",
              "</tr>\n",
              "</table><br/><br/>Notes:<br/>[1] Standard Errors assume that the covariance matrix of the errors is correctly specified."
            ],
            "text/plain": [
              "<class 'statsmodels.iolib.summary.Summary'>\n",
              "\"\"\"\n",
              "                            OLS Regression Results                            \n",
              "==============================================================================\n",
              "Dep. Variable:                      y   R-squared:                       0.854\n",
              "Model:                            OLS   Adj. R-squared:                  0.849\n",
              "Method:                 Least Squares   F-statistic:                     163.6\n",
              "Date:                Fri, 14 Jan 2022   Prob (F-statistic):           3.25e-13\n",
              "Time:                        23:16:35   Log-Likelihood:                -319.77\n",
              "No. Observations:                  30   AIC:                             643.5\n",
              "Df Residuals:                      28   BIC:                             646.3\n",
              "Df Model:                           1                                         \n",
              "Covariance Type:            nonrobust                                         \n",
              "==============================================================================\n",
              "                 coef    std err          t      P>|t|      [0.025      0.975]\n",
              "------------------------------------------------------------------------------\n",
              "Intercept   1.493e+04   5156.226      2.895      0.007    4365.921    2.55e+04\n",
              "log_x       4.058e+04   3172.453     12.792      0.000    3.41e+04    4.71e+04\n",
              "==============================================================================\n",
              "Omnibus:                        1.094   Durbin-Watson:                   0.512\n",
              "Prob(Omnibus):                  0.579   Jarque-Bera (JB):                0.908\n",
              "Skew:                           0.156   Prob(JB):                        0.635\n",
              "Kurtosis:                       2.207   Cond. No.                         5.76\n",
              "==============================================================================\n",
              "\n",
              "Notes:\n",
              "[1] Standard Errors assume that the covariance matrix of the errors is correctly specified.\n",
              "\"\"\""
            ]
          },
          "metadata": {}
        }
      ],
      "id": "d70fd8c3"
    },
    {
      "cell_type": "code",
      "source": "model_1.rsquared",
      "metadata": {
        "scrolled": true
      },
      "execution_count": 66,
      "outputs": [
        {
          "execution_count": 66,
          "output_type": "execute_result",
          "data": {
            "text/plain": [
              "0.8538888828756969"
            ]
          },
          "metadata": {}
        }
      ],
      "id": "de5f575e"
    },
    {
      "cell_type": "markdown",
      "source": "This r-square value is less than the r-square of the model from raw data.",
      "metadata": {},
      "id": "0d1c0127"
    },
    {
      "cell_type": "code",
      "source": "#Residual  Plot\nsns.residplot(x=salary_data['log_x'],y=model_1.resid)\nplt.title('Residual plot')\nplt.xlabel('log_x')\nplt.ylabel('Residuals')\nplt.show()",
      "metadata": {},
      "execution_count": 67,
      "outputs": [
        {
          "output_type": "display_data",
          "data": {
            "image/png": "[encoded data removed]",
            "text/plain": [
              "<Figure size 432x288 with 1 Axes>"
            ]
          },
          "metadata": {
            "needs_background": "light"
          }
        }
      ],
      "id": "2067521c"
    },
    {
      "cell_type": "markdown",
      "source": "The above residual plot show **U-shape**,which indicates our residual are **Non-random**.",
      "metadata": {},
      "id": "5f245b2f"
    },
    {
      "cell_type": "markdown",
      "source": "# ",
      "metadata": {},
      "id": "53d1df3e"
    },
    {
      "cell_type": "markdown",
      "source": "# Quadratic model (SQRT Transformation)",
      "metadata": {},
      "id": "a4d4ff11"
    },
    {
      "cell_type": "code",
      "source": "salary_data['sqrt_x'] = np.sqrt(salary_data['X'])",
      "metadata": {},
      "execution_count": 68,
      "outputs": [],
      "id": "fafc1210"
    },
    {
      "cell_type": "code",
      "source": "salary_data.head()",
      "metadata": {},
      "execution_count": 69,
      "outputs": [
        {
          "execution_count": 69,
          "output_type": "execute_result",
          "data": {
            "text/html": [
              "<div>\n",
              "<style scoped>\n",
              "    .dataframe tbody tr th:only-of-type {\n",
              "        vertical-align: middle;\n",
              "    }\n",
              "\n",
              "    .dataframe tbody tr th {\n",
              "        vertical-align: top;\n",
              "    }\n",
              "\n",
              "    .dataframe thead th {\n",
              "        text-align: right;\n",
              "    }\n",
              "</style>\n",
              "<table border=\"1\" class=\"dataframe\">\n",
              "  <thead>\n",
              "    <tr style=\"text-align: right;\">\n",
              "      <th></th>\n",
              "      <th>X</th>\n",
              "      <th>y</th>\n",
              "      <th>log_x</th>\n",
              "      <th>sqrt_x</th>\n",
              "    </tr>\n",
              "  </thead>\n",
              "  <tbody>\n",
              "    <tr>\n",
              "      <th>0</th>\n",
              "      <td>1.1</td>\n",
              "      <td>39343.0</td>\n",
              "      <td>0.095310</td>\n",
              "      <td>1.048809</td>\n",
              "    </tr>\n",
              "    <tr>\n",
              "      <th>1</th>\n",
              "      <td>1.3</td>\n",
              "      <td>46205.0</td>\n",
              "      <td>0.262364</td>\n",
              "      <td>1.140175</td>\n",
              "    </tr>\n",
              "    <tr>\n",
              "      <th>2</th>\n",
              "      <td>1.5</td>\n",
              "      <td>37731.0</td>\n",
              "      <td>0.405465</td>\n",
              "      <td>1.224745</td>\n",
              "    </tr>\n",
              "    <tr>\n",
              "      <th>3</th>\n",
              "      <td>2.0</td>\n",
              "      <td>43525.0</td>\n",
              "      <td>0.693147</td>\n",
              "      <td>1.414214</td>\n",
              "    </tr>\n",
              "    <tr>\n",
              "      <th>4</th>\n",
              "      <td>2.2</td>\n",
              "      <td>39891.0</td>\n",
              "      <td>0.788457</td>\n",
              "      <td>1.483240</td>\n",
              "    </tr>\n",
              "  </tbody>\n",
              "</table>\n",
              "</div>"
            ],
            "text/plain": [
              "     X        y     log_x    sqrt_x\n",
              "0  1.1  39343.0  0.095310  1.048809\n",
              "1  1.3  46205.0  0.262364  1.140175\n",
              "2  1.5  37731.0  0.405465  1.224745\n",
              "3  2.0  43525.0  0.693147  1.414214\n",
              "4  2.2  39891.0  0.788457  1.483240"
            ]
          },
          "metadata": {}
        }
      ],
      "id": "e04f335b"
    },
    {
      "cell_type": "code",
      "source": "sns.distplot(salary_data['sqrt_x'])\nplt.title(\"sqrt_x\")\nplt.show()",
      "metadata": {
        "scrolled": true
      },
      "execution_count": 70,
      "outputs": [
        {
          "output_type": "display_data",
          "data": {
            "image/png": "[encoded data removed]",
            "text/plain": [
              "<Figure size 432x288 with 1 Axes>"
            ]
          },
          "metadata": {
            "needs_background": "light"
          }
        }
      ],
      "id": "6dc9d327"
    },
    {
      "cell_type": "markdown",
      "source": "### Model Building || Model Training",
      "metadata": {},
      "id": "03e3f59a"
    },
    {
      "cell_type": "code",
      "source": "model_2 = smf.ols('y~sqrt_x',data=salary_data).fit()",
      "metadata": {},
      "execution_count": 71,
      "outputs": [],
      "id": "fee49e74"
    },
    {
      "cell_type": "code",
      "source": "model_2.summary()",
      "metadata": {},
      "execution_count": 72,
      "outputs": [
        {
          "execution_count": 72,
          "output_type": "execute_result",
          "data": {
            "text/html": [
              "<table class=\"simpletable\">\n",
              "<caption>OLS Regression Results</caption>\n",
              "<tr>\n",
              "  <th>Dep. Variable:</th>            <td>y</td>        <th>  R-squared:         </th> <td>   0.931</td>\n",
              "</tr>\n",
              "<tr>\n",
              "  <th>Model:</th>                   <td>OLS</td>       <th>  Adj. R-squared:    </th> <td>   0.929</td>\n",
              "</tr>\n",
              "<tr>\n",
              "  <th>Method:</th>             <td>Least Squares</td>  <th>  F-statistic:       </th> <td>   377.8</td>\n",
              "</tr>\n",
              "<tr>\n",
              "  <th>Date:</th>             <td>Fri, 14 Jan 2022</td> <th>  Prob (F-statistic):</th> <td>8.57e-18</td>\n",
              "</tr>\n",
              "<tr>\n",
              "  <th>Time:</th>                 <td>23:16:47</td>     <th>  Log-Likelihood:    </th> <td> -308.52</td>\n",
              "</tr>\n",
              "<tr>\n",
              "  <th>No. Observations:</th>      <td>    30</td>      <th>  AIC:               </th> <td>   621.0</td>\n",
              "</tr>\n",
              "<tr>\n",
              "  <th>Df Residuals:</th>          <td>    28</td>      <th>  BIC:               </th> <td>   623.8</td>\n",
              "</tr>\n",
              "<tr>\n",
              "  <th>Df Model:</th>              <td>     1</td>      <th>                     </th>     <td> </td>   \n",
              "</tr>\n",
              "<tr>\n",
              "  <th>Covariance Type:</th>      <td>nonrobust</td>    <th>                     </th>     <td> </td>   \n",
              "</tr>\n",
              "</table>\n",
              "<table class=\"simpletable\">\n",
              "<tr>\n",
              "      <td></td>         <th>coef</th>     <th>std err</th>      <th>t</th>      <th>P>|t|</th>  <th>[0.025</th>    <th>0.975]</th>  \n",
              "</tr>\n",
              "<tr>\n",
              "  <th>Intercept</th> <td>-1.606e+04</td> <td> 4921.599</td> <td>   -3.262</td> <td> 0.003</td> <td>-2.61e+04</td> <td>-5974.331</td>\n",
              "</tr>\n",
              "<tr>\n",
              "  <th>sqrt_x</th>    <td>  4.15e+04</td> <td> 2135.122</td> <td>   19.437</td> <td> 0.000</td> <td> 3.71e+04</td> <td> 4.59e+04</td>\n",
              "</tr>\n",
              "</table>\n",
              "<table class=\"simpletable\">\n",
              "<tr>\n",
              "  <th>Omnibus:</th>       <td> 0.588</td> <th>  Durbin-Watson:     </th> <td>   1.031</td>\n",
              "</tr>\n",
              "<tr>\n",
              "  <th>Prob(Omnibus):</th> <td> 0.745</td> <th>  Jarque-Bera (JB):  </th> <td>   0.638</td>\n",
              "</tr>\n",
              "<tr>\n",
              "  <th>Skew:</th>          <td> 0.011</td> <th>  Prob(JB):          </th> <td>   0.727</td>\n",
              "</tr>\n",
              "<tr>\n",
              "  <th>Kurtosis:</th>      <td> 2.286</td> <th>  Cond. No.          </th> <td>    9.97</td>\n",
              "</tr>\n",
              "</table><br/><br/>Notes:<br/>[1] Standard Errors assume that the covariance matrix of the errors is correctly specified."
            ],
            "text/plain": [
              "<class 'statsmodels.iolib.summary.Summary'>\n",
              "\"\"\"\n",
              "                            OLS Regression Results                            \n",
              "==============================================================================\n",
              "Dep. Variable:                      y   R-squared:                       0.931\n",
              "Model:                            OLS   Adj. R-squared:                  0.929\n",
              "Method:                 Least Squares   F-statistic:                     377.8\n",
              "Date:                Fri, 14 Jan 2022   Prob (F-statistic):           8.57e-18\n",
              "Time:                        23:16:47   Log-Likelihood:                -308.52\n",
              "No. Observations:                  30   AIC:                             621.0\n",
              "Df Residuals:                      28   BIC:                             623.8\n",
              "Df Model:                           1                                         \n",
              "Covariance Type:            nonrobust                                         \n",
              "==============================================================================\n",
              "                 coef    std err          t      P>|t|      [0.025      0.975]\n",
              "------------------------------------------------------------------------------\n",
              "Intercept  -1.606e+04   4921.599     -3.262      0.003   -2.61e+04   -5974.331\n",
              "sqrt_x       4.15e+04   2135.122     19.437      0.000    3.71e+04    4.59e+04\n",
              "==============================================================================\n",
              "Omnibus:                        0.588   Durbin-Watson:                   1.031\n",
              "Prob(Omnibus):                  0.745   Jarque-Bera (JB):                0.638\n",
              "Skew:                           0.011   Prob(JB):                        0.727\n",
              "Kurtosis:                       2.286   Cond. No.                         9.97\n",
              "==============================================================================\n",
              "\n",
              "Notes:\n",
              "[1] Standard Errors assume that the covariance matrix of the errors is correctly specified.\n",
              "\"\"\""
            ]
          },
          "metadata": {}
        }
      ],
      "id": "a0eebe43"
    },
    {
      "cell_type": "code",
      "source": "model_2.rsquared",
      "metadata": {},
      "execution_count": 75,
      "outputs": [
        {
          "execution_count": 75,
          "output_type": "execute_result",
          "data": {
            "text/plain": [
              "0.9310009544993526"
            ]
          },
          "metadata": {}
        }
      ],
      "id": "e2e1148a"
    },
    {
      "cell_type": "markdown",
      "source": "This r-square value is also less than the r-square of the model from raw data.",
      "metadata": {},
      "id": "474eb78a"
    },
    {
      "cell_type": "code",
      "source": "#Residual Plot\nsns.residplot(x=salary_data['sqrt_x'],y=model_2.resid)\nplt.title('Residual plot')\nplt.xlabel('log_x')\nplt.ylabel('Residuals')\nplt.show()",
      "metadata": {},
      "execution_count": 76,
      "outputs": [
        {
          "output_type": "display_data",
          "data": {
            "image/png": "[encoded data removed]",
            "text/plain": [
              "<Figure size 432x288 with 1 Axes>"
            ]
          },
          "metadata": {
            "needs_background": "light"
          }
        }
      ],
      "id": "ecf5630f"
    },
    {
      "cell_type": "markdown",
      "source": "The above residual plot show **U-shape**,which indicates our residual are **Non-random**.",
      "metadata": {},
      "id": "820c4012"
    },
    {
      "cell_type": "markdown",
      "source": "# 3) Reciprocal model (1/y) Transformation",
      "metadata": {},
      "id": "a225902c"
    },
    {
      "cell_type": "markdown",
      "source": "**In this we are going to transform the dependent variable**",
      "metadata": {},
      "id": "e9963ca8"
    },
    {
      "cell_type": "code",
      "source": "salary_data['res_proc_y']  = 1/salary_data['y']",
      "metadata": {},
      "execution_count": 77,
      "outputs": [],
      "id": "67af0ad0"
    },
    {
      "cell_type": "code",
      "source": "salary_data.head()",
      "metadata": {},
      "execution_count": 78,
      "outputs": [
        {
          "execution_count": 78,
          "output_type": "execute_result",
          "data": {
            "text/html": [
              "<div>\n",
              "<style scoped>\n",
              "    .dataframe tbody tr th:only-of-type {\n",
              "        vertical-align: middle;\n",
              "    }\n",
              "\n",
              "    .dataframe tbody tr th {\n",
              "        vertical-align: top;\n",
              "    }\n",
              "\n",
              "    .dataframe thead th {\n",
              "        text-align: right;\n",
              "    }\n",
              "</style>\n",
              "<table border=\"1\" class=\"dataframe\">\n",
              "  <thead>\n",
              "    <tr style=\"text-align: right;\">\n",
              "      <th></th>\n",
              "      <th>X</th>\n",
              "      <th>y</th>\n",
              "      <th>log_x</th>\n",
              "      <th>sqrt_x</th>\n",
              "      <th>res_proc_y</th>\n",
              "    </tr>\n",
              "  </thead>\n",
              "  <tbody>\n",
              "    <tr>\n",
              "      <th>0</th>\n",
              "      <td>1.1</td>\n",
              "      <td>39343.0</td>\n",
              "      <td>0.095310</td>\n",
              "      <td>1.048809</td>\n",
              "      <td>0.000025</td>\n",
              "    </tr>\n",
              "    <tr>\n",
              "      <th>1</th>\n",
              "      <td>1.3</td>\n",
              "      <td>46205.0</td>\n",
              "      <td>0.262364</td>\n",
              "      <td>1.140175</td>\n",
              "      <td>0.000022</td>\n",
              "    </tr>\n",
              "    <tr>\n",
              "      <th>2</th>\n",
              "      <td>1.5</td>\n",
              "      <td>37731.0</td>\n",
              "      <td>0.405465</td>\n",
              "      <td>1.224745</td>\n",
              "      <td>0.000027</td>\n",
              "    </tr>\n",
              "    <tr>\n",
              "      <th>3</th>\n",
              "      <td>2.0</td>\n",
              "      <td>43525.0</td>\n",
              "      <td>0.693147</td>\n",
              "      <td>1.414214</td>\n",
              "      <td>0.000023</td>\n",
              "    </tr>\n",
              "    <tr>\n",
              "      <th>4</th>\n",
              "      <td>2.2</td>\n",
              "      <td>39891.0</td>\n",
              "      <td>0.788457</td>\n",
              "      <td>1.483240</td>\n",
              "      <td>0.000025</td>\n",
              "    </tr>\n",
              "  </tbody>\n",
              "</table>\n",
              "</div>"
            ],
            "text/plain": [
              "     X        y     log_x    sqrt_x  res_proc_y\n",
              "0  1.1  39343.0  0.095310  1.048809    0.000025\n",
              "1  1.3  46205.0  0.262364  1.140175    0.000022\n",
              "2  1.5  37731.0  0.405465  1.224745    0.000027\n",
              "3  2.0  43525.0  0.693147  1.414214    0.000023\n",
              "4  2.2  39891.0  0.788457  1.483240    0.000025"
            ]
          },
          "metadata": {}
        }
      ],
      "id": "9ac79583"
    },
    {
      "cell_type": "code",
      "source": "sns.distplot(salary_data['res_proc_y'])\nplt.title(\"res_proc_y\")\nplt.show()",
      "metadata": {
        "scrolled": true
      },
      "execution_count": 79,
      "outputs": [
        {
          "output_type": "display_data",
          "data": {
            "image/png": "[encoded data removed]",
            "text/plain": [
              "<Figure size 432x288 with 1 Axes>"
            ]
          },
          "metadata": {
            "needs_background": "light"
          }
        }
      ],
      "id": "1c30cef7"
    },
    {
      "cell_type": "markdown",
      "source": "### Model Building || Model Training",
      "metadata": {},
      "id": "d4f224e7"
    },
    {
      "cell_type": "code",
      "source": "model_3 = smf.ols('res_proc_y~X',data=salary_data).fit()",
      "metadata": {},
      "execution_count": 80,
      "outputs": [],
      "id": "54b60609"
    },
    {
      "cell_type": "code",
      "source": "model_3.summary()",
      "metadata": {},
      "execution_count": 81,
      "outputs": [
        {
          "execution_count": 81,
          "output_type": "execute_result",
          "data": {
            "text/html": [
              "<table class=\"simpletable\">\n",
              "<caption>OLS Regression Results</caption>\n",
              "<tr>\n",
              "  <th>Dep. Variable:</th>       <td>res_proc_y</td>    <th>  R-squared:         </th> <td>   0.861</td>\n",
              "</tr>\n",
              "<tr>\n",
              "  <th>Model:</th>                   <td>OLS</td>       <th>  Adj. R-squared:    </th> <td>   0.856</td>\n",
              "</tr>\n",
              "<tr>\n",
              "  <th>Method:</th>             <td>Least Squares</td>  <th>  F-statistic:       </th> <td>   173.2</td>\n",
              "</tr>\n",
              "<tr>\n",
              "  <th>Date:</th>             <td>Fri, 14 Jan 2022</td> <th>  Prob (F-statistic):</th> <td>1.63e-13</td>\n",
              "</tr>\n",
              "<tr>\n",
              "  <th>Time:</th>                 <td>23:17:59</td>     <th>  Log-Likelihood:    </th> <td>  350.83</td>\n",
              "</tr>\n",
              "<tr>\n",
              "  <th>No. Observations:</th>      <td>    30</td>      <th>  AIC:               </th> <td>  -697.7</td>\n",
              "</tr>\n",
              "<tr>\n",
              "  <th>Df Residuals:</th>          <td>    28</td>      <th>  BIC:               </th> <td>  -694.9</td>\n",
              "</tr>\n",
              "<tr>\n",
              "  <th>Df Model:</th>              <td>     1</td>      <th>                     </th>     <td> </td>   \n",
              "</tr>\n",
              "<tr>\n",
              "  <th>Covariance Type:</th>      <td>nonrobust</td>    <th>                     </th>     <td> </td>   \n",
              "</tr>\n",
              "</table>\n",
              "<table class=\"simpletable\">\n",
              "<tr>\n",
              "      <td></td>         <th>coef</th>     <th>std err</th>      <th>t</th>      <th>P>|t|</th>  <th>[0.025</th>    <th>0.975]</th>  \n",
              "</tr>\n",
              "<tr>\n",
              "  <th>Intercept</th> <td> 2.454e-05</td> <td>  8.2e-07</td> <td>   29.913</td> <td> 0.000</td> <td> 2.29e-05</td> <td> 2.62e-05</td>\n",
              "</tr>\n",
              "<tr>\n",
              "  <th>X</th>         <td>-1.799e-06</td> <td> 1.37e-07</td> <td>  -13.162</td> <td> 0.000</td> <td>-2.08e-06</td> <td>-1.52e-06</td>\n",
              "</tr>\n",
              "</table>\n",
              "<table class=\"simpletable\">\n",
              "<tr>\n",
              "  <th>Omnibus:</th>       <td> 1.760</td> <th>  Durbin-Watson:     </th> <td>   1.137</td>\n",
              "</tr>\n",
              "<tr>\n",
              "  <th>Prob(Omnibus):</th> <td> 0.415</td> <th>  Jarque-Bera (JB):  </th> <td>   1.380</td>\n",
              "</tr>\n",
              "<tr>\n",
              "  <th>Skew:</th>          <td> 0.516</td> <th>  Prob(JB):          </th> <td>   0.502</td>\n",
              "</tr>\n",
              "<tr>\n",
              "  <th>Kurtosis:</th>      <td> 2.802</td> <th>  Cond. No.          </th> <td>    13.2</td>\n",
              "</tr>\n",
              "</table><br/><br/>Notes:<br/>[1] Standard Errors assume that the covariance matrix of the errors is correctly specified."
            ],
            "text/plain": [
              "<class 'statsmodels.iolib.summary.Summary'>\n",
              "\"\"\"\n",
              "                            OLS Regression Results                            \n",
              "==============================================================================\n",
              "Dep. Variable:             res_proc_y   R-squared:                       0.861\n",
              "Model:                            OLS   Adj. R-squared:                  0.856\n",
              "Method:                 Least Squares   F-statistic:                     173.2\n",
              "Date:                Fri, 14 Jan 2022   Prob (F-statistic):           1.63e-13\n",
              "Time:                        23:17:59   Log-Likelihood:                 350.83\n",
              "No. Observations:                  30   AIC:                            -697.7\n",
              "Df Residuals:                      28   BIC:                            -694.9\n",
              "Df Model:                           1                                         \n",
              "Covariance Type:            nonrobust                                         \n",
              "==============================================================================\n",
              "                 coef    std err          t      P>|t|      [0.025      0.975]\n",
              "------------------------------------------------------------------------------\n",
              "Intercept   2.454e-05    8.2e-07     29.913      0.000    2.29e-05    2.62e-05\n",
              "X          -1.799e-06   1.37e-07    -13.162      0.000   -2.08e-06   -1.52e-06\n",
              "==============================================================================\n",
              "Omnibus:                        1.760   Durbin-Watson:                   1.137\n",
              "Prob(Omnibus):                  0.415   Jarque-Bera (JB):                1.380\n",
              "Skew:                           0.516   Prob(JB):                        0.502\n",
              "Kurtosis:                       2.802   Cond. No.                         13.2\n",
              "==============================================================================\n",
              "\n",
              "Notes:\n",
              "[1] Standard Errors assume that the covariance matrix of the errors is correctly specified.\n",
              "\"\"\""
            ]
          },
          "metadata": {}
        }
      ],
      "id": "6d4b977c"
    },
    {
      "cell_type": "code",
      "source": "model_3.rsquared",
      "metadata": {},
      "execution_count": 82,
      "outputs": [
        {
          "execution_count": 82,
          "output_type": "execute_result",
          "data": {
            "text/plain": [
              "0.8608672473082564"
            ]
          },
          "metadata": {}
        }
      ],
      "id": "6e61a8f1"
    },
    {
      "cell_type": "markdown",
      "source": "This r-square value is also less than the r-square of the model from raw data.",
      "metadata": {},
      "id": "0aafe2f9"
    },
    {
      "cell_type": "code",
      "source": "#Residual Plot\nsns.residplot(x=salary_data['X'],y=model_3.resid)\nplt.title('Residual plot')\nplt.xlabel('X')\nplt.ylabel('Residuals')\nplt.show()",
      "metadata": {},
      "execution_count": 83,
      "outputs": [
        {
          "output_type": "display_data",
          "data": {
            "image/png": "[encoded data removed]",
            "text/plain": [
              "<Figure size 432x288 with 1 Axes>"
            ]
          },
          "metadata": {
            "needs_background": "light"
          }
        }
      ],
      "id": "13f0fd9c"
    },
    {
      "cell_type": "markdown",
      "source": "The above residual plot shows little bit **U-shape**,which indicates our residual are **Non-random**.",
      "metadata": {},
      "id": "7e903d55"
    },
    {
      "cell_type": "markdown",
      "source": "## Model Selection",
      "metadata": {},
      "id": "0d9a018f"
    },
    {
      "cell_type": "markdown",
      "source": "Now by comparing r-square of all models,\n\nwe can say that the models which are fitted by using transformation \n\nare not so good as compare to our model from raw data(original data)",
      "metadata": {},
      "id": "3d3ad4b9"
    },
    {
      "cell_type": "markdown",
      "source": "### Hence , we select our first model for further calculation",
      "metadata": {},
      "id": "ca66f254"
    },
    {
      "cell_type": "markdown",
      "source": "# ",
      "metadata": {},
      "id": "888798c8"
    },
    {
      "cell_type": "code",
      "source": "#Normal Q-Q Plot\nsm.qqplot(model.resid,line='q')\nplt.title('Normal Q-Q plot')\nplt.show()",
      "metadata": {},
      "execution_count": 84,
      "outputs": [
        {
          "output_type": "display_data",
          "data": {
            "image/png": "[encoded data removed]",
            "text/plain": [
              "<Figure size 432x288 with 1 Axes>"
            ]
          },
          "metadata": {
            "needs_background": "light"
          }
        }
      ],
      "id": "98a6d03b"
    },
    {
      "cell_type": "code",
      "source": "#Residual Plot\nplt.plot(model.resid)\nplt.title('Residual Plot')\nplt.ylabel('Residuals')\nplt.grid(True)\nplt.show()",
      "metadata": {},
      "execution_count": 85,
      "outputs": [
        {
          "output_type": "display_data",
          "data": {
            "image/png": "[encoded data removed]",
            "text/plain": [
              "<Figure size 432x288 with 1 Axes>"
            ]
          },
          "metadata": {
            "needs_background": "light"
          }
        }
      ],
      "id": "6a2332da"
    },
    {
      "cell_type": "code",
      "source": "#for prediction\ntest_data=salary_data['X']",
      "metadata": {},
      "execution_count": 86,
      "outputs": [],
      "id": "43538659"
    },
    {
      "cell_type": "code",
      "source": "predict_y = model.predict(test_data)\nprint(predict_y.head())",
      "metadata": {},
      "execution_count": 87,
      "outputs": [
        {
          "name": "stdout",
          "output_type": "stream",
          "text": "0    36187.158752\n\n1    38077.151217\n\n2    39967.143681\n\n3    44692.124842\n\n4    46582.117306\n\ndtype: float64\n"
        }
      ],
      "id": "9054d563"
    },
    {
      "cell_type": "code",
      "source": "actual = salary_data['y']\nactual.head()",
      "metadata": {},
      "execution_count": 88,
      "outputs": [
        {
          "execution_count": 88,
          "output_type": "execute_result",
          "data": {
            "text/plain": [
              "0    39343.0\n",
              "1    46205.0\n",
              "2    37731.0\n",
              "3    43525.0\n",
              "4    39891.0\n",
              "Name: y, dtype: float64"
            ]
          },
          "metadata": {}
        }
      ],
      "id": "9cb2ce5a"
    },
    {
      "cell_type": "code",
      "source": "#plot for actual and fitted  values\nplt.plot(actual,label='Actual Values')\nplt.plot(predict_y,label='Predicted values')\nplt.title('Actual & Fitted Values')\nlegend=plt.legend()\nplt.grid(True)\nplt.show()",
      "metadata": {},
      "execution_count": 89,
      "outputs": [
        {
          "output_type": "display_data",
          "data": {
            "image/png": "[encoded data removed]",
            "text/plain": [
              "<Figure size 432x288 with 1 Axes>"
            ]
          },
          "metadata": {
            "needs_background": "light"
          }
        }
      ],
      "id": "05b3b508"
    },
    {
      "cell_type": "code",
      "source": "#Residual Vs Fitted Values Plot\nsns.residplot(x=predict_y,y=model.resid)\nplt.title('Fitted vs Residual plot')\nplt.xlabel('Fitted values')\nplt.ylabel('Residuals')\nplt.show()",
      "metadata": {},
      "execution_count": 90,
      "outputs": [
        {
          "output_type": "display_data",
          "data": {
            "image/png": "[encoded data removed]",
            "text/plain": [
              "<Figure size 432x288 with 1 Axes>"
            ]
          },
          "metadata": {
            "needs_background": "light"
          }
        }
      ],
      "id": "82061bdc"
    },
    {
      "cell_type": "markdown",
      "source": "##### \nThis plot looks good in that the variance is roughly the same all the way across and\nthere are no worrisome patterns.there seems to be no difficulties with the model.",
      "metadata": {},
      "id": "6526dcdf"
    },
    {
      "cell_type": "markdown",
      "source": "# =============================================================",
      "metadata": {},
      "id": "6646089b"
    }
  ]
}