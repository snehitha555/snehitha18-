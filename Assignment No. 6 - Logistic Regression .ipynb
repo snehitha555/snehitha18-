{
  "metadata": {
    "kernelspec": {
      "name": "python",
      "display_name": "Python (Pyodide)",
      "language": "python"
    },
    "language_info": {
      "codemirror_mode": {
        "name": "python",
        "version": 3
      },
      "file_extension": ".py",
      "mimetype": "text/x-python",
      "name": "python",
      "nbconvert_exporter": "python",
      "pygments_lexer": "ipython3",
      "version": "3.8"
    }
  },
  "nbformat_minor": 5,
  "nbformat": 4,
  "cells": [
    {
      "cell_type": "markdown",
      "source": "# Assignment No. - 6 : Logistic Regression",
      "metadata": {},
      "id": "eabf91e7"
    },
    {
      "cell_type": "markdown",
      "source": "* **Output variable -> y**\n* **y -> Whether the client has subscribed a term deposit or not**\n* **Binomial (\"yes\" or \"no\")**",
      "metadata": {},
      "id": "fccb8572"
    },
    {
      "cell_type": "markdown",
      "source": "# Importing Libraries",
      "metadata": {},
      "id": "77bcd220"
    },
    {
      "cell_type": "code",
      "source": "import warnings\nwarnings.filterwarnings('ignore')\n\nimport pandas as pd\nimport numpy as np\nimport seaborn as sns\nfrom matplotlib import pyplot as plt\n\nfrom sklearn.model_selection import train_test_split\nfrom sklearn.metrics import accuracy_score,precision_score,recall_score,confusion_matrix\n\nfrom sklearn.linear_model import LogisticRegression\nfrom sklearn import metrics\nfrom sklearn.feature_selection import RFE,SelectFromModel",
      "metadata": {},
      "execution_count": 1,
      "outputs": [],
      "id": "66eb8b4b"
    },
    {
      "cell_type": "markdown",
      "source": "# Importing Data",
      "metadata": {},
      "id": "9ff5e604"
    },
    {
      "cell_type": "code",
      "source": "bank_data=pd.read_csv('bank-full.csv',sep=';')\nbank_data",
      "metadata": {},
      "execution_count": 2,
      "outputs": [
        {
          "execution_count": 2,
          "output_type": "execute_result",
          "data": {
            "text/html": [
              "<div>\n",
              "<style scoped>\n",
              "    .dataframe tbody tr th:only-of-type {\n",
              "        vertical-align: middle;\n",
              "    }\n",
              "\n",
              "    .dataframe tbody tr th {\n",
              "        vertical-align: top;\n",
              "    }\n",
              "\n",
              "    .dataframe thead th {\n",
              "        text-align: right;\n",
              "    }\n",
              "</style>\n",
              "<table border=\"1\" class=\"dataframe\">\n",
              "  <thead>\n",
              "    <tr style=\"text-align: right;\">\n",
              "      <th></th>\n",
              "      <th>age</th>\n",
              "      <th>job</th>\n",
              "      <th>marital</th>\n",
              "      <th>education</th>\n",
              "      <th>default</th>\n",
              "      <th>balance</th>\n",
              "      <th>housing</th>\n",
              "      <th>loan</th>\n",
              "      <th>contact</th>\n",
              "      <th>day</th>\n",
              "      <th>month</th>\n",
              "      <th>duration</th>\n",
              "      <th>campaign</th>\n",
              "      <th>pdays</th>\n",
              "      <th>previous</th>\n",
              "      <th>poutcome</th>\n",
              "      <th>y</th>\n",
              "    </tr>\n",
              "  </thead>\n",
              "  <tbody>\n",
              "    <tr>\n",
              "      <th>0</th>\n",
              "      <td>58</td>\n",
              "      <td>management</td>\n",
              "      <td>married</td>\n",
              "      <td>tertiary</td>\n",
              "      <td>no</td>\n",
              "      <td>2143</td>\n",
              "      <td>yes</td>\n",
              "      <td>no</td>\n",
              "      <td>unknown</td>\n",
              "      <td>5</td>\n",
              "      <td>may</td>\n",
              "      <td>261</td>\n",
              "      <td>1</td>\n",
              "      <td>-1</td>\n",
              "      <td>0</td>\n",
              "      <td>unknown</td>\n",
              "      <td>no</td>\n",
              "    </tr>\n",
              "    <tr>\n",
              "      <th>1</th>\n",
              "      <td>44</td>\n",
              "      <td>technician</td>\n",
              "      <td>single</td>\n",
              "      <td>secondary</td>\n",
              "      <td>no</td>\n",
              "      <td>29</td>\n",
              "      <td>yes</td>\n",
              "      <td>no</td>\n",
              "      <td>unknown</td>\n",
              "      <td>5</td>\n",
              "      <td>may</td>\n",
              "      <td>151</td>\n",
              "      <td>1</td>\n",
              "      <td>-1</td>\n",
              "      <td>0</td>\n",
              "      <td>unknown</td>\n",
              "      <td>no</td>\n",
              "    </tr>\n",
              "    <tr>\n",
              "      <th>2</th>\n",
              "      <td>33</td>\n",
              "      <td>entrepreneur</td>\n",
              "      <td>married</td>\n",
              "      <td>secondary</td>\n",
              "      <td>no</td>\n",
              "      <td>2</td>\n",
              "      <td>yes</td>\n",
              "      <td>yes</td>\n",
              "      <td>unknown</td>\n",
              "      <td>5</td>\n",
              "      <td>may</td>\n",
              "      <td>76</td>\n",
              "      <td>1</td>\n",
              "      <td>-1</td>\n",
              "      <td>0</td>\n",
              "      <td>unknown</td>\n",
              "      <td>no</td>\n",
              "    </tr>\n",
              "    <tr>\n",
              "      <th>3</th>\n",
              "      <td>47</td>\n",
              "      <td>blue-collar</td>\n",
              "      <td>married</td>\n",
              "      <td>unknown</td>\n",
              "      <td>no</td>\n",
              "      <td>1506</td>\n",
              "      <td>yes</td>\n",
              "      <td>no</td>\n",
              "      <td>unknown</td>\n",
              "      <td>5</td>\n",
              "      <td>may</td>\n",
              "      <td>92</td>\n",
              "      <td>1</td>\n",
              "      <td>-1</td>\n",
              "      <td>0</td>\n",
              "      <td>unknown</td>\n",
              "      <td>no</td>\n",
              "    </tr>\n",
              "    <tr>\n",
              "      <th>4</th>\n",
              "      <td>33</td>\n",
              "      <td>unknown</td>\n",
              "      <td>single</td>\n",
              "      <td>unknown</td>\n",
              "      <td>no</td>\n",
              "      <td>1</td>\n",
              "      <td>no</td>\n",
              "      <td>no</td>\n",
              "      <td>unknown</td>\n",
              "      <td>5</td>\n",
              "      <td>may</td>\n",
              "      <td>198</td>\n",
              "      <td>1</td>\n",
              "      <td>-1</td>\n",
              "      <td>0</td>\n",
              "      <td>unknown</td>\n",
              "      <td>no</td>\n",
              "    </tr>\n",
              "    <tr>\n",
              "      <th>...</th>\n",
              "      <td>...</td>\n",
              "      <td>...</td>\n",
              "      <td>...</td>\n",
              "      <td>...</td>\n",
              "      <td>...</td>\n",
              "      <td>...</td>\n",
              "      <td>...</td>\n",
              "      <td>...</td>\n",
              "      <td>...</td>\n",
              "      <td>...</td>\n",
              "      <td>...</td>\n",
              "      <td>...</td>\n",
              "      <td>...</td>\n",
              "      <td>...</td>\n",
              "      <td>...</td>\n",
              "      <td>...</td>\n",
              "      <td>...</td>\n",
              "    </tr>\n",
              "    <tr>\n",
              "      <th>45206</th>\n",
              "      <td>51</td>\n",
              "      <td>technician</td>\n",
              "      <td>married</td>\n",
              "      <td>tertiary</td>\n",
              "      <td>no</td>\n",
              "      <td>825</td>\n",
              "      <td>no</td>\n",
              "      <td>no</td>\n",
              "      <td>cellular</td>\n",
              "      <td>17</td>\n",
              "      <td>nov</td>\n",
              "      <td>977</td>\n",
              "      <td>3</td>\n",
              "      <td>-1</td>\n",
              "      <td>0</td>\n",
              "      <td>unknown</td>\n",
              "      <td>yes</td>\n",
              "    </tr>\n",
              "    <tr>\n",
              "      <th>45207</th>\n",
              "      <td>71</td>\n",
              "      <td>retired</td>\n",
              "      <td>divorced</td>\n",
              "      <td>primary</td>\n",
              "      <td>no</td>\n",
              "      <td>1729</td>\n",
              "      <td>no</td>\n",
              "      <td>no</td>\n",
              "      <td>cellular</td>\n",
              "      <td>17</td>\n",
              "      <td>nov</td>\n",
              "      <td>456</td>\n",
              "      <td>2</td>\n",
              "      <td>-1</td>\n",
              "      <td>0</td>\n",
              "      <td>unknown</td>\n",
              "      <td>yes</td>\n",
              "    </tr>\n",
              "    <tr>\n",
              "      <th>45208</th>\n",
              "      <td>72</td>\n",
              "      <td>retired</td>\n",
              "      <td>married</td>\n",
              "      <td>secondary</td>\n",
              "      <td>no</td>\n",
              "      <td>5715</td>\n",
              "      <td>no</td>\n",
              "      <td>no</td>\n",
              "      <td>cellular</td>\n",
              "      <td>17</td>\n",
              "      <td>nov</td>\n",
              "      <td>1127</td>\n",
              "      <td>5</td>\n",
              "      <td>184</td>\n",
              "      <td>3</td>\n",
              "      <td>success</td>\n",
              "      <td>yes</td>\n",
              "    </tr>\n",
              "    <tr>\n",
              "      <th>45209</th>\n",
              "      <td>57</td>\n",
              "      <td>blue-collar</td>\n",
              "      <td>married</td>\n",
              "      <td>secondary</td>\n",
              "      <td>no</td>\n",
              "      <td>668</td>\n",
              "      <td>no</td>\n",
              "      <td>no</td>\n",
              "      <td>telephone</td>\n",
              "      <td>17</td>\n",
              "      <td>nov</td>\n",
              "      <td>508</td>\n",
              "      <td>4</td>\n",
              "      <td>-1</td>\n",
              "      <td>0</td>\n",
              "      <td>unknown</td>\n",
              "      <td>no</td>\n",
              "    </tr>\n",
              "    <tr>\n",
              "      <th>45210</th>\n",
              "      <td>37</td>\n",
              "      <td>entrepreneur</td>\n",
              "      <td>married</td>\n",
              "      <td>secondary</td>\n",
              "      <td>no</td>\n",
              "      <td>2971</td>\n",
              "      <td>no</td>\n",
              "      <td>no</td>\n",
              "      <td>cellular</td>\n",
              "      <td>17</td>\n",
              "      <td>nov</td>\n",
              "      <td>361</td>\n",
              "      <td>2</td>\n",
              "      <td>188</td>\n",
              "      <td>11</td>\n",
              "      <td>other</td>\n",
              "      <td>no</td>\n",
              "    </tr>\n",
              "  </tbody>\n",
              "</table>\n",
              "<p>45211 rows × 17 columns</p>\n",
              "</div>"
            ],
            "text/plain": [
              "       age           job   marital  education default  balance housing loan  \\\n",
              "0       58    management   married   tertiary      no     2143     yes   no   \n",
              "1       44    technician    single  secondary      no       29     yes   no   \n",
              "2       33  entrepreneur   married  secondary      no        2     yes  yes   \n",
              "3       47   blue-collar   married    unknown      no     1506     yes   no   \n",
              "4       33       unknown    single    unknown      no        1      no   no   \n",
              "...    ...           ...       ...        ...     ...      ...     ...  ...   \n",
              "45206   51    technician   married   tertiary      no      825      no   no   \n",
              "45207   71       retired  divorced    primary      no     1729      no   no   \n",
              "45208   72       retired   married  secondary      no     5715      no   no   \n",
              "45209   57   blue-collar   married  secondary      no      668      no   no   \n",
              "45210   37  entrepreneur   married  secondary      no     2971      no   no   \n",
              "\n",
              "         contact  day month  duration  campaign  pdays  previous poutcome    y  \n",
              "0        unknown    5   may       261         1     -1         0  unknown   no  \n",
              "1        unknown    5   may       151         1     -1         0  unknown   no  \n",
              "2        unknown    5   may        76         1     -1         0  unknown   no  \n",
              "3        unknown    5   may        92         1     -1         0  unknown   no  \n",
              "4        unknown    5   may       198         1     -1         0  unknown   no  \n",
              "...          ...  ...   ...       ...       ...    ...       ...      ...  ...  \n",
              "45206   cellular   17   nov       977         3     -1         0  unknown  yes  \n",
              "45207   cellular   17   nov       456         2     -1         0  unknown  yes  \n",
              "45208   cellular   17   nov      1127         5    184         3  success  yes  \n",
              "45209  telephone   17   nov       508         4     -1         0  unknown   no  \n",
              "45210   cellular   17   nov       361         2    188        11    other   no  \n",
              "\n",
              "[45211 rows x 17 columns]"
            ]
          },
          "metadata": {}
        }
      ],
      "id": "22d80852"
    },
    {
      "cell_type": "markdown",
      "source": "# Initial Analysis",
      "metadata": {},
      "id": "316392fc"
    },
    {
      "cell_type": "code",
      "source": "bank_data.shape",
      "metadata": {},
      "execution_count": 3,
      "outputs": [
        {
          "execution_count": 3,
          "output_type": "execute_result",
          "data": {
            "text/plain": [
              "(45211, 17)"
            ]
          },
          "metadata": {}
        }
      ],
      "id": "1bd09415"
    },
    {
      "cell_type": "markdown",
      "source": " * **there are 45211 rows and 17 columns in our data.**",
      "metadata": {},
      "id": "dab09a80"
    },
    {
      "cell_type": "code",
      "source": "bank_data.info()",
      "metadata": {},
      "execution_count": 4,
      "outputs": [
        {
          "name": "stdout",
          "output_type": "stream",
          "text": "<class 'pandas.core.frame.DataFrame'>\n\nRangeIndex: 45211 entries, 0 to 45210\n\nData columns (total 17 columns):\n\n #   Column     Non-Null Count  Dtype \n\n---  ------     --------------  ----- \n\n 0   age        45211 non-null  int64 \n\n 1   job        45211 non-null  object\n\n 2   marital    45211 non-null  object\n\n 3   education  45211 non-null  object\n\n 4   default    45211 non-null  object\n\n 5   balance    45211 non-null  int64 \n\n 6   housing    45211 non-null  object\n\n 7   loan       45211 non-null  object\n\n 8   contact    45211 non-null  object\n\n 9   day        45211 non-null  int64 \n\n 10  month      45211 non-null  object\n\n 11  duration   45211 non-null  int64 \n\n 12  campaign   45211 non-null  int64 \n\n 13  pdays      45211 non-null  int64 \n\n 14  previous   45211 non-null  int64 \n\n 15  poutcome   45211 non-null  object\n\n 16  y          45211 non-null  object\n\ndtypes: int64(7), object(10)\n\nmemory usage: 5.9+ MB\n"
        }
      ],
      "id": "ddc4d928"
    },
    {
      "cell_type": "code",
      "source": "#data types\nbank_data.dtypes",
      "metadata": {},
      "execution_count": 5,
      "outputs": [
        {
          "execution_count": 5,
          "output_type": "execute_result",
          "data": {
            "text/plain": [
              "age           int64\n",
              "job          object\n",
              "marital      object\n",
              "education    object\n",
              "default      object\n",
              "balance       int64\n",
              "housing      object\n",
              "loan         object\n",
              "contact      object\n",
              "day           int64\n",
              "month        object\n",
              "duration      int64\n",
              "campaign      int64\n",
              "pdays         int64\n",
              "previous      int64\n",
              "poutcome     object\n",
              "y            object\n",
              "dtype: object"
            ]
          },
          "metadata": {}
        }
      ],
      "id": "f81ba1a3"
    },
    {
      "cell_type": "code",
      "source": "bank_data.isnull()",
      "metadata": {},
      "execution_count": 6,
      "outputs": [
        {
          "execution_count": 6,
          "output_type": "execute_result",
          "data": {
            "text/html": [
              "<div>\n",
              "<style scoped>\n",
              "    .dataframe tbody tr th:only-of-type {\n",
              "        vertical-align: middle;\n",
              "    }\n",
              "\n",
              "    .dataframe tbody tr th {\n",
              "        vertical-align: top;\n",
              "    }\n",
              "\n",
              "    .dataframe thead th {\n",
              "        text-align: right;\n",
              "    }\n",
              "</style>\n",
              "<table border=\"1\" class=\"dataframe\">\n",
              "  <thead>\n",
              "    <tr style=\"text-align: right;\">\n",
              "      <th></th>\n",
              "      <th>age</th>\n",
              "      <th>job</th>\n",
              "      <th>marital</th>\n",
              "      <th>education</th>\n",
              "      <th>default</th>\n",
              "      <th>balance</th>\n",
              "      <th>housing</th>\n",
              "      <th>loan</th>\n",
              "      <th>contact</th>\n",
              "      <th>day</th>\n",
              "      <th>month</th>\n",
              "      <th>duration</th>\n",
              "      <th>campaign</th>\n",
              "      <th>pdays</th>\n",
              "      <th>previous</th>\n",
              "      <th>poutcome</th>\n",
              "      <th>y</th>\n",
              "    </tr>\n",
              "  </thead>\n",
              "  <tbody>\n",
              "    <tr>\n",
              "      <th>0</th>\n",
              "      <td>False</td>\n",
              "      <td>False</td>\n",
              "      <td>False</td>\n",
              "      <td>False</td>\n",
              "      <td>False</td>\n",
              "      <td>False</td>\n",
              "      <td>False</td>\n",
              "      <td>False</td>\n",
              "      <td>False</td>\n",
              "      <td>False</td>\n",
              "      <td>False</td>\n",
              "      <td>False</td>\n",
              "      <td>False</td>\n",
              "      <td>False</td>\n",
              "      <td>False</td>\n",
              "      <td>False</td>\n",
              "      <td>False</td>\n",
              "    </tr>\n",
              "    <tr>\n",
              "      <th>1</th>\n",
              "      <td>False</td>\n",
              "      <td>False</td>\n",
              "      <td>False</td>\n",
              "      <td>False</td>\n",
              "      <td>False</td>\n",
              "      <td>False</td>\n",
              "      <td>False</td>\n",
              "      <td>False</td>\n",
              "      <td>False</td>\n",
              "      <td>False</td>\n",
              "      <td>False</td>\n",
              "      <td>False</td>\n",
              "      <td>False</td>\n",
              "      <td>False</td>\n",
              "      <td>False</td>\n",
              "      <td>False</td>\n",
              "      <td>False</td>\n",
              "    </tr>\n",
              "    <tr>\n",
              "      <th>2</th>\n",
              "      <td>False</td>\n",
              "      <td>False</td>\n",
              "      <td>False</td>\n",
              "      <td>False</td>\n",
              "      <td>False</td>\n",
              "      <td>False</td>\n",
              "      <td>False</td>\n",
              "      <td>False</td>\n",
              "      <td>False</td>\n",
              "      <td>False</td>\n",
              "      <td>False</td>\n",
              "      <td>False</td>\n",
              "      <td>False</td>\n",
              "      <td>False</td>\n",
              "      <td>False</td>\n",
              "      <td>False</td>\n",
              "      <td>False</td>\n",
              "    </tr>\n",
              "    <tr>\n",
              "      <th>3</th>\n",
              "      <td>False</td>\n",
              "      <td>False</td>\n",
              "      <td>False</td>\n",
              "      <td>False</td>\n",
              "      <td>False</td>\n",
              "      <td>False</td>\n",
              "      <td>False</td>\n",
              "      <td>False</td>\n",
              "      <td>False</td>\n",
              "      <td>False</td>\n",
              "      <td>False</td>\n",
              "      <td>False</td>\n",
              "      <td>False</td>\n",
              "      <td>False</td>\n",
              "      <td>False</td>\n",
              "      <td>False</td>\n",
              "      <td>False</td>\n",
              "    </tr>\n",
              "    <tr>\n",
              "      <th>4</th>\n",
              "      <td>False</td>\n",
              "      <td>False</td>\n",
              "      <td>False</td>\n",
              "      <td>False</td>\n",
              "      <td>False</td>\n",
              "      <td>False</td>\n",
              "      <td>False</td>\n",
              "      <td>False</td>\n",
              "      <td>False</td>\n",
              "      <td>False</td>\n",
              "      <td>False</td>\n",
              "      <td>False</td>\n",
              "      <td>False</td>\n",
              "      <td>False</td>\n",
              "      <td>False</td>\n",
              "      <td>False</td>\n",
              "      <td>False</td>\n",
              "    </tr>\n",
              "    <tr>\n",
              "      <th>...</th>\n",
              "      <td>...</td>\n",
              "      <td>...</td>\n",
              "      <td>...</td>\n",
              "      <td>...</td>\n",
              "      <td>...</td>\n",
              "      <td>...</td>\n",
              "      <td>...</td>\n",
              "      <td>...</td>\n",
              "      <td>...</td>\n",
              "      <td>...</td>\n",
              "      <td>...</td>\n",
              "      <td>...</td>\n",
              "      <td>...</td>\n",
              "      <td>...</td>\n",
              "      <td>...</td>\n",
              "      <td>...</td>\n",
              "      <td>...</td>\n",
              "    </tr>\n",
              "    <tr>\n",
              "      <th>45206</th>\n",
              "      <td>False</td>\n",
              "      <td>False</td>\n",
              "      <td>False</td>\n",
              "      <td>False</td>\n",
              "      <td>False</td>\n",
              "      <td>False</td>\n",
              "      <td>False</td>\n",
              "      <td>False</td>\n",
              "      <td>False</td>\n",
              "      <td>False</td>\n",
              "      <td>False</td>\n",
              "      <td>False</td>\n",
              "      <td>False</td>\n",
              "      <td>False</td>\n",
              "      <td>False</td>\n",
              "      <td>False</td>\n",
              "      <td>False</td>\n",
              "    </tr>\n",
              "    <tr>\n",
              "      <th>45207</th>\n",
              "      <td>False</td>\n",
              "      <td>False</td>\n",
              "      <td>False</td>\n",
              "      <td>False</td>\n",
              "      <td>False</td>\n",
              "      <td>False</td>\n",
              "      <td>False</td>\n",
              "      <td>False</td>\n",
              "      <td>False</td>\n",
              "      <td>False</td>\n",
              "      <td>False</td>\n",
              "      <td>False</td>\n",
              "      <td>False</td>\n",
              "      <td>False</td>\n",
              "      <td>False</td>\n",
              "      <td>False</td>\n",
              "      <td>False</td>\n",
              "    </tr>\n",
              "    <tr>\n",
              "      <th>45208</th>\n",
              "      <td>False</td>\n",
              "      <td>False</td>\n",
              "      <td>False</td>\n",
              "      <td>False</td>\n",
              "      <td>False</td>\n",
              "      <td>False</td>\n",
              "      <td>False</td>\n",
              "      <td>False</td>\n",
              "      <td>False</td>\n",
              "      <td>False</td>\n",
              "      <td>False</td>\n",
              "      <td>False</td>\n",
              "      <td>False</td>\n",
              "      <td>False</td>\n",
              "      <td>False</td>\n",
              "      <td>False</td>\n",
              "      <td>False</td>\n",
              "    </tr>\n",
              "    <tr>\n",
              "      <th>45209</th>\n",
              "      <td>False</td>\n",
              "      <td>False</td>\n",
              "      <td>False</td>\n",
              "      <td>False</td>\n",
              "      <td>False</td>\n",
              "      <td>False</td>\n",
              "      <td>False</td>\n",
              "      <td>False</td>\n",
              "      <td>False</td>\n",
              "      <td>False</td>\n",
              "      <td>False</td>\n",
              "      <td>False</td>\n",
              "      <td>False</td>\n",
              "      <td>False</td>\n",
              "      <td>False</td>\n",
              "      <td>False</td>\n",
              "      <td>False</td>\n",
              "    </tr>\n",
              "    <tr>\n",
              "      <th>45210</th>\n",
              "      <td>False</td>\n",
              "      <td>False</td>\n",
              "      <td>False</td>\n",
              "      <td>False</td>\n",
              "      <td>False</td>\n",
              "      <td>False</td>\n",
              "      <td>False</td>\n",
              "      <td>False</td>\n",
              "      <td>False</td>\n",
              "      <td>False</td>\n",
              "      <td>False</td>\n",
              "      <td>False</td>\n",
              "      <td>False</td>\n",
              "      <td>False</td>\n",
              "      <td>False</td>\n",
              "      <td>False</td>\n",
              "      <td>False</td>\n",
              "    </tr>\n",
              "  </tbody>\n",
              "</table>\n",
              "<p>45211 rows × 17 columns</p>\n",
              "</div>"
            ],
            "text/plain": [
              "         age    job  marital  education  default  balance  housing   loan  \\\n",
              "0      False  False    False      False    False    False    False  False   \n",
              "1      False  False    False      False    False    False    False  False   \n",
              "2      False  False    False      False    False    False    False  False   \n",
              "3      False  False    False      False    False    False    False  False   \n",
              "4      False  False    False      False    False    False    False  False   \n",
              "...      ...    ...      ...        ...      ...      ...      ...    ...   \n",
              "45206  False  False    False      False    False    False    False  False   \n",
              "45207  False  False    False      False    False    False    False  False   \n",
              "45208  False  False    False      False    False    False    False  False   \n",
              "45209  False  False    False      False    False    False    False  False   \n",
              "45210  False  False    False      False    False    False    False  False   \n",
              "\n",
              "       contact    day  month  duration  campaign  pdays  previous  poutcome  \\\n",
              "0        False  False  False     False     False  False     False     False   \n",
              "1        False  False  False     False     False  False     False     False   \n",
              "2        False  False  False     False     False  False     False     False   \n",
              "3        False  False  False     False     False  False     False     False   \n",
              "4        False  False  False     False     False  False     False     False   \n",
              "...        ...    ...    ...       ...       ...    ...       ...       ...   \n",
              "45206    False  False  False     False     False  False     False     False   \n",
              "45207    False  False  False     False     False  False     False     False   \n",
              "45208    False  False  False     False     False  False     False     False   \n",
              "45209    False  False  False     False     False  False     False     False   \n",
              "45210    False  False  False     False     False  False     False     False   \n",
              "\n",
              "           y  \n",
              "0      False  \n",
              "1      False  \n",
              "2      False  \n",
              "3      False  \n",
              "4      False  \n",
              "...      ...  \n",
              "45206  False  \n",
              "45207  False  \n",
              "45208  False  \n",
              "45209  False  \n",
              "45210  False  \n",
              "\n",
              "[45211 rows x 17 columns]"
            ]
          },
          "metadata": {}
        }
      ],
      "id": "3d892581"
    },
    {
      "cell_type": "code",
      "source": "bank_data.isnull().sum()",
      "metadata": {},
      "execution_count": 7,
      "outputs": [
        {
          "execution_count": 7,
          "output_type": "execute_result",
          "data": {
            "text/plain": [
              "age          0\n",
              "job          0\n",
              "marital      0\n",
              "education    0\n",
              "default      0\n",
              "balance      0\n",
              "housing      0\n",
              "loan         0\n",
              "contact      0\n",
              "day          0\n",
              "month        0\n",
              "duration     0\n",
              "campaign     0\n",
              "pdays        0\n",
              "previous     0\n",
              "poutcome     0\n",
              "y            0\n",
              "dtype: int64"
            ]
          },
          "metadata": {}
        }
      ],
      "id": "0e084ad3"
    },
    {
      "cell_type": "markdown",
      "source": "* **there are no null values in ourdata.**",
      "metadata": {},
      "id": "d3979008"
    },
    {
      "cell_type": "code",
      "source": "bank_data.duplicated().sum()",
      "metadata": {},
      "execution_count": 8,
      "outputs": [
        {
          "execution_count": 8,
          "output_type": "execute_result",
          "data": {
            "text/plain": [
              "0"
            ]
          },
          "metadata": {}
        }
      ],
      "id": "290ace8f"
    },
    {
      "cell_type": "markdown",
      "source": "* **there are no duplicate rows in our data.**",
      "metadata": {},
      "id": "1cc86ded"
    },
    {
      "cell_type": "code",
      "source": "bank_data.describe(include='all')",
      "metadata": {},
      "execution_count": 9,
      "outputs": [
        {
          "execution_count": 9,
          "output_type": "execute_result",
          "data": {
            "text/html": [
              "<div>\n",
              "<style scoped>\n",
              "    .dataframe tbody tr th:only-of-type {\n",
              "        vertical-align: middle;\n",
              "    }\n",
              "\n",
              "    .dataframe tbody tr th {\n",
              "        vertical-align: top;\n",
              "    }\n",
              "\n",
              "    .dataframe thead th {\n",
              "        text-align: right;\n",
              "    }\n",
              "</style>\n",
              "<table border=\"1\" class=\"dataframe\">\n",
              "  <thead>\n",
              "    <tr style=\"text-align: right;\">\n",
              "      <th></th>\n",
              "      <th>age</th>\n",
              "      <th>job</th>\n",
              "      <th>marital</th>\n",
              "      <th>education</th>\n",
              "      <th>default</th>\n",
              "      <th>balance</th>\n",
              "      <th>housing</th>\n",
              "      <th>loan</th>\n",
              "      <th>contact</th>\n",
              "      <th>day</th>\n",
              "      <th>month</th>\n",
              "      <th>duration</th>\n",
              "      <th>campaign</th>\n",
              "      <th>pdays</th>\n",
              "      <th>previous</th>\n",
              "      <th>poutcome</th>\n",
              "      <th>y</th>\n",
              "    </tr>\n",
              "  </thead>\n",
              "  <tbody>\n",
              "    <tr>\n",
              "      <th>count</th>\n",
              "      <td>45211.000000</td>\n",
              "      <td>45211</td>\n",
              "      <td>45211</td>\n",
              "      <td>45211</td>\n",
              "      <td>45211</td>\n",
              "      <td>45211.000000</td>\n",
              "      <td>45211</td>\n",
              "      <td>45211</td>\n",
              "      <td>45211</td>\n",
              "      <td>45211.000000</td>\n",
              "      <td>45211</td>\n",
              "      <td>45211.000000</td>\n",
              "      <td>45211.000000</td>\n",
              "      <td>45211.000000</td>\n",
              "      <td>45211.000000</td>\n",
              "      <td>45211</td>\n",
              "      <td>45211</td>\n",
              "    </tr>\n",
              "    <tr>\n",
              "      <th>unique</th>\n",
              "      <td>NaN</td>\n",
              "      <td>12</td>\n",
              "      <td>3</td>\n",
              "      <td>4</td>\n",
              "      <td>2</td>\n",
              "      <td>NaN</td>\n",
              "      <td>2</td>\n",
              "      <td>2</td>\n",
              "      <td>3</td>\n",
              "      <td>NaN</td>\n",
              "      <td>12</td>\n",
              "      <td>NaN</td>\n",
              "      <td>NaN</td>\n",
              "      <td>NaN</td>\n",
              "      <td>NaN</td>\n",
              "      <td>4</td>\n",
              "      <td>2</td>\n",
              "    </tr>\n",
              "    <tr>\n",
              "      <th>top</th>\n",
              "      <td>NaN</td>\n",
              "      <td>blue-collar</td>\n",
              "      <td>married</td>\n",
              "      <td>secondary</td>\n",
              "      <td>no</td>\n",
              "      <td>NaN</td>\n",
              "      <td>yes</td>\n",
              "      <td>no</td>\n",
              "      <td>cellular</td>\n",
              "      <td>NaN</td>\n",
              "      <td>may</td>\n",
              "      <td>NaN</td>\n",
              "      <td>NaN</td>\n",
              "      <td>NaN</td>\n",
              "      <td>NaN</td>\n",
              "      <td>unknown</td>\n",
              "      <td>no</td>\n",
              "    </tr>\n",
              "    <tr>\n",
              "      <th>freq</th>\n",
              "      <td>NaN</td>\n",
              "      <td>9732</td>\n",
              "      <td>27214</td>\n",
              "      <td>23202</td>\n",
              "      <td>44396</td>\n",
              "      <td>NaN</td>\n",
              "      <td>25130</td>\n",
              "      <td>37967</td>\n",
              "      <td>29285</td>\n",
              "      <td>NaN</td>\n",
              "      <td>13766</td>\n",
              "      <td>NaN</td>\n",
              "      <td>NaN</td>\n",
              "      <td>NaN</td>\n",
              "      <td>NaN</td>\n",
              "      <td>36959</td>\n",
              "      <td>39922</td>\n",
              "    </tr>\n",
              "    <tr>\n",
              "      <th>mean</th>\n",
              "      <td>40.936210</td>\n",
              "      <td>NaN</td>\n",
              "      <td>NaN</td>\n",
              "      <td>NaN</td>\n",
              "      <td>NaN</td>\n",
              "      <td>1362.272058</td>\n",
              "      <td>NaN</td>\n",
              "      <td>NaN</td>\n",
              "      <td>NaN</td>\n",
              "      <td>15.806419</td>\n",
              "      <td>NaN</td>\n",
              "      <td>258.163080</td>\n",
              "      <td>2.763841</td>\n",
              "      <td>40.197828</td>\n",
              "      <td>0.580323</td>\n",
              "      <td>NaN</td>\n",
              "      <td>NaN</td>\n",
              "    </tr>\n",
              "    <tr>\n",
              "      <th>std</th>\n",
              "      <td>10.618762</td>\n",
              "      <td>NaN</td>\n",
              "      <td>NaN</td>\n",
              "      <td>NaN</td>\n",
              "      <td>NaN</td>\n",
              "      <td>3044.765829</td>\n",
              "      <td>NaN</td>\n",
              "      <td>NaN</td>\n",
              "      <td>NaN</td>\n",
              "      <td>8.322476</td>\n",
              "      <td>NaN</td>\n",
              "      <td>257.527812</td>\n",
              "      <td>3.098021</td>\n",
              "      <td>100.128746</td>\n",
              "      <td>2.303441</td>\n",
              "      <td>NaN</td>\n",
              "      <td>NaN</td>\n",
              "    </tr>\n",
              "    <tr>\n",
              "      <th>min</th>\n",
              "      <td>18.000000</td>\n",
              "      <td>NaN</td>\n",
              "      <td>NaN</td>\n",
              "      <td>NaN</td>\n",
              "      <td>NaN</td>\n",
              "      <td>-8019.000000</td>\n",
              "      <td>NaN</td>\n",
              "      <td>NaN</td>\n",
              "      <td>NaN</td>\n",
              "      <td>1.000000</td>\n",
              "      <td>NaN</td>\n",
              "      <td>0.000000</td>\n",
              "      <td>1.000000</td>\n",
              "      <td>-1.000000</td>\n",
              "      <td>0.000000</td>\n",
              "      <td>NaN</td>\n",
              "      <td>NaN</td>\n",
              "    </tr>\n",
              "    <tr>\n",
              "      <th>25%</th>\n",
              "      <td>33.000000</td>\n",
              "      <td>NaN</td>\n",
              "      <td>NaN</td>\n",
              "      <td>NaN</td>\n",
              "      <td>NaN</td>\n",
              "      <td>72.000000</td>\n",
              "      <td>NaN</td>\n",
              "      <td>NaN</td>\n",
              "      <td>NaN</td>\n",
              "      <td>8.000000</td>\n",
              "      <td>NaN</td>\n",
              "      <td>103.000000</td>\n",
              "      <td>1.000000</td>\n",
              "      <td>-1.000000</td>\n",
              "      <td>0.000000</td>\n",
              "      <td>NaN</td>\n",
              "      <td>NaN</td>\n",
              "    </tr>\n",
              "    <tr>\n",
              "      <th>50%</th>\n",
              "      <td>39.000000</td>\n",
              "      <td>NaN</td>\n",
              "      <td>NaN</td>\n",
              "      <td>NaN</td>\n",
              "      <td>NaN</td>\n",
              "      <td>448.000000</td>\n",
              "      <td>NaN</td>\n",
              "      <td>NaN</td>\n",
              "      <td>NaN</td>\n",
              "      <td>16.000000</td>\n",
              "      <td>NaN</td>\n",
              "      <td>180.000000</td>\n",
              "      <td>2.000000</td>\n",
              "      <td>-1.000000</td>\n",
              "      <td>0.000000</td>\n",
              "      <td>NaN</td>\n",
              "      <td>NaN</td>\n",
              "    </tr>\n",
              "    <tr>\n",
              "      <th>75%</th>\n",
              "      <td>48.000000</td>\n",
              "      <td>NaN</td>\n",
              "      <td>NaN</td>\n",
              "      <td>NaN</td>\n",
              "      <td>NaN</td>\n",
              "      <td>1428.000000</td>\n",
              "      <td>NaN</td>\n",
              "      <td>NaN</td>\n",
              "      <td>NaN</td>\n",
              "      <td>21.000000</td>\n",
              "      <td>NaN</td>\n",
              "      <td>319.000000</td>\n",
              "      <td>3.000000</td>\n",
              "      <td>-1.000000</td>\n",
              "      <td>0.000000</td>\n",
              "      <td>NaN</td>\n",
              "      <td>NaN</td>\n",
              "    </tr>\n",
              "    <tr>\n",
              "      <th>max</th>\n",
              "      <td>95.000000</td>\n",
              "      <td>NaN</td>\n",
              "      <td>NaN</td>\n",
              "      <td>NaN</td>\n",
              "      <td>NaN</td>\n",
              "      <td>102127.000000</td>\n",
              "      <td>NaN</td>\n",
              "      <td>NaN</td>\n",
              "      <td>NaN</td>\n",
              "      <td>31.000000</td>\n",
              "      <td>NaN</td>\n",
              "      <td>4918.000000</td>\n",
              "      <td>63.000000</td>\n",
              "      <td>871.000000</td>\n",
              "      <td>275.000000</td>\n",
              "      <td>NaN</td>\n",
              "      <td>NaN</td>\n",
              "    </tr>\n",
              "  </tbody>\n",
              "</table>\n",
              "</div>"
            ],
            "text/plain": [
              "                 age          job  marital  education default        balance  \\\n",
              "count   45211.000000        45211    45211      45211   45211   45211.000000   \n",
              "unique           NaN           12        3          4       2            NaN   \n",
              "top              NaN  blue-collar  married  secondary      no            NaN   \n",
              "freq             NaN         9732    27214      23202   44396            NaN   \n",
              "mean       40.936210          NaN      NaN        NaN     NaN    1362.272058   \n",
              "std        10.618762          NaN      NaN        NaN     NaN    3044.765829   \n",
              "min        18.000000          NaN      NaN        NaN     NaN   -8019.000000   \n",
              "25%        33.000000          NaN      NaN        NaN     NaN      72.000000   \n",
              "50%        39.000000          NaN      NaN        NaN     NaN     448.000000   \n",
              "75%        48.000000          NaN      NaN        NaN     NaN    1428.000000   \n",
              "max        95.000000          NaN      NaN        NaN     NaN  102127.000000   \n",
              "\n",
              "       housing   loan   contact           day  month      duration  \\\n",
              "count    45211  45211     45211  45211.000000  45211  45211.000000   \n",
              "unique       2      2         3           NaN     12           NaN   \n",
              "top        yes     no  cellular           NaN    may           NaN   \n",
              "freq     25130  37967     29285           NaN  13766           NaN   \n",
              "mean       NaN    NaN       NaN     15.806419    NaN    258.163080   \n",
              "std        NaN    NaN       NaN      8.322476    NaN    257.527812   \n",
              "min        NaN    NaN       NaN      1.000000    NaN      0.000000   \n",
              "25%        NaN    NaN       NaN      8.000000    NaN    103.000000   \n",
              "50%        NaN    NaN       NaN     16.000000    NaN    180.000000   \n",
              "75%        NaN    NaN       NaN     21.000000    NaN    319.000000   \n",
              "max        NaN    NaN       NaN     31.000000    NaN   4918.000000   \n",
              "\n",
              "            campaign         pdays      previous poutcome      y  \n",
              "count   45211.000000  45211.000000  45211.000000    45211  45211  \n",
              "unique           NaN           NaN           NaN        4      2  \n",
              "top              NaN           NaN           NaN  unknown     no  \n",
              "freq             NaN           NaN           NaN    36959  39922  \n",
              "mean        2.763841     40.197828      0.580323      NaN    NaN  \n",
              "std         3.098021    100.128746      2.303441      NaN    NaN  \n",
              "min         1.000000     -1.000000      0.000000      NaN    NaN  \n",
              "25%         1.000000     -1.000000      0.000000      NaN    NaN  \n",
              "50%         2.000000     -1.000000      0.000000      NaN    NaN  \n",
              "75%         3.000000     -1.000000      0.000000      NaN    NaN  \n",
              "max        63.000000    871.000000    275.000000      NaN    NaN  "
            ]
          },
          "metadata": {}
        }
      ],
      "id": "64b26db1"
    },
    {
      "cell_type": "markdown",
      "source": "### unique values for each column",
      "metadata": {},
      "id": "7cbc6eef"
    },
    {
      "cell_type": "code",
      "source": "#to find unique features\ncategory_features = bank_data.select_dtypes(include=['object', 'bool']).columns.values\nprint('category_features  :' ,category_features ,'\\n')\n\nfor column in category_features:\n    print(column, \" - \", len(bank_data[column].unique()) , \"values:\\n\",bank_data[column].unique())",
      "metadata": {},
      "execution_count": 10,
      "outputs": [
        {
          "name": "stdout",
          "output_type": "stream",
          "text": "category_features  : ['job' 'marital' 'education' 'default' 'housing' 'loan' 'contact' 'month'\n\n 'poutcome' 'y'] \n\n\n\njob  -  12 values:\n\n ['management' 'technician' 'entrepreneur' 'blue-collar' 'unknown'\n\n 'retired' 'admin.' 'services' 'self-employed' 'unemployed' 'housemaid'\n\n 'student']\n\nmarital  -  3 values:\n\n ['married' 'single' 'divorced']\n\neducation  -  4 values:\n\n ['tertiary' 'secondary' 'unknown' 'primary']\n\ndefault  -  2 values:\n\n ['no' 'yes']\n\nhousing  -  2 values:\n\n ['yes' 'no']\n\nloan  -  2 values:\n\n ['no' 'yes']\n\ncontact  -  3 values:\n\n ['unknown' 'cellular' 'telephone']\n\nmonth  -  12 values:\n\n ['may' 'jun' 'jul' 'aug' 'oct' 'nov' 'dec' 'jan' 'feb' 'mar' 'apr' 'sep']\n\npoutcome  -  4 values:\n\n ['unknown' 'failure' 'other' 'success']\n\ny  -  2 values:\n\n ['no' 'yes']\n"
        }
      ],
      "id": "9c444c99"
    },
    {
      "cell_type": "code",
      "source": "for column in category_features:\n    print(column,'\\n======================')\n    print(bank_data[column].value_counts(),'\\n')",
      "metadata": {
        "scrolled": true
      },
      "execution_count": 11,
      "outputs": [
        {
          "name": "stdout",
          "output_type": "stream",
          "text": "job \n\n======================\n\nblue-collar      9732\n\nmanagement       9458\n\ntechnician       7597\n\nadmin.           5171\n\nservices         4154\n\nretired          2264\n\nself-employed    1579\n\nentrepreneur     1487\n\nunemployed       1303\n\nhousemaid        1240\n\nstudent           938\n\nunknown           288\n\nName: job, dtype: int64 \n\n\n\nmarital \n\n======================\n\nmarried     27214\n\nsingle      12790\n\ndivorced     5207\n\nName: marital, dtype: int64 \n\n\n\neducation \n\n======================\n\nsecondary    23202\n\ntertiary     13301\n\nprimary       6851\n\nunknown       1857\n\nName: education, dtype: int64 \n\n\n\ndefault \n\n======================\n\nno     44396\n\nyes      815\n\nName: default, dtype: int64 \n\n\n\nhousing \n\n======================\n\nyes    25130\n\nno     20081\n\nName: housing, dtype: int64 \n\n\n\nloan \n\n======================\n\nno     37967\n\nyes     7244\n\nName: loan, dtype: int64 \n\n\n\ncontact \n\n======================\n\ncellular     29285\n\nunknown      13020\n\ntelephone     2906\n\nName: contact, dtype: int64 \n\n\n\nmonth \n\n======================\n\nmay    13766\n\njul     6895\n\naug     6247\n\njun     5341\n\nnov     3970\n\napr     2932\n\nfeb     2649\n\njan     1403\n\noct      738\n\nsep      579\n\nmar      477\n\ndec      214\n\nName: month, dtype: int64 \n\n\n\npoutcome \n\n======================\n\nunknown    36959\n\nfailure     4901\n\nother       1840\n\nsuccess     1511\n\nName: poutcome, dtype: int64 \n\n\n\ny \n\n======================\n\nno     39922\n\nyes     5289\n\nName: y, dtype: int64 \n\n\n"
        }
      ],
      "id": "f4e0e11c"
    },
    {
      "cell_type": "markdown",
      "source": "# Data Visualization",
      "metadata": {},
      "id": "edc5fa7d"
    },
    {
      "cell_type": "code",
      "source": "cor=bank_data.corr()\nplt.figure(figsize=(14,10))\nsns.heatmap(cor,annot=True)\nplt.title('Correlation Plot')\nplt.show()",
      "metadata": {},
      "execution_count": 12,
      "outputs": [
        {
          "output_type": "display_data",
          "data": {
            "image/png": "[encoded data removed]",
            "text/plain": [
              "<Figure size 1008x720 with 2 Axes>"
            ]
          },
          "metadata": {
            "needs_background": "light"
          }
        }
      ],
      "id": "49e77d00"
    },
    {
      "cell_type": "markdown",
      "source": "Most of our features are category type; hence, this heatmap does not help much. ",
      "metadata": {},
      "id": "71a2d999"
    },
    {
      "cell_type": "code",
      "source": "#count-plot\nfor column in category_features:\n    plt.figure(figsize=(15,7))    \n    sns.countplot(x=bank_data[column],data=bank_data)    \n    plt.title(column)    ",
      "metadata": {
        "scrolled": true
      },
      "execution_count": 13,
      "outputs": [
        {
          "output_type": "display_data",
          "data": {
            "image/png": "[encoded data removed]",
            "text/plain": [
              "<Figure size 1080x504 with 1 Axes>"
            ]
          },
          "metadata": {
            "needs_background": "light"
          }
        },
        {
          "output_type": "display_data",
          "data": {
            "image/png": "[encoded data removed]",
            "text/plain": [
              "<Figure size 1080x504 with 1 Axes>"
            ]
          },
          "metadata": {
            "needs_background": "light"
          }
        },
        {
          "output_type": "display_data",
          "data": {
            "image/png": "[encoded data removed]",
            "text/plain": [
              "<Figure size 1080x504 with 1 Axes>"
            ]
          },
          "metadata": {
            "needs_background": "light"
          }
        },
        {
          "output_type": "display_data",
          "data": {
            "image/png": "[encoded data removed]",
            "text/plain": [
              "<Figure size 1080x504 with 1 Axes>"
            ]
          },
          "metadata": {
            "needs_background": "light"
          }
        },
        {
          "output_type": "display_data",
          "data": {
            "image/png": "[encoded data removed]",
            "text/plain": [
              "<Figure size 1080x504 with 1 Axes>"
            ]
          },
          "metadata": {
            "needs_background": "light"
          }
        },
        {
          "output_type": "display_data",
          "data": {
            "image/png": "[encoded data removed]",
            "text/plain": [
              "<Figure size 1080x504 with 1 Axes>"
            ]
          },
          "metadata": {
            "needs_background": "light"
          }
        },
        {
          "output_type": "display_data",
          "data": {
            "image/png": "[encoded data removed]",
            "text/plain": [
              "<Figure size 1080x504 with 1 Axes>"
            ]
          },
          "metadata": {
            "needs_background": "light"
          }
        },
        {
          "output_type": "display_data",
          "data": {
            "image/png": "[encoded data removed]",
            "text/plain": [
              "<Figure size 1080x504 with 1 Axes>"
            ]
          },
          "metadata": {
            "needs_background": "light"
          }
        },
        {
          "output_type": "display_data",
          "data": {
            "image/png": "[encoded data removed]",
            "text/plain": [
              "<Figure size 1080x504 with 1 Axes>"
            ]
          },
          "metadata": {
            "needs_background": "light"
          }
        },
        {
          "output_type": "display_data",
          "data": {
            "image/png": "[encoded data removed]",
            "text/plain": [
              "<Figure size 1080x504 with 1 Axes>"
            ]
          },
          "metadata": {
            "needs_background": "light"
          }
        }
      ],
      "id": "e7c5c31b"
    },
    {
      "cell_type": "markdown",
      "source": "Our observations:\n1. Job: The audiences of these campaigns target mostly administrators, blue-collars, and technicians.\n2. Marital status: Most of them are married; married clients are twice as single people.\n3. Education: Most clients have university education level while illiterate people are very less.\n4. default/credit: Most people have no default stay on their credit file.\n5. housing: Most people have no housing loan.\n6. loan: Most people have no personal loan.\n7. contact: Common means of communication are cellular.\n8. month - May is the busy month and December is the least busy month (because of the holidays season).",
      "metadata": {},
      "id": "4b86cb0f"
    },
    {
      "cell_type": "code",
      "source": "plt.figure(figsize=(15,7))\nsns.countplot(x='job',hue='marital',data=bank_data)\nplt.grid(True)\nplt.show()",
      "metadata": {},
      "execution_count": 14,
      "outputs": [
        {
          "output_type": "display_data",
          "data": {
            "image/png": "[encoded data removed]",
            "text/plain": [
              "<Figure size 1080x504 with 1 Axes>"
            ]
          },
          "metadata": {
            "needs_background": "light"
          }
        }
      ],
      "id": "e3902d1e"
    },
    {
      "cell_type": "markdown",
      "source": "* **there are high number of married persons and less numer of divorced persons from all job fields**",
      "metadata": {},
      "id": "fbbefc3e"
    },
    {
      "cell_type": "code",
      "source": "plt.figure(figsize=(15,7))\nsns.countplot(x='job',hue='loan',data=bank_data)\nplt.grid(True)\nplt.show()",
      "metadata": {},
      "execution_count": 15,
      "outputs": [
        {
          "output_type": "display_data",
          "data": {
            "image/png": "[encoded data removed]",
            "text/plain": [
              "<Figure size 1080x504 with 1 Axes>"
            ]
          },
          "metadata": {
            "needs_background": "light"
          }
        }
      ],
      "id": "91789111"
    },
    {
      "cell_type": "markdown",
      "source": "* **maximum number of persons did not take loan**",
      "metadata": {},
      "id": "da7b3e18"
    },
    {
      "cell_type": "code",
      "source": "#histogram\nbank_data['age'].hist(bins=30,figsize=(10,6))\nplt.show()",
      "metadata": {},
      "execution_count": 16,
      "outputs": [
        {
          "output_type": "display_data",
          "data": {
            "image/png": "[encoded data removed]",
            "text/plain": [
              "<Figure size 720x432 with 1 Axes>"
            ]
          },
          "metadata": {
            "needs_background": "light"
          }
        }
      ],
      "id": "d27549dd"
    },
    {
      "cell_type": "markdown",
      "source": "* **most of the persons are belongs to 25 - 45 age group**",
      "metadata": {},
      "id": "d2fd3471"
    },
    {
      "cell_type": "code",
      "source": "bank_data['duration'].hist(bins=50,figsize=(10,6))\nplt.show()",
      "metadata": {},
      "execution_count": 17,
      "outputs": [
        {
          "output_type": "display_data",
          "data": {
            "image/png": "[encoded data removed]",
            "text/plain": [
              "<Figure size 720x432 with 1 Axes>"
            ]
          },
          "metadata": {
            "needs_background": "light"
          }
        }
      ],
      "id": "19c384ab"
    },
    {
      "cell_type": "code",
      "source": "#subscription to the term deposit\nplt.figure(figsize=(10,6))\nplt.pie(bank_data['y'].value_counts(),labels=['Not Subscribed','Subscribed'],explode=(0,0.1),autopct ='%1.2f%%')\nplt.title('Pie Chart')\nplt.show()",
      "metadata": {},
      "execution_count": 18,
      "outputs": [
        {
          "output_type": "display_data",
          "data": {
            "image/png": "[encoded data removed]",
            "text/plain": [
              "<Figure size 720x432 with 1 Axes>"
            ]
          },
          "metadata": {}
        }
      ],
      "id": "3f1ae07d"
    },
    {
      "cell_type": "markdown",
      "source": "11.70% customers subscribed to the term deposit. Our classes are imbalanced where positive values (subscribed) are only 11.70%.",
      "metadata": {},
      "id": "9787b596"
    },
    {
      "cell_type": "markdown",
      "source": "# Classification",
      "metadata": {},
      "id": "45eb9d17"
    },
    {
      "cell_type": "code",
      "source": "bank_data_new=pd.get_dummies(bank_data)\nbank_data_new",
      "metadata": {},
      "execution_count": 19,
      "outputs": [
        {
          "execution_count": 19,
          "output_type": "execute_result",
          "data": {
            "text/html": [
              "<div>\n",
              "<style scoped>\n",
              "    .dataframe tbody tr th:only-of-type {\n",
              "        vertical-align: middle;\n",
              "    }\n",
              "\n",
              "    .dataframe tbody tr th {\n",
              "        vertical-align: top;\n",
              "    }\n",
              "\n",
              "    .dataframe thead th {\n",
              "        text-align: right;\n",
              "    }\n",
              "</style>\n",
              "<table border=\"1\" class=\"dataframe\">\n",
              "  <thead>\n",
              "    <tr style=\"text-align: right;\">\n",
              "      <th></th>\n",
              "      <th>age</th>\n",
              "      <th>balance</th>\n",
              "      <th>day</th>\n",
              "      <th>duration</th>\n",
              "      <th>campaign</th>\n",
              "      <th>pdays</th>\n",
              "      <th>previous</th>\n",
              "      <th>job_admin.</th>\n",
              "      <th>job_blue-collar</th>\n",
              "      <th>job_entrepreneur</th>\n",
              "      <th>...</th>\n",
              "      <th>month_may</th>\n",
              "      <th>month_nov</th>\n",
              "      <th>month_oct</th>\n",
              "      <th>month_sep</th>\n",
              "      <th>poutcome_failure</th>\n",
              "      <th>poutcome_other</th>\n",
              "      <th>poutcome_success</th>\n",
              "      <th>poutcome_unknown</th>\n",
              "      <th>y_no</th>\n",
              "      <th>y_yes</th>\n",
              "    </tr>\n",
              "  </thead>\n",
              "  <tbody>\n",
              "    <tr>\n",
              "      <th>0</th>\n",
              "      <td>58</td>\n",
              "      <td>2143</td>\n",
              "      <td>5</td>\n",
              "      <td>261</td>\n",
              "      <td>1</td>\n",
              "      <td>-1</td>\n",
              "      <td>0</td>\n",
              "      <td>0</td>\n",
              "      <td>0</td>\n",
              "      <td>0</td>\n",
              "      <td>...</td>\n",
              "      <td>1</td>\n",
              "      <td>0</td>\n",
              "      <td>0</td>\n",
              "      <td>0</td>\n",
              "      <td>0</td>\n",
              "      <td>0</td>\n",
              "      <td>0</td>\n",
              "      <td>1</td>\n",
              "      <td>1</td>\n",
              "      <td>0</td>\n",
              "    </tr>\n",
              "    <tr>\n",
              "      <th>1</th>\n",
              "      <td>44</td>\n",
              "      <td>29</td>\n",
              "      <td>5</td>\n",
              "      <td>151</td>\n",
              "      <td>1</td>\n",
              "      <td>-1</td>\n",
              "      <td>0</td>\n",
              "      <td>0</td>\n",
              "      <td>0</td>\n",
              "      <td>0</td>\n",
              "      <td>...</td>\n",
              "      <td>1</td>\n",
              "      <td>0</td>\n",
              "      <td>0</td>\n",
              "      <td>0</td>\n",
              "      <td>0</td>\n",
              "      <td>0</td>\n",
              "      <td>0</td>\n",
              "      <td>1</td>\n",
              "      <td>1</td>\n",
              "      <td>0</td>\n",
              "    </tr>\n",
              "    <tr>\n",
              "      <th>2</th>\n",
              "      <td>33</td>\n",
              "      <td>2</td>\n",
              "      <td>5</td>\n",
              "      <td>76</td>\n",
              "      <td>1</td>\n",
              "      <td>-1</td>\n",
              "      <td>0</td>\n",
              "      <td>0</td>\n",
              "      <td>0</td>\n",
              "      <td>1</td>\n",
              "      <td>...</td>\n",
              "      <td>1</td>\n",
              "      <td>0</td>\n",
              "      <td>0</td>\n",
              "      <td>0</td>\n",
              "      <td>0</td>\n",
              "      <td>0</td>\n",
              "      <td>0</td>\n",
              "      <td>1</td>\n",
              "      <td>1</td>\n",
              "      <td>0</td>\n",
              "    </tr>\n",
              "    <tr>\n",
              "      <th>3</th>\n",
              "      <td>47</td>\n",
              "      <td>1506</td>\n",
              "      <td>5</td>\n",
              "      <td>92</td>\n",
              "      <td>1</td>\n",
              "      <td>-1</td>\n",
              "      <td>0</td>\n",
              "      <td>0</td>\n",
              "      <td>1</td>\n",
              "      <td>0</td>\n",
              "      <td>...</td>\n",
              "      <td>1</td>\n",
              "      <td>0</td>\n",
              "      <td>0</td>\n",
              "      <td>0</td>\n",
              "      <td>0</td>\n",
              "      <td>0</td>\n",
              "      <td>0</td>\n",
              "      <td>1</td>\n",
              "      <td>1</td>\n",
              "      <td>0</td>\n",
              "    </tr>\n",
              "    <tr>\n",
              "      <th>4</th>\n",
              "      <td>33</td>\n",
              "      <td>1</td>\n",
              "      <td>5</td>\n",
              "      <td>198</td>\n",
              "      <td>1</td>\n",
              "      <td>-1</td>\n",
              "      <td>0</td>\n",
              "      <td>0</td>\n",
              "      <td>0</td>\n",
              "      <td>0</td>\n",
              "      <td>...</td>\n",
              "      <td>1</td>\n",
              "      <td>0</td>\n",
              "      <td>0</td>\n",
              "      <td>0</td>\n",
              "      <td>0</td>\n",
              "      <td>0</td>\n",
              "      <td>0</td>\n",
              "      <td>1</td>\n",
              "      <td>1</td>\n",
              "      <td>0</td>\n",
              "    </tr>\n",
              "    <tr>\n",
              "      <th>...</th>\n",
              "      <td>...</td>\n",
              "      <td>...</td>\n",
              "      <td>...</td>\n",
              "      <td>...</td>\n",
              "      <td>...</td>\n",
              "      <td>...</td>\n",
              "      <td>...</td>\n",
              "      <td>...</td>\n",
              "      <td>...</td>\n",
              "      <td>...</td>\n",
              "      <td>...</td>\n",
              "      <td>...</td>\n",
              "      <td>...</td>\n",
              "      <td>...</td>\n",
              "      <td>...</td>\n",
              "      <td>...</td>\n",
              "      <td>...</td>\n",
              "      <td>...</td>\n",
              "      <td>...</td>\n",
              "      <td>...</td>\n",
              "      <td>...</td>\n",
              "    </tr>\n",
              "    <tr>\n",
              "      <th>45206</th>\n",
              "      <td>51</td>\n",
              "      <td>825</td>\n",
              "      <td>17</td>\n",
              "      <td>977</td>\n",
              "      <td>3</td>\n",
              "      <td>-1</td>\n",
              "      <td>0</td>\n",
              "      <td>0</td>\n",
              "      <td>0</td>\n",
              "      <td>0</td>\n",
              "      <td>...</td>\n",
              "      <td>0</td>\n",
              "      <td>1</td>\n",
              "      <td>0</td>\n",
              "      <td>0</td>\n",
              "      <td>0</td>\n",
              "      <td>0</td>\n",
              "      <td>0</td>\n",
              "      <td>1</td>\n",
              "      <td>0</td>\n",
              "      <td>1</td>\n",
              "    </tr>\n",
              "    <tr>\n",
              "      <th>45207</th>\n",
              "      <td>71</td>\n",
              "      <td>1729</td>\n",
              "      <td>17</td>\n",
              "      <td>456</td>\n",
              "      <td>2</td>\n",
              "      <td>-1</td>\n",
              "      <td>0</td>\n",
              "      <td>0</td>\n",
              "      <td>0</td>\n",
              "      <td>0</td>\n",
              "      <td>...</td>\n",
              "      <td>0</td>\n",
              "      <td>1</td>\n",
              "      <td>0</td>\n",
              "      <td>0</td>\n",
              "      <td>0</td>\n",
              "      <td>0</td>\n",
              "      <td>0</td>\n",
              "      <td>1</td>\n",
              "      <td>0</td>\n",
              "      <td>1</td>\n",
              "    </tr>\n",
              "    <tr>\n",
              "      <th>45208</th>\n",
              "      <td>72</td>\n",
              "      <td>5715</td>\n",
              "      <td>17</td>\n",
              "      <td>1127</td>\n",
              "      <td>5</td>\n",
              "      <td>184</td>\n",
              "      <td>3</td>\n",
              "      <td>0</td>\n",
              "      <td>0</td>\n",
              "      <td>0</td>\n",
              "      <td>...</td>\n",
              "      <td>0</td>\n",
              "      <td>1</td>\n",
              "      <td>0</td>\n",
              "      <td>0</td>\n",
              "      <td>0</td>\n",
              "      <td>0</td>\n",
              "      <td>1</td>\n",
              "      <td>0</td>\n",
              "      <td>0</td>\n",
              "      <td>1</td>\n",
              "    </tr>\n",
              "    <tr>\n",
              "      <th>45209</th>\n",
              "      <td>57</td>\n",
              "      <td>668</td>\n",
              "      <td>17</td>\n",
              "      <td>508</td>\n",
              "      <td>4</td>\n",
              "      <td>-1</td>\n",
              "      <td>0</td>\n",
              "      <td>0</td>\n",
              "      <td>1</td>\n",
              "      <td>0</td>\n",
              "      <td>...</td>\n",
              "      <td>0</td>\n",
              "      <td>1</td>\n",
              "      <td>0</td>\n",
              "      <td>0</td>\n",
              "      <td>0</td>\n",
              "      <td>0</td>\n",
              "      <td>0</td>\n",
              "      <td>1</td>\n",
              "      <td>1</td>\n",
              "      <td>0</td>\n",
              "    </tr>\n",
              "    <tr>\n",
              "      <th>45210</th>\n",
              "      <td>37</td>\n",
              "      <td>2971</td>\n",
              "      <td>17</td>\n",
              "      <td>361</td>\n",
              "      <td>2</td>\n",
              "      <td>188</td>\n",
              "      <td>11</td>\n",
              "      <td>0</td>\n",
              "      <td>0</td>\n",
              "      <td>1</td>\n",
              "      <td>...</td>\n",
              "      <td>0</td>\n",
              "      <td>1</td>\n",
              "      <td>0</td>\n",
              "      <td>0</td>\n",
              "      <td>0</td>\n",
              "      <td>1</td>\n",
              "      <td>0</td>\n",
              "      <td>0</td>\n",
              "      <td>1</td>\n",
              "      <td>0</td>\n",
              "    </tr>\n",
              "  </tbody>\n",
              "</table>\n",
              "<p>45211 rows × 53 columns</p>\n",
              "</div>"
            ],
            "text/plain": [
              "       age  balance  day  duration  campaign  pdays  previous  job_admin.  \\\n",
              "0       58     2143    5       261         1     -1         0           0   \n",
              "1       44       29    5       151         1     -1         0           0   \n",
              "2       33        2    5        76         1     -1         0           0   \n",
              "3       47     1506    5        92         1     -1         0           0   \n",
              "4       33        1    5       198         1     -1         0           0   \n",
              "...    ...      ...  ...       ...       ...    ...       ...         ...   \n",
              "45206   51      825   17       977         3     -1         0           0   \n",
              "45207   71     1729   17       456         2     -1         0           0   \n",
              "45208   72     5715   17      1127         5    184         3           0   \n",
              "45209   57      668   17       508         4     -1         0           0   \n",
              "45210   37     2971   17       361         2    188        11           0   \n",
              "\n",
              "       job_blue-collar  job_entrepreneur  ...  month_may  month_nov  \\\n",
              "0                    0                 0  ...          1          0   \n",
              "1                    0                 0  ...          1          0   \n",
              "2                    0                 1  ...          1          0   \n",
              "3                    1                 0  ...          1          0   \n",
              "4                    0                 0  ...          1          0   \n",
              "...                ...               ...  ...        ...        ...   \n",
              "45206                0                 0  ...          0          1   \n",
              "45207                0                 0  ...          0          1   \n",
              "45208                0                 0  ...          0          1   \n",
              "45209                1                 0  ...          0          1   \n",
              "45210                0                 1  ...          0          1   \n",
              "\n",
              "       month_oct  month_sep  poutcome_failure  poutcome_other  \\\n",
              "0              0          0                 0               0   \n",
              "1              0          0                 0               0   \n",
              "2              0          0                 0               0   \n",
              "3              0          0                 0               0   \n",
              "4              0          0                 0               0   \n",
              "...          ...        ...               ...             ...   \n",
              "45206          0          0                 0               0   \n",
              "45207          0          0                 0               0   \n",
              "45208          0          0                 0               0   \n",
              "45209          0          0                 0               0   \n",
              "45210          0          0                 0               1   \n",
              "\n",
              "       poutcome_success  poutcome_unknown  y_no  y_yes  \n",
              "0                     0                 1     1      0  \n",
              "1                     0                 1     1      0  \n",
              "2                     0                 1     1      0  \n",
              "3                     0                 1     1      0  \n",
              "4                     0                 1     1      0  \n",
              "...                 ...               ...   ...    ...  \n",
              "45206                 0                 1     0      1  \n",
              "45207                 0                 1     0      1  \n",
              "45208                 1                 0     0      1  \n",
              "45209                 0                 1     1      0  \n",
              "45210                 0                 0     1      0  \n",
              "\n",
              "[45211 rows x 53 columns]"
            ]
          },
          "metadata": {}
        }
      ],
      "id": "1d12fc07"
    },
    {
      "cell_type": "code",
      "source": "bank_data_new.shape",
      "metadata": {},
      "execution_count": 20,
      "outputs": [
        {
          "execution_count": 20,
          "output_type": "execute_result",
          "data": {
            "text/plain": [
              "(45211, 53)"
            ]
          },
          "metadata": {}
        }
      ],
      "id": "f2461385"
    },
    {
      "cell_type": "code",
      "source": "#deleting unnecessory columns\nbank_data_new.drop(['job_admin.','marital_married','education_tertiary','default_no','housing_no','loan_no','contact_unknown',\n                   'month_may','poutcome_unknown','y_no'],axis=1,inplace=True)",
      "metadata": {},
      "execution_count": 21,
      "outputs": [],
      "id": "f91f3918"
    },
    {
      "cell_type": "code",
      "source": "bank_data_new.shape",
      "metadata": {},
      "execution_count": 22,
      "outputs": [
        {
          "execution_count": 22,
          "output_type": "execute_result",
          "data": {
            "text/plain": [
              "(45211, 43)"
            ]
          },
          "metadata": {}
        }
      ],
      "id": "eb23f5c3"
    },
    {
      "cell_type": "code",
      "source": "bank_data_new",
      "metadata": {},
      "execution_count": 23,
      "outputs": [
        {
          "execution_count": 23,
          "output_type": "execute_result",
          "data": {
            "text/html": [
              "<div>\n",
              "<style scoped>\n",
              "    .dataframe tbody tr th:only-of-type {\n",
              "        vertical-align: middle;\n",
              "    }\n",
              "\n",
              "    .dataframe tbody tr th {\n",
              "        vertical-align: top;\n",
              "    }\n",
              "\n",
              "    .dataframe thead th {\n",
              "        text-align: right;\n",
              "    }\n",
              "</style>\n",
              "<table border=\"1\" class=\"dataframe\">\n",
              "  <thead>\n",
              "    <tr style=\"text-align: right;\">\n",
              "      <th></th>\n",
              "      <th>age</th>\n",
              "      <th>balance</th>\n",
              "      <th>day</th>\n",
              "      <th>duration</th>\n",
              "      <th>campaign</th>\n",
              "      <th>pdays</th>\n",
              "      <th>previous</th>\n",
              "      <th>job_blue-collar</th>\n",
              "      <th>job_entrepreneur</th>\n",
              "      <th>job_housemaid</th>\n",
              "      <th>...</th>\n",
              "      <th>month_jul</th>\n",
              "      <th>month_jun</th>\n",
              "      <th>month_mar</th>\n",
              "      <th>month_nov</th>\n",
              "      <th>month_oct</th>\n",
              "      <th>month_sep</th>\n",
              "      <th>poutcome_failure</th>\n",
              "      <th>poutcome_other</th>\n",
              "      <th>poutcome_success</th>\n",
              "      <th>y_yes</th>\n",
              "    </tr>\n",
              "  </thead>\n",
              "  <tbody>\n",
              "    <tr>\n",
              "      <th>0</th>\n",
              "      <td>58</td>\n",
              "      <td>2143</td>\n",
              "      <td>5</td>\n",
              "      <td>261</td>\n",
              "      <td>1</td>\n",
              "      <td>-1</td>\n",
              "      <td>0</td>\n",
              "      <td>0</td>\n",
              "      <td>0</td>\n",
              "      <td>0</td>\n",
              "      <td>...</td>\n",
              "      <td>0</td>\n",
              "      <td>0</td>\n",
              "      <td>0</td>\n",
              "      <td>0</td>\n",
              "      <td>0</td>\n",
              "      <td>0</td>\n",
              "      <td>0</td>\n",
              "      <td>0</td>\n",
              "      <td>0</td>\n",
              "      <td>0</td>\n",
              "    </tr>\n",
              "    <tr>\n",
              "      <th>1</th>\n",
              "      <td>44</td>\n",
              "      <td>29</td>\n",
              "      <td>5</td>\n",
              "      <td>151</td>\n",
              "      <td>1</td>\n",
              "      <td>-1</td>\n",
              "      <td>0</td>\n",
              "      <td>0</td>\n",
              "      <td>0</td>\n",
              "      <td>0</td>\n",
              "      <td>...</td>\n",
              "      <td>0</td>\n",
              "      <td>0</td>\n",
              "      <td>0</td>\n",
              "      <td>0</td>\n",
              "      <td>0</td>\n",
              "      <td>0</td>\n",
              "      <td>0</td>\n",
              "      <td>0</td>\n",
              "      <td>0</td>\n",
              "      <td>0</td>\n",
              "    </tr>\n",
              "    <tr>\n",
              "      <th>2</th>\n",
              "      <td>33</td>\n",
              "      <td>2</td>\n",
              "      <td>5</td>\n",
              "      <td>76</td>\n",
              "      <td>1</td>\n",
              "      <td>-1</td>\n",
              "      <td>0</td>\n",
              "      <td>0</td>\n",
              "      <td>1</td>\n",
              "      <td>0</td>\n",
              "      <td>...</td>\n",
              "      <td>0</td>\n",
              "      <td>0</td>\n",
              "      <td>0</td>\n",
              "      <td>0</td>\n",
              "      <td>0</td>\n",
              "      <td>0</td>\n",
              "      <td>0</td>\n",
              "      <td>0</td>\n",
              "      <td>0</td>\n",
              "      <td>0</td>\n",
              "    </tr>\n",
              "    <tr>\n",
              "      <th>3</th>\n",
              "      <td>47</td>\n",
              "      <td>1506</td>\n",
              "      <td>5</td>\n",
              "      <td>92</td>\n",
              "      <td>1</td>\n",
              "      <td>-1</td>\n",
              "      <td>0</td>\n",
              "      <td>1</td>\n",
              "      <td>0</td>\n",
              "      <td>0</td>\n",
              "      <td>...</td>\n",
              "      <td>0</td>\n",
              "      <td>0</td>\n",
              "      <td>0</td>\n",
              "      <td>0</td>\n",
              "      <td>0</td>\n",
              "      <td>0</td>\n",
              "      <td>0</td>\n",
              "      <td>0</td>\n",
              "      <td>0</td>\n",
              "      <td>0</td>\n",
              "    </tr>\n",
              "    <tr>\n",
              "      <th>4</th>\n",
              "      <td>33</td>\n",
              "      <td>1</td>\n",
              "      <td>5</td>\n",
              "      <td>198</td>\n",
              "      <td>1</td>\n",
              "      <td>-1</td>\n",
              "      <td>0</td>\n",
              "      <td>0</td>\n",
              "      <td>0</td>\n",
              "      <td>0</td>\n",
              "      <td>...</td>\n",
              "      <td>0</td>\n",
              "      <td>0</td>\n",
              "      <td>0</td>\n",
              "      <td>0</td>\n",
              "      <td>0</td>\n",
              "      <td>0</td>\n",
              "      <td>0</td>\n",
              "      <td>0</td>\n",
              "      <td>0</td>\n",
              "      <td>0</td>\n",
              "    </tr>\n",
              "    <tr>\n",
              "      <th>...</th>\n",
              "      <td>...</td>\n",
              "      <td>...</td>\n",
              "      <td>...</td>\n",
              "      <td>...</td>\n",
              "      <td>...</td>\n",
              "      <td>...</td>\n",
              "      <td>...</td>\n",
              "      <td>...</td>\n",
              "      <td>...</td>\n",
              "      <td>...</td>\n",
              "      <td>...</td>\n",
              "      <td>...</td>\n",
              "      <td>...</td>\n",
              "      <td>...</td>\n",
              "      <td>...</td>\n",
              "      <td>...</td>\n",
              "      <td>...</td>\n",
              "      <td>...</td>\n",
              "      <td>...</td>\n",
              "      <td>...</td>\n",
              "      <td>...</td>\n",
              "    </tr>\n",
              "    <tr>\n",
              "      <th>45206</th>\n",
              "      <td>51</td>\n",
              "      <td>825</td>\n",
              "      <td>17</td>\n",
              "      <td>977</td>\n",
              "      <td>3</td>\n",
              "      <td>-1</td>\n",
              "      <td>0</td>\n",
              "      <td>0</td>\n",
              "      <td>0</td>\n",
              "      <td>0</td>\n",
              "      <td>...</td>\n",
              "      <td>0</td>\n",
              "      <td>0</td>\n",
              "      <td>0</td>\n",
              "      <td>1</td>\n",
              "      <td>0</td>\n",
              "      <td>0</td>\n",
              "      <td>0</td>\n",
              "      <td>0</td>\n",
              "      <td>0</td>\n",
              "      <td>1</td>\n",
              "    </tr>\n",
              "    <tr>\n",
              "      <th>45207</th>\n",
              "      <td>71</td>\n",
              "      <td>1729</td>\n",
              "      <td>17</td>\n",
              "      <td>456</td>\n",
              "      <td>2</td>\n",
              "      <td>-1</td>\n",
              "      <td>0</td>\n",
              "      <td>0</td>\n",
              "      <td>0</td>\n",
              "      <td>0</td>\n",
              "      <td>...</td>\n",
              "      <td>0</td>\n",
              "      <td>0</td>\n",
              "      <td>0</td>\n",
              "      <td>1</td>\n",
              "      <td>0</td>\n",
              "      <td>0</td>\n",
              "      <td>0</td>\n",
              "      <td>0</td>\n",
              "      <td>0</td>\n",
              "      <td>1</td>\n",
              "    </tr>\n",
              "    <tr>\n",
              "      <th>45208</th>\n",
              "      <td>72</td>\n",
              "      <td>5715</td>\n",
              "      <td>17</td>\n",
              "      <td>1127</td>\n",
              "      <td>5</td>\n",
              "      <td>184</td>\n",
              "      <td>3</td>\n",
              "      <td>0</td>\n",
              "      <td>0</td>\n",
              "      <td>0</td>\n",
              "      <td>...</td>\n",
              "      <td>0</td>\n",
              "      <td>0</td>\n",
              "      <td>0</td>\n",
              "      <td>1</td>\n",
              "      <td>0</td>\n",
              "      <td>0</td>\n",
              "      <td>0</td>\n",
              "      <td>0</td>\n",
              "      <td>1</td>\n",
              "      <td>1</td>\n",
              "    </tr>\n",
              "    <tr>\n",
              "      <th>45209</th>\n",
              "      <td>57</td>\n",
              "      <td>668</td>\n",
              "      <td>17</td>\n",
              "      <td>508</td>\n",
              "      <td>4</td>\n",
              "      <td>-1</td>\n",
              "      <td>0</td>\n",
              "      <td>1</td>\n",
              "      <td>0</td>\n",
              "      <td>0</td>\n",
              "      <td>...</td>\n",
              "      <td>0</td>\n",
              "      <td>0</td>\n",
              "      <td>0</td>\n",
              "      <td>1</td>\n",
              "      <td>0</td>\n",
              "      <td>0</td>\n",
              "      <td>0</td>\n",
              "      <td>0</td>\n",
              "      <td>0</td>\n",
              "      <td>0</td>\n",
              "    </tr>\n",
              "    <tr>\n",
              "      <th>45210</th>\n",
              "      <td>37</td>\n",
              "      <td>2971</td>\n",
              "      <td>17</td>\n",
              "      <td>361</td>\n",
              "      <td>2</td>\n",
              "      <td>188</td>\n",
              "      <td>11</td>\n",
              "      <td>0</td>\n",
              "      <td>1</td>\n",
              "      <td>0</td>\n",
              "      <td>...</td>\n",
              "      <td>0</td>\n",
              "      <td>0</td>\n",
              "      <td>0</td>\n",
              "      <td>1</td>\n",
              "      <td>0</td>\n",
              "      <td>0</td>\n",
              "      <td>0</td>\n",
              "      <td>1</td>\n",
              "      <td>0</td>\n",
              "      <td>0</td>\n",
              "    </tr>\n",
              "  </tbody>\n",
              "</table>\n",
              "<p>45211 rows × 43 columns</p>\n",
              "</div>"
            ],
            "text/plain": [
              "       age  balance  day  duration  campaign  pdays  previous  \\\n",
              "0       58     2143    5       261         1     -1         0   \n",
              "1       44       29    5       151         1     -1         0   \n",
              "2       33        2    5        76         1     -1         0   \n",
              "3       47     1506    5        92         1     -1         0   \n",
              "4       33        1    5       198         1     -1         0   \n",
              "...    ...      ...  ...       ...       ...    ...       ...   \n",
              "45206   51      825   17       977         3     -1         0   \n",
              "45207   71     1729   17       456         2     -1         0   \n",
              "45208   72     5715   17      1127         5    184         3   \n",
              "45209   57      668   17       508         4     -1         0   \n",
              "45210   37     2971   17       361         2    188        11   \n",
              "\n",
              "       job_blue-collar  job_entrepreneur  job_housemaid  ...  month_jul  \\\n",
              "0                    0                 0              0  ...          0   \n",
              "1                    0                 0              0  ...          0   \n",
              "2                    0                 1              0  ...          0   \n",
              "3                    1                 0              0  ...          0   \n",
              "4                    0                 0              0  ...          0   \n",
              "...                ...               ...            ...  ...        ...   \n",
              "45206                0                 0              0  ...          0   \n",
              "45207                0                 0              0  ...          0   \n",
              "45208                0                 0              0  ...          0   \n",
              "45209                1                 0              0  ...          0   \n",
              "45210                0                 1              0  ...          0   \n",
              "\n",
              "       month_jun  month_mar  month_nov  month_oct  month_sep  \\\n",
              "0              0          0          0          0          0   \n",
              "1              0          0          0          0          0   \n",
              "2              0          0          0          0          0   \n",
              "3              0          0          0          0          0   \n",
              "4              0          0          0          0          0   \n",
              "...          ...        ...        ...        ...        ...   \n",
              "45206          0          0          1          0          0   \n",
              "45207          0          0          1          0          0   \n",
              "45208          0          0          1          0          0   \n",
              "45209          0          0          1          0          0   \n",
              "45210          0          0          1          0          0   \n",
              "\n",
              "       poutcome_failure  poutcome_other  poutcome_success  y_yes  \n",
              "0                     0               0                 0      0  \n",
              "1                     0               0                 0      0  \n",
              "2                     0               0                 0      0  \n",
              "3                     0               0                 0      0  \n",
              "4                     0               0                 0      0  \n",
              "...                 ...             ...               ...    ...  \n",
              "45206                 0               0                 0      1  \n",
              "45207                 0               0                 0      1  \n",
              "45208                 0               0                 1      1  \n",
              "45209                 0               0                 0      0  \n",
              "45210                 0               1                 0      0  \n",
              "\n",
              "[45211 rows x 43 columns]"
            ]
          },
          "metadata": {}
        }
      ],
      "id": "5cc5d83e"
    },
    {
      "cell_type": "code",
      "source": "X=bank_data_new.drop('y_yes',axis=1)\ny=bank_data_new[['y_yes']]",
      "metadata": {},
      "execution_count": 24,
      "outputs": [],
      "id": "8be5a267"
    },
    {
      "cell_type": "code",
      "source": "X_train,X_test,y_train,y_test = train_test_split(X,y,test_size=0.20,random_state=12,stratify=y)",
      "metadata": {},
      "execution_count": 25,
      "outputs": [],
      "id": "fa8a8305"
    },
    {
      "cell_type": "code",
      "source": "X_train.shape,y_train.shape",
      "metadata": {},
      "execution_count": 26,
      "outputs": [
        {
          "execution_count": 26,
          "output_type": "execute_result",
          "data": {
            "text/plain": [
              "((36168, 42), (36168, 1))"
            ]
          },
          "metadata": {}
        }
      ],
      "id": "431f4687"
    },
    {
      "cell_type": "code",
      "source": "X_test.shape,y_test.shape",
      "metadata": {},
      "execution_count": 27,
      "outputs": [
        {
          "execution_count": 27,
          "output_type": "execute_result",
          "data": {
            "text/plain": [
              "((9043, 42), (9043, 1))"
            ]
          },
          "metadata": {}
        }
      ],
      "id": "0d088e9d"
    },
    {
      "cell_type": "markdown",
      "source": "# FEATURE SELECTION TECHNIQUES",
      "metadata": {},
      "id": "3047c6df"
    },
    {
      "cell_type": "markdown",
      "source": "# 1) Select From Model Technique",
      "metadata": {},
      "id": "0d3fa36a"
    },
    {
      "cell_type": "code",
      "source": "select_from_model = SelectFromModel(estimator = LogisticRegression(),max_features=None)\nselect_from_model.fit(X_train,y_train)",
      "metadata": {},
      "execution_count": 28,
      "outputs": [
        {
          "execution_count": 28,
          "output_type": "execute_result",
          "data": {
            "text/plain": [
              "SelectFromModel(estimator=LogisticRegression())"
            ]
          },
          "metadata": {}
        }
      ],
      "id": "b0418f2e"
    },
    {
      "cell_type": "code",
      "source": "select_from_model.get_support()",
      "metadata": {},
      "execution_count": 29,
      "outputs": [
        {
          "execution_count": 29,
          "output_type": "execute_result",
          "data": {
            "text/plain": [
              "array([False, False, False, False,  True, False, False,  True, False,\n",
              "       False, False,  True, False,  True, False, False, False, False,\n",
              "       False,  True, False,  True, False, False,  True,  True,  True,\n",
              "       False, False, False, False, False, False, False, False,  True,\n",
              "       False,  True, False,  True, False,  True])"
            ]
          },
          "metadata": {}
        }
      ],
      "id": "7240234c"
    },
    {
      "cell_type": "code",
      "source": "X_train.columns[select_from_model.get_support()]",
      "metadata": {},
      "execution_count": 30,
      "outputs": [
        {
          "execution_count": 30,
          "output_type": "execute_result",
          "data": {
            "text/plain": [
              "Index(['campaign', 'job_blue-collar', 'job_retired', 'job_services',\n",
              "       'marital_single', 'education_secondary', 'housing_yes', 'loan_yes',\n",
              "       'contact_cellular', 'month_mar', 'month_oct', 'poutcome_failure',\n",
              "       'poutcome_success'],\n",
              "      dtype='object')"
            ]
          },
          "metadata": {}
        }
      ],
      "id": "1c79f84b"
    },
    {
      "cell_type": "code",
      "source": "X_train_selected_features = select_from_model.transform(X_train)\nX_test_selected_features  = select_from_model.transform(X_test)",
      "metadata": {},
      "execution_count": 31,
      "outputs": [],
      "id": "d7badb88"
    },
    {
      "cell_type": "code",
      "source": "X_train_selected_features.shape",
      "metadata": {},
      "execution_count": 32,
      "outputs": [
        {
          "execution_count": 32,
          "output_type": "execute_result",
          "data": {
            "text/plain": [
              "(36168, 13)"
            ]
          },
          "metadata": {}
        }
      ],
      "id": "79e4d457"
    },
    {
      "cell_type": "code",
      "source": "X_test_selected_features.shape",
      "metadata": {},
      "execution_count": 33,
      "outputs": [
        {
          "execution_count": 33,
          "output_type": "execute_result",
          "data": {
            "text/plain": [
              "(9043, 13)"
            ]
          },
          "metadata": {}
        }
      ],
      "id": "07208a22"
    },
    {
      "cell_type": "code",
      "source": "def run_Logistic_Regression(X_train,y_train,X_test,y_test):\n    lr_classifier = LogisticRegression(random_state=12)\n    lr_classifier.fit(X_train,y_train) \n\n    y_pred = lr_classifier.predict(X_test)\n\n    print('Accuracy Score  : ',round(accuracy_score(y_test,y_pred),4))\n    print('Precision Score : ',round(precision_score(y_test,y_pred),4))\n    print('Recall Score    : ',round(recall_score(y_test,y_pred),4))\n    print('Confusion Matrix:\\n',confusion_matrix(y_test,y_pred))",
      "metadata": {},
      "execution_count": 34,
      "outputs": [],
      "id": "eab27c62"
    },
    {
      "cell_type": "markdown",
      "source": "* **considering all features**",
      "metadata": {},
      "id": "10b77fbd"
    },
    {
      "cell_type": "code",
      "source": "%%time\nall_features=run_Logistic_Regression(X_train,y_train,X_test,y_test) \nall_features",
      "metadata": {},
      "execution_count": 35,
      "outputs": [
        {
          "name": "stdout",
          "output_type": "stream",
          "text": "Accuracy Score  :  0.8914\n\nPrecision Score :  0.5984\n\nRecall Score    :  0.2183\n\nConfusion Matrix:\n\n [[7830  155]\n\n [ 827  231]]\n\nWall time: 584 ms\n"
        }
      ],
      "id": "33894983"
    },
    {
      "cell_type": "markdown",
      "source": "* **selected features**",
      "metadata": {},
      "id": "6f7cc5b9"
    },
    {
      "cell_type": "code",
      "source": "%%time\nselected_fea_sfm=run_Logistic_Regression(X_train_selected_features,y_train,X_test_selected_features,y_test)\nselected_fea_sfm",
      "metadata": {
        "scrolled": true
      },
      "execution_count": 36,
      "outputs": [
        {
          "name": "stdout",
          "output_type": "stream",
          "text": "Accuracy Score  :  0.8934\n\nPrecision Score :  0.6556\n\nRecall Score    :  0.1871\n\nConfusion Matrix:\n\n [[7881  104]\n\n [ 860  198]]\n\nWall time: 175 ms\n"
        }
      ],
      "id": "f81ed06a"
    },
    {
      "cell_type": "markdown",
      "source": "# 2. RFE - Recursive Feature Elimination",
      "metadata": {},
      "id": "ee4e8720"
    },
    {
      "cell_type": "code",
      "source": "rfe_model = RFE(estimator = LogisticRegression(),n_features_to_select=None)\nrfe_model.fit(X_train,y_train)",
      "metadata": {},
      "execution_count": 37,
      "outputs": [
        {
          "execution_count": 37,
          "output_type": "execute_result",
          "data": {
            "text/plain": [
              "RFE(estimator=LogisticRegression())"
            ]
          },
          "metadata": {}
        }
      ],
      "id": "1dcd198f"
    },
    {
      "cell_type": "code",
      "source": "rfe_model.get_support()",
      "metadata": {},
      "execution_count": 38,
      "outputs": [
        {
          "execution_count": 38,
          "output_type": "execute_result",
          "data": {
            "text/plain": [
              "array([False, False, False, False, False, False, False, False, False,\n",
              "       False, False,  True, False, False,  True, False, False,  True,\n",
              "        True,  True,  True, False, False, False,  True,  True,  True,\n",
              "        True,  True,  True,  True, False,  True,  True,  True,  True,\n",
              "        True,  True,  True, False, False,  True])"
            ]
          },
          "metadata": {}
        }
      ],
      "id": "fa2096b8"
    },
    {
      "cell_type": "code",
      "source": "X_train.columns[rfe_model.get_support()]",
      "metadata": {},
      "execution_count": 39,
      "outputs": [
        {
          "execution_count": 39,
          "output_type": "execute_result",
          "data": {
            "text/plain": [
              "Index(['job_retired', 'job_student', 'job_unknown', 'marital_divorced',\n",
              "       'marital_single', 'education_primary', 'housing_yes', 'loan_yes',\n",
              "       'contact_cellular', 'contact_telephone', 'month_apr', 'month_aug',\n",
              "       'month_dec', 'month_jan', 'month_jul', 'month_jun', 'month_mar',\n",
              "       'month_nov', 'month_oct', 'month_sep', 'poutcome_success'],\n",
              "      dtype='object')"
            ]
          },
          "metadata": {}
        }
      ],
      "id": "a5ad0eed"
    },
    {
      "cell_type": "code",
      "source": "X_train_rfe_selected = rfe_model.transform(X_train)\nX_test_rfe_selected  = rfe_model.transform(X_test)",
      "metadata": {},
      "execution_count": 40,
      "outputs": [],
      "id": "7b24258a"
    },
    {
      "cell_type": "code",
      "source": "X_train_rfe_selected.shape",
      "metadata": {},
      "execution_count": 41,
      "outputs": [
        {
          "execution_count": 41,
          "output_type": "execute_result",
          "data": {
            "text/plain": [
              "(36168, 21)"
            ]
          },
          "metadata": {}
        }
      ],
      "id": "ecae641d"
    },
    {
      "cell_type": "code",
      "source": "X_test_rfe_selected.shape",
      "metadata": {},
      "execution_count": 42,
      "outputs": [
        {
          "execution_count": 42,
          "output_type": "execute_result",
          "data": {
            "text/plain": [
              "(9043, 21)"
            ]
          },
          "metadata": {}
        }
      ],
      "id": "ba6efa75"
    },
    {
      "cell_type": "code",
      "source": "%%time\nselected_fea_rfe=run_Logistic_Regression(X_train_rfe_selected,y_train,X_test_rfe_selected,y_test)\nselected_fea_rfe",
      "metadata": {},
      "execution_count": 43,
      "outputs": [
        {
          "name": "stdout",
          "output_type": "stream",
          "text": "Accuracy Score  :  0.8933\n\nPrecision Score :  0.6716\n\nRecall Score    :  0.172\n\nConfusion Matrix:\n\n [[7896   89]\n\n [ 876  182]]\n\nWall time: 241 ms\n"
        }
      ],
      "id": "0cb7ca4e"
    },
    {
      "cell_type": "markdown",
      "source": "* **this accuracy score is not good as compare to Select From Model Technique.**",
      "metadata": {},
      "id": "f51e3797"
    },
    {
      "cell_type": "markdown",
      "source": "## Hence we select best festures from Select From Model technique",
      "metadata": {},
      "id": "17357509"
    },
    {
      "cell_type": "code",
      "source": "selected_col=X_train.columns[select_from_model.get_support()]\nprint(selected_col.tolist())",
      "metadata": {},
      "execution_count": 44,
      "outputs": [
        {
          "name": "stdout",
          "output_type": "stream",
          "text": "['campaign', 'job_blue-collar', 'job_retired', 'job_services', 'marital_single', 'education_secondary', 'housing_yes', 'loan_yes', 'contact_cellular', 'month_mar', 'month_oct', 'poutcome_failure', 'poutcome_success']\n"
        }
      ],
      "id": "db1a77db"
    },
    {
      "cell_type": "code",
      "source": "selected_col_test=X_test.columns[select_from_model.get_support()]\nprint(selected_col_test.tolist())",
      "metadata": {},
      "execution_count": 45,
      "outputs": [
        {
          "name": "stdout",
          "output_type": "stream",
          "text": "['campaign', 'job_blue-collar', 'job_retired', 'job_services', 'marital_single', 'education_secondary', 'housing_yes', 'loan_yes', 'contact_cellular', 'month_mar', 'month_oct', 'poutcome_failure', 'poutcome_success']\n"
        }
      ],
      "id": "71abcd49"
    },
    {
      "cell_type": "code",
      "source": "X_train_final = X_train[selected_col.tolist()]\ny_train_final = y_train['y_yes']\nX_test_final = X_test[selected_col_test.tolist()]\ny_test_final = y_test\n\nX_test_final.head()",
      "metadata": {},
      "execution_count": 46,
      "outputs": [
        {
          "execution_count": 46,
          "output_type": "execute_result",
          "data": {
            "text/html": [
              "<div>\n",
              "<style scoped>\n",
              "    .dataframe tbody tr th:only-of-type {\n",
              "        vertical-align: middle;\n",
              "    }\n",
              "\n",
              "    .dataframe tbody tr th {\n",
              "        vertical-align: top;\n",
              "    }\n",
              "\n",
              "    .dataframe thead th {\n",
              "        text-align: right;\n",
              "    }\n",
              "</style>\n",
              "<table border=\"1\" class=\"dataframe\">\n",
              "  <thead>\n",
              "    <tr style=\"text-align: right;\">\n",
              "      <th></th>\n",
              "      <th>campaign</th>\n",
              "      <th>job_blue-collar</th>\n",
              "      <th>job_retired</th>\n",
              "      <th>job_services</th>\n",
              "      <th>marital_single</th>\n",
              "      <th>education_secondary</th>\n",
              "      <th>housing_yes</th>\n",
              "      <th>loan_yes</th>\n",
              "      <th>contact_cellular</th>\n",
              "      <th>month_mar</th>\n",
              "      <th>month_oct</th>\n",
              "      <th>poutcome_failure</th>\n",
              "      <th>poutcome_success</th>\n",
              "    </tr>\n",
              "  </thead>\n",
              "  <tbody>\n",
              "    <tr>\n",
              "      <th>28840</th>\n",
              "      <td>1</td>\n",
              "      <td>0</td>\n",
              "      <td>0</td>\n",
              "      <td>0</td>\n",
              "      <td>0</td>\n",
              "      <td>1</td>\n",
              "      <td>0</td>\n",
              "      <td>0</td>\n",
              "      <td>1</td>\n",
              "      <td>0</td>\n",
              "      <td>0</td>\n",
              "      <td>0</td>\n",
              "      <td>0</td>\n",
              "    </tr>\n",
              "    <tr>\n",
              "      <th>16017</th>\n",
              "      <td>1</td>\n",
              "      <td>1</td>\n",
              "      <td>0</td>\n",
              "      <td>0</td>\n",
              "      <td>0</td>\n",
              "      <td>1</td>\n",
              "      <td>1</td>\n",
              "      <td>0</td>\n",
              "      <td>0</td>\n",
              "      <td>0</td>\n",
              "      <td>0</td>\n",
              "      <td>0</td>\n",
              "      <td>0</td>\n",
              "    </tr>\n",
              "    <tr>\n",
              "      <th>29926</th>\n",
              "      <td>1</td>\n",
              "      <td>0</td>\n",
              "      <td>1</td>\n",
              "      <td>0</td>\n",
              "      <td>0</td>\n",
              "      <td>1</td>\n",
              "      <td>0</td>\n",
              "      <td>1</td>\n",
              "      <td>1</td>\n",
              "      <td>0</td>\n",
              "      <td>0</td>\n",
              "      <td>1</td>\n",
              "      <td>0</td>\n",
              "    </tr>\n",
              "    <tr>\n",
              "      <th>26323</th>\n",
              "      <td>1</td>\n",
              "      <td>1</td>\n",
              "      <td>0</td>\n",
              "      <td>0</td>\n",
              "      <td>0</td>\n",
              "      <td>1</td>\n",
              "      <td>0</td>\n",
              "      <td>0</td>\n",
              "      <td>1</td>\n",
              "      <td>0</td>\n",
              "      <td>0</td>\n",
              "      <td>0</td>\n",
              "      <td>0</td>\n",
              "    </tr>\n",
              "    <tr>\n",
              "      <th>34490</th>\n",
              "      <td>1</td>\n",
              "      <td>1</td>\n",
              "      <td>0</td>\n",
              "      <td>0</td>\n",
              "      <td>1</td>\n",
              "      <td>1</td>\n",
              "      <td>1</td>\n",
              "      <td>0</td>\n",
              "      <td>1</td>\n",
              "      <td>0</td>\n",
              "      <td>0</td>\n",
              "      <td>0</td>\n",
              "      <td>0</td>\n",
              "    </tr>\n",
              "  </tbody>\n",
              "</table>\n",
              "</div>"
            ],
            "text/plain": [
              "       campaign  job_blue-collar  job_retired  job_services  marital_single  \\\n",
              "28840         1                0            0             0               0   \n",
              "16017         1                1            0             0               0   \n",
              "29926         1                0            1             0               0   \n",
              "26323         1                1            0             0               0   \n",
              "34490         1                1            0             0               1   \n",
              "\n",
              "       education_secondary  housing_yes  loan_yes  contact_cellular  \\\n",
              "28840                    1            0         0                 1   \n",
              "16017                    1            1         0                 0   \n",
              "29926                    1            0         1                 1   \n",
              "26323                    1            0         0                 1   \n",
              "34490                    1            1         0                 1   \n",
              "\n",
              "       month_mar  month_oct  poutcome_failure  poutcome_success  \n",
              "28840          0          0                 0                 0  \n",
              "16017          0          0                 0                 0  \n",
              "29926          0          0                 1                 0  \n",
              "26323          0          0                 0                 0  \n",
              "34490          0          0                 0                 0  "
            ]
          },
          "metadata": {}
        }
      ],
      "id": "5f8ed5f5"
    },
    {
      "cell_type": "code",
      "source": "X_test_final.shape",
      "metadata": {},
      "execution_count": 47,
      "outputs": [
        {
          "execution_count": 47,
          "output_type": "execute_result",
          "data": {
            "text/plain": [
              "(9043, 13)"
            ]
          },
          "metadata": {}
        }
      ],
      "id": "30c73dc8"
    },
    {
      "cell_type": "markdown",
      "source": "# Model Training ",
      "metadata": {},
      "id": "195d5b84"
    },
    {
      "cell_type": "code",
      "source": "logreg = LogisticRegression()\nlogreg.fit(X_train_final, y_train_final)",
      "metadata": {},
      "execution_count": 48,
      "outputs": [
        {
          "execution_count": 48,
          "output_type": "execute_result",
          "data": {
            "text/plain": [
              "LogisticRegression()"
            ]
          },
          "metadata": {}
        }
      ],
      "id": "14f3353c"
    },
    {
      "cell_type": "markdown",
      "source": "# Model Testing ||  Model Evaluation",
      "metadata": {},
      "id": "c132c4f9"
    },
    {
      "cell_type": "code",
      "source": "y_pred_test = pd.DataFrame(logreg.predict(X_test_final))\ny_pred_test.head()",
      "metadata": {
        "scrolled": true
      },
      "execution_count": 49,
      "outputs": [
        {
          "execution_count": 49,
          "output_type": "execute_result",
          "data": {
            "text/html": [
              "<div>\n",
              "<style scoped>\n",
              "    .dataframe tbody tr th:only-of-type {\n",
              "        vertical-align: middle;\n",
              "    }\n",
              "\n",
              "    .dataframe tbody tr th {\n",
              "        vertical-align: top;\n",
              "    }\n",
              "\n",
              "    .dataframe thead th {\n",
              "        text-align: right;\n",
              "    }\n",
              "</style>\n",
              "<table border=\"1\" class=\"dataframe\">\n",
              "  <thead>\n",
              "    <tr style=\"text-align: right;\">\n",
              "      <th></th>\n",
              "      <th>0</th>\n",
              "    </tr>\n",
              "  </thead>\n",
              "  <tbody>\n",
              "    <tr>\n",
              "      <th>0</th>\n",
              "      <td>0</td>\n",
              "    </tr>\n",
              "    <tr>\n",
              "      <th>1</th>\n",
              "      <td>0</td>\n",
              "    </tr>\n",
              "    <tr>\n",
              "      <th>2</th>\n",
              "      <td>0</td>\n",
              "    </tr>\n",
              "    <tr>\n",
              "      <th>3</th>\n",
              "      <td>0</td>\n",
              "    </tr>\n",
              "    <tr>\n",
              "      <th>4</th>\n",
              "      <td>0</td>\n",
              "    </tr>\n",
              "  </tbody>\n",
              "</table>\n",
              "</div>"
            ],
            "text/plain": [
              "   0\n",
              "0  0\n",
              "1  0\n",
              "2  0\n",
              "3  0\n",
              "4  0"
            ]
          },
          "metadata": {}
        }
      ],
      "id": "860d43ca"
    },
    {
      "cell_type": "code",
      "source": "from sklearn.metrics import confusion_matrix\nfrom sklearn.metrics import accuracy_score\nconfusion_matrix = confusion_matrix(y_test_final,y_pred_test)\naccuracy = accuracy_score(y_test_final,y_pred_test)\nprint('confusion_matrix :\\n',confusion_matrix,'\\nAccuracy of logistic regression classifier on test set:' ,accuracy)",
      "metadata": {},
      "execution_count": 50,
      "outputs": [
        {
          "name": "stdout",
          "output_type": "stream",
          "text": "confusion_matrix :\n\n [[7881  104]\n\n [ 860  198]] \n\nAccuracy of logistic regression classifier on test set: 0.8933982085591065\n"
        }
      ],
      "id": "78537b24"
    },
    {
      "cell_type": "code",
      "source": "#Classification report\nfrom sklearn.metrics import classification_report\nprint(classification_report(y_test_final,y_pred_test))",
      "metadata": {},
      "execution_count": 51,
      "outputs": [
        {
          "name": "stdout",
          "output_type": "stream",
          "text": "              precision    recall  f1-score   support\n\n\n\n           0       0.90      0.99      0.94      7985\n\n           1       0.66      0.19      0.29      1058\n\n\n\n    accuracy                           0.89      9043\n\n   macro avg       0.78      0.59      0.62      9043\n\nweighted avg       0.87      0.89      0.87      9043\n\n\n"
        }
      ],
      "id": "ede4bd5e"
    },
    {
      "cell_type": "code",
      "source": "from sklearn.metrics import roc_curve\nfrom sklearn.metrics import roc_auc_score\nfpr,tpr,thresholds = roc_curve(y_test_final,logreg.predict_proba (X_test_final)[:,1])\nauc = roc_auc_score(y_test_final,y_pred_test)\n\nplt.plot(fpr,tpr,color = 'blue',label = 'logistic model (area = %0.2f)'%auc)\nplt.plot([0,1],[0, 1],'k--')\nplt.xlabel('False Positive Rate or [1 -True Negative Rate]')\nplt.ylabel('True Positive Rate')\n\n",
      "metadata": {},
      "execution_count": 52,
      "outputs": [
        {
          "execution_count": 52,
          "output_type": "execute_result",
          "data": {
            "text/plain": [
              "Text(0, 0.5, 'True Positive Rate')"
            ]
          },
          "metadata": {}
        },
        {
          "output_type": "display_data",
          "data": {
            "image/png": "[encoded data removed]",
            "text/plain": [
              "<Figure size 432x288 with 1 Axes>"
            ]
          },
          "metadata": {
            "needs_background": "light"
          }
        }
      ],
      "id": "304c5b13"
    },
    {
      "cell_type": "code",
      "source": "auc",
      "metadata": {},
      "execution_count": 53,
      "outputs": [
        {
          "execution_count": 53,
          "output_type": "execute_result",
          "data": {
            "text/plain": [
              "0.5870605684334876"
            ]
          },
          "metadata": {}
        }
      ],
      "id": "18e8e30a"
    }
  ]
}