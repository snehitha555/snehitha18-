{
  "metadata": {
    "colab": {
      "name": "Assignment 3 - Hypothesis Testing.ipynb",
      "provenance": []
    },
    "kernelspec": {
      "name": "python",
      "display_name": "Python (Pyodide)",
      "language": "python"
    },
    "language_info": {
      "codemirror_mode": {
        "name": "python",
        "version": 3
      },
      "file_extension": ".py",
      "mimetype": "text/x-python",
      "name": "python",
      "nbconvert_exporter": "python",
      "pygments_lexer": "ipython3",
      "version": "3.8"
    }
  },
  "nbformat_minor": 5,
  "nbformat": 4,
  "cells": [
    {
      "cell_type": "markdown",
      "source": "# Assignment - 3 : Hypothesis Testing Exercise",
      "metadata": {
        "id": "7ba3211d"
      },
      "id": "7ba3211d"
    },
    {
      "cell_type": "markdown",
      "source": "# Hypothesis Testing Exercise",
      "metadata": {},
      "id": "de7bdf87"
    },
    {
      "cell_type": "markdown",
      "source": "### 1) A F&B manager wants to determine whether there is any significant difference in the diameter of the cutlet between two units. A randomly selected sample of cutlets was collected from both units and measured? Analyze the data and draw inferences at 5% significance level. Please state the assumptions and tests that you carried out to check validity of the assumptions.\n\n### Minitab File : Cutlets.mtw",
      "metadata": {
        "id": "7087a9c3"
      },
      "id": "7087a9c3"
    },
    {
      "cell_type": "markdown",
      "source": "### Answer",
      "metadata": {},
      "id": "b31897b8"
    },
    {
      "cell_type": "markdown",
      "source": "#####\nLevel of significance = 0.05\n\nLet , the null hypothesis be ,  H0: μ1 = μ2 \n    H0 :   (There is no difference in diameters of cutlets between two units) \n    \nAnd alternative hypothesis be ,    Ha: μ1 ≠ μ2  \n Ha :  (There is significant difference in diameters of cutlets between two units) \n \nHere , 2 Samples 2 tail test  is  applicable.\n\n",
      "metadata": {},
      "id": "a6b8a3ca"
    },
    {
      "cell_type": "code",
      "source": "import pandas as pd\nfrom scipy import stats",
      "metadata": {},
      "execution_count": 30,
      "outputs": [],
      "id": "f2261dec"
    },
    {
      "cell_type": "code",
      "source": "data=pd.read_csv('Cutlets.csv')\ndata.head()",
      "metadata": {},
      "execution_count": 31,
      "outputs": [
        {
          "execution_count": 31,
          "output_type": "execute_result",
          "data": {
            "text/html": [
              "<div>\n",
              "<style scoped>\n",
              "    .dataframe tbody tr th:only-of-type {\n",
              "        vertical-align: middle;\n",
              "    }\n",
              "\n",
              "    .dataframe tbody tr th {\n",
              "        vertical-align: top;\n",
              "    }\n",
              "\n",
              "    .dataframe thead th {\n",
              "        text-align: right;\n",
              "    }\n",
              "</style>\n",
              "<table border=\"1\" class=\"dataframe\">\n",
              "  <thead>\n",
              "    <tr style=\"text-align: right;\">\n",
              "      <th></th>\n",
              "      <th>Unit A</th>\n",
              "      <th>Unit B</th>\n",
              "    </tr>\n",
              "  </thead>\n",
              "  <tbody>\n",
              "    <tr>\n",
              "      <th>0</th>\n",
              "      <td>6.8090</td>\n",
              "      <td>6.7703</td>\n",
              "    </tr>\n",
              "    <tr>\n",
              "      <th>1</th>\n",
              "      <td>6.4376</td>\n",
              "      <td>7.5093</td>\n",
              "    </tr>\n",
              "    <tr>\n",
              "      <th>2</th>\n",
              "      <td>6.9157</td>\n",
              "      <td>6.7300</td>\n",
              "    </tr>\n",
              "    <tr>\n",
              "      <th>3</th>\n",
              "      <td>7.3012</td>\n",
              "      <td>6.7878</td>\n",
              "    </tr>\n",
              "    <tr>\n",
              "      <th>4</th>\n",
              "      <td>7.4488</td>\n",
              "      <td>7.1522</td>\n",
              "    </tr>\n",
              "  </tbody>\n",
              "</table>\n",
              "</div>"
            ],
            "text/plain": [
              "   Unit A  Unit B\n",
              "0  6.8090  6.7703\n",
              "1  6.4376  7.5093\n",
              "2  6.9157  6.7300\n",
              "3  7.3012  6.7878\n",
              "4  7.4488  7.1522"
            ]
          },
          "metadata": {}
        }
      ],
      "id": "51a5771e"
    },
    {
      "cell_type": "code",
      "source": "statistic,p_value=stats.ttest_ind(data['Unit A'],data['Unit B'])\nround(p_value,4)",
      "metadata": {},
      "execution_count": 32,
      "outputs": [
        {
          "execution_count": 32,
          "output_type": "execute_result",
          "data": {
            "text/plain": [
              "0.4722"
            ]
          },
          "metadata": {}
        }
      ],
      "id": "9fa0f967"
    },
    {
      "cell_type": "code",
      "source": "if p_value < 0.05:\n    print('Reject the null hypothesis at 5% level of significance and conclude that , there is a difference in diameters of cutlets between two units.')\nelse:\n        print('do not reject the null hypothesis at 5% level of significance and conclude that , there is no difference in diameters of cutlets between two units.')\n",
      "metadata": {},
      "execution_count": 33,
      "outputs": [
        {
          "name": "stdout",
          "output_type": "stream",
          "text": "do not reject the null hypothesis at 5% level of significance and conclude that , there is no difference in diameters of cutlets between two units.\n"
        }
      ],
      "id": "c940927b"
    },
    {
      "cell_type": "markdown",
      "source": "#### \nHence , p-value > 0.05   , at  5%  level of significance we do not reject the null hypothesis and conclude that,\nthere is no difference in diameters of cutlets between two units.",
      "metadata": {},
      "id": "155d8bc8"
    },
    {
      "cell_type": "markdown",
      "source": "# =====================================================",
      "metadata": {},
      "id": "cdc06b5a"
    },
    {
      "cell_type": "markdown",
      "source": "\n### 2) A hospital wants to determine whether there is any difference in the average Turn Around Time (TAT) of reports of the laboratories on their preferred list. They collected a random sample and recorded TAT for reports of 4 laboratories. TAT is defined as sample collected to report dispatch.\n### Analyze the data and determine whether there is any difference in average TAT among the different laboratories at 5% significance level.\n### Minitab File: LabTAT.mtw",
      "metadata": {
        "id": "39e6f886"
      },
      "id": "39e6f886"
    },
    {
      "cell_type": "markdown",
      "source": "## Answer : ",
      "metadata": {},
      "id": "7847ff64"
    },
    {
      "cell_type": "markdown",
      "source": "#### \nLevel of significance = 0.05\n\nnull hypothesis is,\n\nH0 :   There is no difference in average TAT among the different laboratories.\n    \nAnd alternative hypothesis be, \n\nHa :  There is a  difference in average TAT among the different laboratories.\n",
      "metadata": {},
      "id": "1acdb0dd"
    },
    {
      "cell_type": "code",
      "source": "lab_data=pd.read_csv(\"LabTAT.csv\")\nlab_data.head()",
      "metadata": {},
      "execution_count": 34,
      "outputs": [
        {
          "execution_count": 34,
          "output_type": "execute_result",
          "data": {
            "text/html": [
              "<div>\n",
              "<style scoped>\n",
              "    .dataframe tbody tr th:only-of-type {\n",
              "        vertical-align: middle;\n",
              "    }\n",
              "\n",
              "    .dataframe tbody tr th {\n",
              "        vertical-align: top;\n",
              "    }\n",
              "\n",
              "    .dataframe thead th {\n",
              "        text-align: right;\n",
              "    }\n",
              "</style>\n",
              "<table border=\"1\" class=\"dataframe\">\n",
              "  <thead>\n",
              "    <tr style=\"text-align: right;\">\n",
              "      <th></th>\n",
              "      <th>Laboratory 1</th>\n",
              "      <th>Laboratory 2</th>\n",
              "      <th>Laboratory 3</th>\n",
              "      <th>Laboratory 4</th>\n",
              "    </tr>\n",
              "  </thead>\n",
              "  <tbody>\n",
              "    <tr>\n",
              "      <th>0</th>\n",
              "      <td>185.35</td>\n",
              "      <td>165.53</td>\n",
              "      <td>176.70</td>\n",
              "      <td>166.13</td>\n",
              "    </tr>\n",
              "    <tr>\n",
              "      <th>1</th>\n",
              "      <td>170.49</td>\n",
              "      <td>185.91</td>\n",
              "      <td>198.45</td>\n",
              "      <td>160.79</td>\n",
              "    </tr>\n",
              "    <tr>\n",
              "      <th>2</th>\n",
              "      <td>192.77</td>\n",
              "      <td>194.92</td>\n",
              "      <td>201.23</td>\n",
              "      <td>185.18</td>\n",
              "    </tr>\n",
              "    <tr>\n",
              "      <th>3</th>\n",
              "      <td>177.33</td>\n",
              "      <td>183.00</td>\n",
              "      <td>199.61</td>\n",
              "      <td>176.42</td>\n",
              "    </tr>\n",
              "    <tr>\n",
              "      <th>4</th>\n",
              "      <td>193.41</td>\n",
              "      <td>169.57</td>\n",
              "      <td>204.63</td>\n",
              "      <td>152.60</td>\n",
              "    </tr>\n",
              "  </tbody>\n",
              "</table>\n",
              "</div>"
            ],
            "text/plain": [
              "   Laboratory 1  Laboratory 2  Laboratory 3  Laboratory 4\n",
              "0        185.35        165.53        176.70        166.13\n",
              "1        170.49        185.91        198.45        160.79\n",
              "2        192.77        194.92        201.23        185.18\n",
              "3        177.33        183.00        199.61        176.42\n",
              "4        193.41        169.57        204.63        152.60"
            ]
          },
          "metadata": {}
        }
      ],
      "id": "e9a1ae0c"
    },
    {
      "cell_type": "code",
      "source": "statistic,p_val=stats.f_oneway(lab_data['Laboratory 1'],lab_data['Laboratory 2'],lab_data['Laboratory 3'],lab_data['Laboratory 4'])\np_val",
      "metadata": {},
      "execution_count": 35,
      "outputs": [
        {
          "execution_count": 35,
          "output_type": "execute_result",
          "data": {
            "text/plain": [
              "2.1156708949992414e-57"
            ]
          },
          "metadata": {}
        }
      ],
      "id": "229d234d"
    },
    {
      "cell_type": "code",
      "source": "if p_val < 0.05:\n    print('Reject the null hypothesis at 5% level of significance and conclude that , there is a  difference in average TAT among the different laboratories')\nelse:\n        print('do no reject the null hypothesis at 5% level of significance and conclude that , there is no  difference in average TAT among the different laboratories')",
      "metadata": {},
      "execution_count": 36,
      "outputs": [
        {
          "name": "stdout",
          "output_type": "stream",
          "text": "Reject the null hypothesis at 5% level of significance and conclude that , there is a  difference in average TAT among the different laboratories\n"
        }
      ],
      "id": "91eddaf9"
    },
    {
      "cell_type": "markdown",
      "source": "#### \nHere ,\np-value  <  0.05 , \nat  5%  level of significance we  reject the null hypothesis and conclude that,\nthere is a  difference in average TAT among the different  laboratories.",
      "metadata": {},
      "id": "abb93a33"
    },
    {
      "cell_type": "markdown",
      "source": "# =====================================================",
      "metadata": {},
      "id": "68eb9935"
    },
    {
      "cell_type": "markdown",
      "source": "# ",
      "metadata": {},
      "id": "6278108b"
    },
    {
      "cell_type": "markdown",
      "source": "### 3) Sales of products in four different regions is tabulated for males and females. Find if male-female buyer rations are similar across regions.\n**file : Buyer Ratio.mtw**",
      "metadata": {
        "id": "62d8650b"
      },
      "id": "62d8650b"
    },
    {
      "cell_type": "markdown",
      "source": "## Answer :",
      "metadata": {},
      "id": "61958a50"
    },
    {
      "cell_type": "markdown",
      "source": "#### \nLevel of significance = 0.05\n\nnull hypothesis is,\n\n    H0 :   There is no significant association between gender  and regions.\n    \nAnd alternative hypothesis is, \n\n    Ha :  There is a significant association between gender  and regions.\n",
      "metadata": {},
      "id": "78443d1b"
    },
    {
      "cell_type": "code",
      "source": "data=pd.read_csv(\"BuyerRatio.csv\")\ndata",
      "metadata": {},
      "execution_count": 67,
      "outputs": [
        {
          "execution_count": 67,
          "output_type": "execute_result",
          "data": {
            "text/html": [
              "<div>\n",
              "<style scoped>\n",
              "    .dataframe tbody tr th:only-of-type {\n",
              "        vertical-align: middle;\n",
              "    }\n",
              "\n",
              "    .dataframe tbody tr th {\n",
              "        vertical-align: top;\n",
              "    }\n",
              "\n",
              "    .dataframe thead th {\n",
              "        text-align: right;\n",
              "    }\n",
              "</style>\n",
              "<table border=\"1\" class=\"dataframe\">\n",
              "  <thead>\n",
              "    <tr style=\"text-align: right;\">\n",
              "      <th></th>\n",
              "      <th>Observed Values</th>\n",
              "      <th>East</th>\n",
              "      <th>West</th>\n",
              "      <th>North</th>\n",
              "      <th>South</th>\n",
              "    </tr>\n",
              "  </thead>\n",
              "  <tbody>\n",
              "    <tr>\n",
              "      <th>0</th>\n",
              "      <td>Males</td>\n",
              "      <td>50</td>\n",
              "      <td>142</td>\n",
              "      <td>131</td>\n",
              "      <td>70</td>\n",
              "    </tr>\n",
              "    <tr>\n",
              "      <th>1</th>\n",
              "      <td>Females</td>\n",
              "      <td>435</td>\n",
              "      <td>1523</td>\n",
              "      <td>1356</td>\n",
              "      <td>750</td>\n",
              "    </tr>\n",
              "  </tbody>\n",
              "</table>\n",
              "</div>"
            ],
            "text/plain": [
              "  Observed Values  East  West  North  South\n",
              "0           Males    50   142    131     70\n",
              "1         Females   435  1523   1356    750"
            ]
          },
          "metadata": {}
        }
      ],
      "id": "c92370ed"
    },
    {
      "cell_type": "code",
      "source": "data=data.iloc[:,1:]\ndata",
      "metadata": {},
      "execution_count": 68,
      "outputs": [
        {
          "execution_count": 68,
          "output_type": "execute_result",
          "data": {
            "text/html": [
              "<div>\n",
              "<style scoped>\n",
              "    .dataframe tbody tr th:only-of-type {\n",
              "        vertical-align: middle;\n",
              "    }\n",
              "\n",
              "    .dataframe tbody tr th {\n",
              "        vertical-align: top;\n",
              "    }\n",
              "\n",
              "    .dataframe thead th {\n",
              "        text-align: right;\n",
              "    }\n",
              "</style>\n",
              "<table border=\"1\" class=\"dataframe\">\n",
              "  <thead>\n",
              "    <tr style=\"text-align: right;\">\n",
              "      <th></th>\n",
              "      <th>East</th>\n",
              "      <th>West</th>\n",
              "      <th>North</th>\n",
              "      <th>South</th>\n",
              "    </tr>\n",
              "  </thead>\n",
              "  <tbody>\n",
              "    <tr>\n",
              "      <th>0</th>\n",
              "      <td>50</td>\n",
              "      <td>142</td>\n",
              "      <td>131</td>\n",
              "      <td>70</td>\n",
              "    </tr>\n",
              "    <tr>\n",
              "      <th>1</th>\n",
              "      <td>435</td>\n",
              "      <td>1523</td>\n",
              "      <td>1356</td>\n",
              "      <td>750</td>\n",
              "    </tr>\n",
              "  </tbody>\n",
              "</table>\n",
              "</div>"
            ],
            "text/plain": [
              "   East  West  North  South\n",
              "0    50   142    131     70\n",
              "1   435  1523   1356    750"
            ]
          },
          "metadata": {}
        }
      ],
      "id": "7d4c18f1"
    },
    {
      "cell_type": "code",
      "source": "chi_square_test_val,pval,dof,expected_table=stats.chi2_contingency(data)\nprint('p_value is : ' ,pval)",
      "metadata": {},
      "execution_count": 69,
      "outputs": [
        {
          "name": "stdout",
          "output_type": "stream",
          "text": "p_value is :  0.6603094907091882\n"
        }
      ],
      "id": "8b723157"
    },
    {
      "cell_type": "code",
      "source": "if pval < 0.05:\n    print('Reject the null hypothesis at 5% level of significance and conclude that , there is a significant association between gender  and regions.')\nelse:\n    print('Do not reject the null hypothesis at 5% level of significance and conclude that , there is no significant association between gender  and regions.')\n",
      "metadata": {},
      "execution_count": 70,
      "outputs": [
        {
          "name": "stdout",
          "output_type": "stream",
          "text": "Do not reject the null hypothesis at 5% level of significance and conclude that , there is no significant association between gender  and regions.\n"
        }
      ],
      "id": "6273c994"
    },
    {
      "cell_type": "markdown",
      "source": "##### \nHere , p-value > 0.05   , at  5%  level of significance we do not reject the null hypothesis and conclude that,  \nthere is no significant association between gender  and regions.",
      "metadata": {},
      "id": "82cfdab8"
    },
    {
      "cell_type": "markdown",
      "source": "# ",
      "metadata": {},
      "id": "fc23c2f5"
    },
    {
      "cell_type": "markdown",
      "source": "# =====================================================",
      "metadata": {},
      "id": "dd2b8254"
    },
    {
      "cell_type": "markdown",
      "source": "# ",
      "metadata": {},
      "id": "d4796c9b"
    },
    {
      "cell_type": "markdown",
      "source": "## 4) TeleCall uses 4 centers around the globe to process customer order forms. They audit a certain %  of the customer order forms. Any error in order form renders it defective and has to be reworked before processing.  The manager wants to check whether the defective %  varies by centre. Please analyze the data at 5% significance level and help the manager draw appropriate inferences\n### Minitab File: CustomerOrderForm.mtw",
      "metadata": {
        "id": "6dfdf430"
      },
      "id": "6dfdf430"
    },
    {
      "cell_type": "markdown",
      "source": "## Answer :",
      "metadata": {},
      "id": "7f9e8485"
    },
    {
      "cell_type": "markdown",
      "source": "#### \nLevel of significance = 0.05\n\nnull hypothesis is,\n\n    H0 :  There is no significant association between centers and defectives.\n    \nAnd alternative hypothesis is,\n\n    Ha :  There is a significant association between centers and defectives.\n",
      "metadata": {},
      "id": "06494c28"
    },
    {
      "cell_type": "code",
      "source": "data=pd.read_csv(\"Costomer+OrderForm.csv\")\ndata.head()",
      "metadata": {},
      "execution_count": 53,
      "outputs": [
        {
          "execution_count": 53,
          "output_type": "execute_result",
          "data": {
            "text/html": [
              "<div>\n",
              "<style scoped>\n",
              "    .dataframe tbody tr th:only-of-type {\n",
              "        vertical-align: middle;\n",
              "    }\n",
              "\n",
              "    .dataframe tbody tr th {\n",
              "        vertical-align: top;\n",
              "    }\n",
              "\n",
              "    .dataframe thead th {\n",
              "        text-align: right;\n",
              "    }\n",
              "</style>\n",
              "<table border=\"1\" class=\"dataframe\">\n",
              "  <thead>\n",
              "    <tr style=\"text-align: right;\">\n",
              "      <th></th>\n",
              "      <th>Phillippines</th>\n",
              "      <th>Indonesia</th>\n",
              "      <th>Malta</th>\n",
              "      <th>India</th>\n",
              "    </tr>\n",
              "  </thead>\n",
              "  <tbody>\n",
              "    <tr>\n",
              "      <th>0</th>\n",
              "      <td>Error Free</td>\n",
              "      <td>Error Free</td>\n",
              "      <td>Defective</td>\n",
              "      <td>Error Free</td>\n",
              "    </tr>\n",
              "    <tr>\n",
              "      <th>1</th>\n",
              "      <td>Error Free</td>\n",
              "      <td>Error Free</td>\n",
              "      <td>Error Free</td>\n",
              "      <td>Defective</td>\n",
              "    </tr>\n",
              "    <tr>\n",
              "      <th>2</th>\n",
              "      <td>Error Free</td>\n",
              "      <td>Defective</td>\n",
              "      <td>Defective</td>\n",
              "      <td>Error Free</td>\n",
              "    </tr>\n",
              "    <tr>\n",
              "      <th>3</th>\n",
              "      <td>Error Free</td>\n",
              "      <td>Error Free</td>\n",
              "      <td>Error Free</td>\n",
              "      <td>Error Free</td>\n",
              "    </tr>\n",
              "    <tr>\n",
              "      <th>4</th>\n",
              "      <td>Error Free</td>\n",
              "      <td>Error Free</td>\n",
              "      <td>Defective</td>\n",
              "      <td>Error Free</td>\n",
              "    </tr>\n",
              "  </tbody>\n",
              "</table>\n",
              "</div>"
            ],
            "text/plain": [
              "  Phillippines   Indonesia       Malta       India\n",
              "0   Error Free  Error Free   Defective  Error Free\n",
              "1   Error Free  Error Free  Error Free   Defective\n",
              "2   Error Free   Defective   Defective  Error Free\n",
              "3   Error Free  Error Free  Error Free  Error Free\n",
              "4   Error Free  Error Free   Defective  Error Free"
            ]
          },
          "metadata": {}
        }
      ],
      "id": "b853046d"
    },
    {
      "cell_type": "code",
      "source": "Phillippines=data['Phillippines'].value_counts()\nPhillippines",
      "metadata": {},
      "execution_count": 54,
      "outputs": [
        {
          "execution_count": 54,
          "output_type": "execute_result",
          "data": {
            "text/plain": [
              "Error Free    271\n",
              "Defective      29\n",
              "Name: Phillippines, dtype: int64"
            ]
          },
          "metadata": {}
        }
      ],
      "id": "318a9273"
    },
    {
      "cell_type": "code",
      "source": "Indonesia=data['Indonesia'].value_counts()\nIndonesia",
      "metadata": {},
      "execution_count": 55,
      "outputs": [
        {
          "execution_count": 55,
          "output_type": "execute_result",
          "data": {
            "text/plain": [
              "Error Free    267\n",
              "Defective      33\n",
              "Name: Indonesia, dtype: int64"
            ]
          },
          "metadata": {}
        }
      ],
      "id": "f90f1b1b"
    },
    {
      "cell_type": "code",
      "source": "Malta=data['Malta'].value_counts()\nMalta",
      "metadata": {},
      "execution_count": 56,
      "outputs": [
        {
          "execution_count": 56,
          "output_type": "execute_result",
          "data": {
            "text/plain": [
              "Error Free    269\n",
              "Defective      31\n",
              "Name: Malta, dtype: int64"
            ]
          },
          "metadata": {}
        }
      ],
      "id": "e75a87c1"
    },
    {
      "cell_type": "code",
      "source": "India=data['India'].value_counts()\nIndia",
      "metadata": {},
      "execution_count": 57,
      "outputs": [
        {
          "execution_count": 57,
          "output_type": "execute_result",
          "data": {
            "text/plain": [
              "Error Free    280\n",
              "Defective      20\n",
              "Name: India, dtype: int64"
            ]
          },
          "metadata": {}
        }
      ],
      "id": "ef0a55bb"
    },
    {
      "cell_type": "code",
      "source": "statistic,p_val,df,exp_tab = stats.chi2_contingency([[271,267,269,280],[29,33,31,20]])\nround(p_val,4)",
      "metadata": {
        "scrolled": true
      },
      "execution_count": 59,
      "outputs": [
        {
          "execution_count": 59,
          "output_type": "execute_result",
          "data": {
            "text/plain": [
              "0.2771"
            ]
          },
          "metadata": {}
        }
      ],
      "id": "1bb6638b"
    },
    {
      "cell_type": "code",
      "source": "if pval < 0.05:\n    print('Reject the null hypothesis at 5% level of significance and conclude that , there is a significant association between centers and defectives.')\nelse:\n    print('Do not reject the null hypothesis at 5% level of significance and conclude that , there is no significant association between centers and defectives.')\n",
      "metadata": {},
      "execution_count": 60,
      "outputs": [
        {
          "name": "stdout",
          "output_type": "stream",
          "text": "Do not reject the null hypothesis at 5% level of significance and conclude that , there is no significant association between centers and defectives.\n"
        }
      ],
      "id": "ac48d97f"
    },
    {
      "cell_type": "markdown",
      "source": "### \nHence , p-value > 0.05 , at  5%  level of significance we do not reject the null hypothesis,and conclude that,\nthere is no significant association between centers and defectives.",
      "metadata": {},
      "id": "968750f7"
    },
    {
      "cell_type": "markdown",
      "source": "# =====================================================",
      "metadata": {},
      "id": "14dd6fd5"
    },
    {
      "cell_type": "markdown",
      "source": "# ",
      "metadata": {},
      "id": "70b132f4"
    }
  ]
}